{
 "cells": [
  {
   "cell_type": "markdown",
   "metadata": {},
   "source": [
    "# Getting Started"
   ]
  },
  {
   "cell_type": "markdown",
   "metadata": {},
   "source": [
    "<table align=\"left\">\n",
    "  <td>\n",
    "    <a href=\"https://colab.research.google.com/github/jchavezar/vertex-ai-samples/blob/main/gen_ai/demos/getting_started.ipynb\">\n",
    "      <img src=\"https://cloud.google.com/ml-engine/images/colab-logo-32px.png\" alt=\"Colab logo\"> Run in Colab\n",
    "    </a>\n",
    "  </td>\n",
    "</table>"
   ]
  },
  {
   "cell_type": "markdown",
   "metadata": {},
   "source": [
    "## Libraries \n",
    "*\"Don't forget to restart your kernel before next step\"*"
   ]
  },
  {
   "cell_type": "code",
   "execution_count": null,
   "metadata": {},
   "outputs": [],
   "source": [
    "!pip install -U google-cloud-aiplatform"
   ]
  },
  {
   "cell_type": "markdown",
   "metadata": {},
   "source": [
    "## Authentication"
   ]
  },
  {
   "cell_type": "code",
   "execution_count": null,
   "metadata": {},
   "outputs": [],
   "source": [
    "#@markdown ###Authenticate your Google Cloud Account and enable APIs.\n",
    "# Authenticate gcloud.\n",
    "from google.colab import auth\n",
    "auth.authenticate_user()\n",
    "\n",
    "project_id = \"[YOUR_PROJECT_ID  **REQUIRED**]\"  # @param {type:\"string\"}\n",
    "# Configure gcloud.\n",
    "!gcloud config set project {project_id} --quiet"
   ]
  },
  {
   "cell_type": "markdown",
   "metadata": {},
   "source": [
    "# LLM (PaLM V2)"
   ]
  },
  {
   "cell_type": "code",
   "execution_count": null,
   "metadata": {},
   "outputs": [],
   "source": [
    "import vertexai\n",
    "from vertexai.language_models import TextGenerationModel\n",
    "\n",
    "vertexai.init(project=\"vtxdemos\", location=\"us-central1\")\n",
    "parameters = {\n",
    "    \"temperature\": 0.2,\n",
    "    \"max_output_tokens\": 256,\n",
    "    \"top_p\": 0.8,\n",
    "    \"top_k\": 40\n",
    "}\n",
    "model = TextGenerationModel.from_pretrained(\"text-bison@001\")\n",
    "response = model.predict(\n",
    "    \"\"\"Define the categories for the text below?\n",
    "Options:\n",
    "- outdoor\n",
    "- health\n",
    "- aviation\n",
    "- cycling\n",
    "- automotive\n",
    "- fitness\n",
    "- marine\n",
    "- fish and hunt\n",
    "\n",
    "Text: When shopping for chartplotters that will work well with your unit, there are three factors to consider.\n",
    "Categories: fish and hunt, marine\n",
    "\n",
    "Text: Whether you’re planning short weekend getaways or longer cross-country adventures, bring a variety of tools to help plan your RV trip.\n",
    "Categories: automotive, outdoor\n",
    "\n",
    "Text: The skipper of the A Team, John, is on a mission to win the Vendée Globe ocean race. He\\'s relying on his team to help.\n",
    "Categories: marine\n",
    "\n",
    "Text: Are you sleeping better or worse than your peers? New data from recent smart watches show average sleep scores — and where yours may fit in.\n",
    "Categories: health\n",
    "\n",
    "Text: When Idaho State Highway 21 was closed by an avalanche, Mark and Kim Nero were stranded. They shared the story of how they got out.\n",
    "Categories: automotive, outdoor\n",
    "\n",
    "Text: The ways to practice self-care with a fitness watch are almost limitless, but here are six easy-to-implement tips to start today.\n",
    "Categories:\n",
    "\"\"\",\n",
    "    **parameters\n",
    ")\n",
    "print(f\"Response from Model: {response.text}\")"
   ]
  },
  {
   "cell_type": "code",
   "execution_count": null,
   "metadata": {},
   "outputs": [],
   "source": []
  }
 ],
 "metadata": {
  "language_info": {
   "name": "python"
  },
  "orig_nbformat": 4
 },
 "nbformat": 4,
 "nbformat_minor": 2
}
