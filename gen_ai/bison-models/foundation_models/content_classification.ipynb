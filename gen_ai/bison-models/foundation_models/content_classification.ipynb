{
 "cells": [
  {
   "cell_type": "markdown",
   "id": "21415d2b-6ec8-4164-ae18-1a203f95b952",
   "metadata": {},
   "source": [
    "# Model Garden | Content Classification"
   ]
  },
  {
   "cell_type": "markdown",
   "id": "371221df-6dd9-4c4c-987f-5c8f64a6a5b3",
   "metadata": {},
   "source": [
    "Google has 2 NLP versions:\n",
    "\n",
    "- *google/language_v1-classify_text_v2*\t\n",
    "- *google/language_v1-classify_text_v1*\t"
   ]
  },
  {
   "cell_type": "markdown",
   "id": "4742d1ed-683b-4235-a164-641269014178",
   "metadata": {},
   "source": [
    "## Function that Calls the  Prebuilt Model (NLP)"
   ]
  },
  {
   "cell_type": "code",
   "execution_count": 1,
   "id": "88641a7e-f903-44cb-902b-8152d3ef0f00",
   "metadata": {},
   "outputs": [],
   "source": [
    "from google.cloud import language_v1\n",
    "\n",
    "\n",
    "def sample_classify_text(text_content):\n",
    "    \"\"\"\n",
    "    Classifying Content in a String\n",
    "\n",
    "    Args:\n",
    "      text_content The text content to analyze.\n",
    "    \"\"\"\n",
    "\n",
    "    client = language_v1.LanguageServiceClient()\n",
    "\n",
    "    # text_content = \"That actor on TV makes movies in Hollywood and also stars in a variety of popular new TV shows.\"\n",
    "\n",
    "    # Available types: PLAIN_TEXT, HTML\n",
    "    type_ = language_v1.Document.Type.PLAIN_TEXT\n",
    "\n",
    "    language = \"en\"\n",
    "    document = {\"content\": text_content, \"type_\": type_, \"language\": language}\n",
    "\n",
    "    content_categories_version = (\n",
    "        language_v1.ClassificationModelOptions.V2Model.ContentCategoriesVersion.V2\n",
    "    )\n",
    "    response = client.classify_text(\n",
    "        request={\n",
    "            \"document\": document,\n",
    "            \"classification_model_options\": {\n",
    "                \"v2_model\": {\"content_categories_version\": content_categories_version}\n",
    "            },\n",
    "        }\n",
    "    )\n",
    "    # Loop through classified categories returned from the API\n",
    "    for category in response.categories:\n",
    "\n",
    "        print(\"Category name: {}\".format(category.name))\n",
    "        print(\"Confidence: {}\".format(category.confidence))"
   ]
  },
  {
   "cell_type": "markdown",
   "id": "25515ab8-4ec5-4c98-9c6f-87cd4d677ad0",
   "metadata": {},
   "source": [
    "## Loading Dataset from Google Cloud BigQuery (gdelt-bq.covid19.onlinenews)"
   ]
  },
  {
   "cell_type": "markdown",
   "id": "f04ef082-1ac2-407d-bc29-77e72cf222ac",
   "metadata": {},
   "source": [
    "2 steps:\n",
    "\n",
    "1. Load data from BigQuery\n",
    "2. Use the above function to classify"
   ]
  },
  {
   "cell_type": "code",
   "execution_count": 2,
   "id": "dc6eca3a-2210-4e55-8b32-8e36746791c5",
   "metadata": {},
   "outputs": [
    {
     "name": "stdout",
     "output_type": "stream",
     "text": [
      "################################ --- START -- ################################\n",
      "Prompt: This article is interesting for a number of reasons. The first is that the Department of Disease Control does not know what exactly is causing the worst wave of viral infection in China's history. The Communist Party of China has stopped all testing for Covid-19 and has released no information regarding sequencing or variant characterisation of the pathogen infecting millions of their citizens.\n",
      "Category name: /Health/Health Conditions/Infectious Diseases/Covid-19\n",
      "Confidence: 0.875003457069397\n",
      "Category name: /Health/Public Health/Other\n",
      "Confidence: 0.5517397522926331\n",
      "Category name: /News/Health News\n",
      "Confidence: 0.5002300143241882\n",
      "Category name: /Health/Medical Literature & Resources/Other\n",
      "Confidence: 0.21246251463890076\n",
      "Category name: /Health/Health Conditions/Infectious Diseases/Other\n",
      "Confidence: 0.10606330633163452\n",
      "################################ --- START -- ################################ \n",
      "\n",
      "\n",
      "\n",
      "################################ --- START -- ################################\n",
      "Prompt: The re-opening comes amidst a massive wave of infections nationwide and a day after authorities said nearly 60,000 people with COVID had died in hospital, following last month's abrupt U-turn on \"zero-COVID\" policy in the wake of historic protests. Despite the infections, some passengers voiced excitement and relief about being able to more easily return to their hometowns in time for the approaching Lunar New Year. A surge in travel ahead of the holiday celebrations set to begin on Jan. 21, as hundreds of millions of people return home from cities to small towns and rural areas, has fuelled worries about more infections. Saturday's updated death toll was a huge increase over previous figures, following global criticism of China's coronavirus data.\n",
      "Category name: /Health/Health Conditions/Infectious Diseases/Covid-19\n",
      "Confidence: 0.6843947172164917\n",
      "Category name: /Health/Public Health/Other\n",
      "Confidence: 0.591900646686554\n",
      "Category name: /News/Health News\n",
      "Confidence: 0.48656758666038513\n",
      "Category name: /News/Other\n",
      "Confidence: 0.21441300213336945\n",
      "Category name: /Health/Health Conditions/Infectious Diseases/Other\n",
      "Confidence: 0.13146036863327026\n",
      "Category name: /Sensitive Subjects/Death & Tragedy\n",
      "Confidence: 0.12634366750717163\n",
      "Category name: /Health/Public Health/Health Policy\n",
      "Confidence: 0.11182480305433273\n",
      "################################ --- START -- ################################ \n",
      "\n",
      "\n",
      "\n",
      "################################ --- START -- ################################\n",
      "Prompt: China, Hong Kong resume high-speed rail link after 3 years of COVID curbs 15/01/2023 10:21, Beijing/China (TAP) - China resumed on Sunday high-speed rail services between Hong Kong and the mainland for the first time since the beginning of the COVID-19 pandemic, as it dismantles travel curbs after Beijing scrapped quarantine for arrivals a week earlier. The re-opening comes amidst a massive wave of infections nationwide and a day after authorities said nearly 60,000 people with COVID had died in hospital, following last month's abrupt U-turn on \"zero-COVID\" policy in the wake of historic protests. Despite the infections, some passengers voiced excitement and relief about being able to more easily return to their hometowns in time for the approaching Lunar New Year. A surge in travel ahead \n",
      "Category name: /Travel & Transportation/Transportation/Long Distance Bus & Rail\n",
      "Confidence: 0.5357666015625\n",
      "Category name: /Health/Health Conditions/Infectious Diseases/Covid-19\n",
      "Confidence: 0.5207667350769043\n",
      "Category name: /Health/Public Health/Other\n",
      "Confidence: 0.37581899762153625\n",
      "Category name: /Business & Industrial/Shipping & Logistics/Freight Transport/Rail Freight\n",
      "Confidence: 0.29434841871261597\n",
      "Category name: /News/World News\n",
      "Confidence: 0.25138187408447266\n",
      "Category name: /News/Other\n",
      "Confidence: 0.24708284437656403\n",
      "Category name: /Health/Health Conditions/Infectious Diseases/Other\n",
      "Confidence: 0.19580264389514923\n",
      "Category name: /People & Society/Social Sciences/Political Science\n",
      "Confidence: 0.12487977743148804\n",
      "Category name: /Travel & Transportation/Transportation/Urban Transit\n",
      "Confidence: 0.11588795483112335\n",
      "################################ --- START -- ################################ \n",
      "\n",
      "\n",
      "\n",
      "################################ --- START -- ################################\n",
      "Prompt: The first is that the Department of Disease Control does not know what exactly is causing the worst wave of viral infection in China's history. The Communist Party of China has stopped all testing for Covid-19 and has released no information regarding sequencing or variant characterisation of the pathogen infecting millions of their citizens. Therefore, for the DDC to declare that risk is unlikely appears to be unwarranted based upon a lack of information.\n",
      "Category name: /Health/Health Conditions/Infectious Diseases/Covid-19\n",
      "Confidence: 0.9261950850486755\n",
      "Category name: /Health/Public Health/Other\n",
      "Confidence: 0.5532637238502502\n",
      "Category name: /News/Health News\n",
      "Confidence: 0.454883873462677\n",
      "Category name: /Health/Medical Literature & Resources/Other\n",
      "Confidence: 0.19533556699752808\n",
      "################################ --- START -- ################################ \n",
      "\n",
      "\n",
      "\n",
      "################################ --- START -- ################################\n",
      "Prompt: China, Hong Kong resume high-speed rail link after 3 years of COVID curbs 15/01/2023 10:21, Beijing/China (TAP) - China resumed on Sunday high-speed rail services between Hong Kong and the mainland for the first time since the beginning of the COVID-19 pandemic, as it dismantles travel curbs after Beijing scrapped quarantine for arrivals a week earlier. The re-opening comes amidst a massive wave of infections nationwide and a day after authorities said nearly 60,000 people with COVID had died in hospital, following last month's abrupt U-turn on \"zero-COVID\" policy in the wake of historic protests.\n",
      "Category name: /Health/Health Conditions/Infectious Diseases/Covid-19\n",
      "Confidence: 0.5193324685096741\n",
      "Category name: /Travel & Transportation/Transportation/Long Distance Bus & Rail\n",
      "Confidence: 0.47535058856010437\n",
      "Category name: /Health/Public Health/Other\n",
      "Confidence: 0.37705668807029724\n",
      "Category name: /Business & Industrial/Shipping & Logistics/Freight Transport/Rail Freight\n",
      "Confidence: 0.29269206523895264\n",
      "Category name: /News/World News\n",
      "Confidence: 0.2631329596042633\n",
      "Category name: /News/Other\n",
      "Confidence: 0.23609647154808044\n",
      "Category name: /People & Society/Social Sciences/Political Science\n",
      "Confidence: 0.1824188530445099\n",
      "Category name: /Health/Health Conditions/Infectious Diseases/Other\n",
      "Confidence: 0.1806420385837555\n",
      "Category name: /Travel & Transportation/Transportation/Urban Transit\n",
      "Confidence: 0.10352723300457001\n",
      "################################ --- START -- ################################ \n",
      "\n",
      "\n",
      "\n"
     ]
    }
   ],
   "source": [
    "from google.cloud import bigquery\n",
    "\n",
    "client = bigquery.Client(project=\"vtxdemos\")\n",
    "sql = \"SELECT * FROM gdelt-bq.covid19.onlinenews LIMIT 5\"\n",
    "dataset = client.query(sql).to_dataframe()\n",
    "\n",
    "for n, content in enumerate(dataset[\"Context\"].tolist()):\n",
    "    print(\"################################ --- START -- ################################\")\n",
    "    print(f\"Prompt: {content}\")\n",
    "    sample_classify_text(content)\n",
    "    print(\"################################ --- START -- ################################ \\n\\n\\n\")"
   ]
  },
  {
   "cell_type": "code",
   "execution_count": null,
   "id": "5b9aa6c8-166c-4abd-9ec3-d2394971452c",
   "metadata": {},
   "outputs": [],
   "source": []
  }
 ],
 "metadata": {
  "environment": {
   "kernel": "python3",
   "name": "common-cpu.m106",
   "type": "gcloud",
   "uri": "gcr.io/deeplearning-platform-release/base-cpu:m106"
  },
  "kernelspec": {
   "display_name": "Python 3",
   "language": "python",
   "name": "python3"
  },
  "language_info": {
   "codemirror_mode": {
    "name": "ipython",
    "version": 3
   },
   "file_extension": ".py",
   "mimetype": "text/x-python",
   "name": "python",
   "nbconvert_exporter": "python",
   "pygments_lexer": "ipython3",
   "version": "3.7.12"
  }
 },
 "nbformat": 4,
 "nbformat_minor": 5
}
