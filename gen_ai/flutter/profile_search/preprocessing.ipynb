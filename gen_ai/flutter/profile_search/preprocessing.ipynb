{
 "cells": [
  {
   "cell_type": "code",
   "execution_count": 1,
   "metadata": {
    "collapsed": false,
    "jupyter": {
     "outputs_hidden": false
    },
    "tags": []
   },
   "outputs": [],
   "source": [
    "import vertexai\n",
    "import numpy as np\n",
    "import pandas as pd\n",
    "from google.cloud import storage, aiplatform\n",
    "from vertexai.language_models import TextEmbeddingInput, TextEmbeddingModel\n",
    "from vertexai.generative_models import GenerativeModel\n",
    "import vertexai.generative_models as generative_models"
   ]
  },
  {
   "cell_type": "code",
   "execution_count": null,
   "metadata": {
    "collapsed": false,
    "jupyter": {
     "outputs_hidden": false
    },
    "tags": [],
    "pycharm": {
     "is_executing": true
    }
   },
   "outputs": [],
   "source": [
    "project = \"vtxdemos\"\n",
    "dataset = \"gs://vtxdemos-vsearch-datasets/stgwell_data/employees_v3.csv\"\n",
    "emb_model = TextEmbeddingModel.from_pretrained(\"text-embedding-004\")\n",
    "storage_client = storage.Client(project=project)\n",
    "vertexai.init(project=\"vtxdemos\", location=\"us-central1\")\n",
    "model = GenerativeModel(\"gemini-1.5-pro-001\",)"
   ]
  },
  {
   "cell_type": "code",
   "execution_count": 3,
   "metadata": {
    "collapsed": false,
    "jupyter": {
     "outputs_hidden": false
    },
    "tags": []
   },
   "outputs": [],
   "source": [
    "generation_config = {\n",
    "    \"max_output_tokens\": 8192,\n",
    "    \"temperature\": 1,\n",
    "    \"top_p\": 0.95,\n",
    "}\n",
    "\n",
    "safety_settings = {\n",
    "    generative_models.HarmCategory.HARM_CATEGORY_HATE_SPEECH: generative_models.HarmBlockThreshold.BLOCK_NONE,\n",
    "    generative_models.HarmCategory.HARM_CATEGORY_DANGEROUS_CONTENT: generative_models.HarmBlockThreshold.BLOCK_NONE,\n",
    "    generative_models.HarmCategory.HARM_CATEGORY_SEXUALLY_EXPLICIT: generative_models.HarmBlockThreshold.BLOCK_NONE,\n",
    "    generative_models.HarmCategory.HARM_CATEGORY_HARASSMENT: generative_models.HarmBlockThreshold.BLOCK_NONE,\n",
    "}"
   ]
  },
  {
   "cell_type": "code",
   "execution_count": 4,
   "metadata": {
    "collapsed": false,
    "jupyter": {
     "outputs_hidden": false
    },
    "tags": []
   },
   "outputs": [
    {
     "name": "stdout",
     "output_type": "stream",
     "text": [
      "<class 'pandas.core.frame.DataFrame'>\n",
      "RangeIndex: 12982 entries, 0 to 12981\n",
      "Data columns (total 35 columns):\n",
      " #   Column                 Non-Null Count  Dtype  \n",
      "---  ------                 --------------  -----  \n",
      " 0   id                     12982 non-null  object \n",
      " 1   email                  12981 non-null  object \n",
      " 2   name                   12982 non-null  object \n",
      " 3   first_name             9453 non-null   object \n",
      " 4   last_name              9453 non-null   object \n",
      " 5   job_title              12982 non-null  object \n",
      " 6   department             12103 non-null  object \n",
      " 7   company                12982 non-null  object \n",
      " 8   location               11019 non-null  object \n",
      " 9   office_address_1       12982 non-null  object \n",
      " 10  office_address_2       8731 non-null   object \n",
      " 11  city_state_zip         10602 non-null  object \n",
      " 12  created_at             12982 non-null  object \n",
      " 13  updated_at             12982 non-null  object \n",
      " 14  profile_picture        152 non-null    object \n",
      " 15  pronouns               155 non-null    object \n",
      " 16  phone_country_code     2790 non-null   float64\n",
      " 17  phone_number           156 non-null    object \n",
      " 18  timezone               241 non-null    object \n",
      " 19  linkedin_profile_url   190 non-null    object \n",
      " 20  facebook_profile_url   6 non-null      object \n",
      " 21  instagram_profile_url  19 non-null     object \n",
      " 22  x_profile_url          11 non-null     object \n",
      " 23  about_me               52 non-null     object \n",
      " 24  key_clients            66 non-null     object \n",
      " 25  skills_and_expertise   69 non-null     object \n",
      " 26  interests_and_hobbies  51 non-null     object \n",
      " 27  linkedin_profile       0 non-null      float64\n",
      " 28  crawled_at             4618 non-null   object \n",
      " 29  deleted_at             3538 non-null   object \n",
      " 30  linkedin_experiences   4618 non-null   object \n",
      " 31  linkedin_education     4618 non-null   object \n",
      " 32  linkedin_skills        4618 non-null   object \n",
      " 33  linkedin_interests     4618 non-null   object \n",
      " 34  linkedin_languages     4618 non-null   object \n",
      "dtypes: float64(2), object(33)\n",
      "memory usage: 3.5+ MB\n"
     ]
    }
   ],
   "source": [
    "df = pd.read_csv(dataset)\n",
    "df.info()"
   ]
  },
  {
   "cell_type": "code",
   "execution_count": 5,
   "metadata": {
    "collapsed": false,
    "jupyter": {
     "outputs_hidden": false
    },
    "tags": []
   },
   "outputs": [],
   "source": [
    "def llm_preprocess(context: str):\n",
    "  prompt = f\"\"\"Given the following structured data, generate a detailed and coherent paragraph that includes all the provided information. Ensure the paragraph is well-organized and flows naturally, highlighting key details such as names, dates, locations, events, descriptions, education, experience, skills and any other relevant information.\n",
    "  {context}\n",
    "  \"\"\"\n",
    "  response = model.generate_content(\n",
    "      [prompt],\n",
    "      generation_config=generation_config,\n",
    "      safety_settings=safety_settings,\n",
    "  )\n",
    "\n",
    "  try: return response.text\n",
    "  except: return \"non response from llm\""
   ]
  },
  {
   "cell_type": "code",
   "execution_count": null,
   "metadata": {
    "collapsed": false,
    "jupyter": {
     "outputs_hidden": false
    },
    "scrolled": true,
    "tags": []
   },
   "outputs": [],
   "source": [
    "embeddings_list = []\n",
    "text_for_embeddings = []\n",
    "\n",
    "df.dropna(axis=1, how='all', inplace=True)\n",
    "df = df.fillna(\"none information\")\n",
    "for index, row in df.iterrows():\n",
    "  text = {\n",
    "      \"id\": row[\"id\"],\n",
    "      \"email\": row[\"email\"],\n",
    "      \"first_name\": row[\"first_name\"],\n",
    "      \"last_name\": row[\"last_name\"],\n",
    "      \"name\": row[\"name\"],\n",
    "      \"job_title\": row[\"job_title\"],\n",
    "      \"department\": row[\"department\"],\n",
    "      \"company\": row[\"company\"],\n",
    "      \"location\": row[\"location\"],\n",
    "      \"office_address_1\": row[\"office_address_1\"],\n",
    "      \"office_address_2\": row[\"office_address_2\"],\n",
    "      \"city_state_zip\": row[\"city_state_zip\"],\n",
    "      \"phone_country_code\": row[\"phone_country_code\"],\n",
    "      \"linkedin_experiences\": row[\"linkedin_experiences\"],\n",
    "      \"linkedin_education\": row[\"linkedin_education\"],\n",
    "      \"linkedin_skills\": row[\"linkedin_skills\"],\n",
    "      \"linkedin_interests\": row[\"linkedin_interests\"],\n",
    "      \"linkedin_languages\": row[\"linkedin_languages\"],\n",
    "      \"created_at\": row[\"created_at\"],\n",
    "      \"updated_at\": row[\"updated_at\"],\n",
    "  }\n",
    "  r = llm_preprocess(text)\n",
    "  text_for_embeddings.append(text)\n",
    "  embeddings_list.append(emb_model.get_embeddings([TextEmbeddingInput(r, \"SEMANTIC_SIMILARITY\")])[0].values)\n",
    "  print(r)"
   ]
  },
  {
   "cell_type": "code",
   "execution_count": null,
   "metadata": {
    "collapsed": false,
    "jupyter": {
     "outputs_hidden": false
    },
    "tags": []
   },
   "outputs": [],
   "source": [
    "df[\"embedding\"] = embeddings_list\n",
    "df[\"gem_text\"] = text_for_embeddings"
   ]
  },
  {
   "cell_type": "code",
   "execution_count": null,
   "metadata": {
    "collapsed": false,
    "jupyter": {
     "outputs_hidden": false
    },
    "tags": []
   },
   "outputs": [],
   "source": [
    "df.to_csv(\"embeddings.csv\")"
   ]
  },
  {
   "cell_type": "code",
   "execution_count": null,
   "metadata": {
    "collapsed": false,
    "jupyter": {
     "outputs_hidden": false
    }
   },
   "outputs": [],
   "source": []
  }
 ],
 "metadata": {
  "environment": {
   "kernel": "conda-base-py",
   "name": "workbench-notebooks.m121",
   "type": "gcloud",
   "uri": "us-docker.pkg.dev/deeplearning-platform-release/gcr.io/workbench-notebooks:m121"
  },
  "kernelspec": {
   "display_name": "Python 3 (ipykernel)",
   "language": "python",
   "name": "conda-base-py"
  },
  "language_info": {
   "codemirror_mode": {
    "name": "ipython",
    "version": 3
   },
   "file_extension": ".py",
   "mimetype": "text/x-python",
   "name": "python",
   "nbconvert_exporter": "python",
   "pygments_lexer": "ipython3",
   "version": "3.10.14"
  }
 },
 "nbformat": 4,
 "nbformat_minor": 4
}
