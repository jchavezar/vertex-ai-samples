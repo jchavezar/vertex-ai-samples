{
  "cells": [
    {
      "cell_type": "code",
      "execution_count": null,
      "metadata": {
        "id": "uxCkB_DXTHzf"
      },
      "outputs": [],
      "source": [
        "# Copyright 2023 Google LLC\n",
        "#\n",
        "# Licensed under the Apache License, Version 2.0 (the \"License\");\n",
        "# you may not use this file except in compliance with the License.\n",
        "# You may obtain a copy of the License at\n",
        "#\n",
        "#     https://www.apache.org/licenses/LICENSE-2.0\n",
        "#\n",
        "# Unless required by applicable law or agreed to in writing, software\n",
        "# distributed under the License is distributed on an \"AS IS\" BASIS,\n",
        "# WITHOUT WARRANTIES OR CONDITIONS OF ANY KIND, either express or implied.\n",
        "# See the License for the specific language governing permissions and\n",
        "# limitations under the License.\n",
        "# Author: lavinigam@ sjangbahadur@"
      ]
    },
    {
      "cell_type": "markdown",
      "metadata": {
        "id": "Hny4I-ODTIS6"
      },
      "source": [
        "# Text Summarization of Large Documents\n",
        "\n",
        "\n",
        "<table align=\"left\">\n",
        "\n",
        "  <td>\n",
        "    <a href=\"https://colab.research.google.com/github/GoogleCloudPlatform/generative-ai/blob/main/language/examples/document-summarization/summarization_large_documents.ipynb\">\n",
        "      <img src=\"https://cloud.google.com/ml-engine/images/colab-logo-32px.png\" alt=\"Colab logo\"> Run in Colab\n",
        "    </a>\n",
        "  </td>\n",
        "  <td>\n",
        "    <a href=\"https://github.com/GoogleCloudPlatform/generative-ai/blob/main/language/examples/document-summarization/summarization_large_documents.ipynb\">\n",
        "      <img src=\"https://cloud.google.com/ml-engine/images/github-logo-32px.png\" alt=\"GitHub logo\">\n",
        "      View on GitHub\n",
        "    </a>\n",
        "  </td>\n",
        "  <td>\n",
        "    <a href=\"https://console.cloud.google.com/vertex-ai/workbench/deploy-notebook?download_url=https://raw.githubusercontent.com/GoogleCloudPlatform/generative-ai/main/language/examples/document-summarization/summarization_large_documents.ipynb\">\n",
        "      <img src=\"https://lh3.googleusercontent.com/UiNooY4LUgW_oTvpsNhPpQzsstV5W8F7rYgxgGBD85cWJoLmrOzhVs_ksK_vgx40SHs7jCqkTkCk=e14-rj-sc0xffffff-h130-w32\" alt=\"Vertex AI logo\">\n",
        "      Open in Vertex AI Workbench\n",
        "    </a>\n",
        "  </td>\n",
        "</table>"
      ]
    },
    {
      "cell_type": "markdown",
      "metadata": {
        "id": "-nLS57E2TO5y"
      },
      "source": [
        "## Overview\n",
        "\n",
        "Text summarization is the process of creating a shorter version of a text document while still preserving the most important information. This can be useful for a variety of purposes, such as quickly skimming a long document, getting the gist of an article, or sharing a summary with others.\n",
        "\n",
        "Although summarizing a short paragraph is a non-trivial task, there are a few challenges to overcome if you want to summarize a large document, such as a PDF file with multiple pages. In this notebook, you will go through a few examples of how you can use generative models to summarize large documents."
      ]
    },
    {
      "cell_type": "markdown",
      "metadata": {
        "id": "iXsvgIuwTPZw"
      },
      "source": [
        "### Objective\n",
        "\n",
        "In this tutorial, you will learn how to use generative models to summarize information from large documents (more than 30 pages) by working through the following methods:\n",
        "\n",
        "- Bucketed Map Reduce"
      ]
    },
    {
      "cell_type": "markdown",
      "metadata": {
        "id": "skXAu__iqks_"
      },
      "source": [
        "### Costs\n",
        "\n",
        "This tutorial uses billable components of Google Cloud:\n",
        "- Vertex AI Generative AI Studio\n",
        "\n",
        "Learn about [Vertex AI pricing](https://cloud.google.com/vertex-ai/pricing), [Generative AI pricing](https://cloud.google.com/vertex-ai/pricing#generative_ai_models), and use the [Pricing Calculator](https://cloud.google.com/products/calculator/) to generate a cost estimate based on your projected usage."
      ]
    },
    {
      "cell_type": "markdown",
      "metadata": {
        "id": "mvKl-BtQTRiQ"
      },
      "source": [
        "## Getting Started"
      ]
    },
    {
      "cell_type": "markdown",
      "metadata": {
        "id": "PwFMpIMrTV_4"
      },
      "source": [
        "### Install Vertex AI SDK, other packages and their dependencies"
      ]
    },
    {
      "cell_type": "code",
      "execution_count": null,
      "metadata": {
        "id": "WYUu8VMdJs3V",
        "colab": {
          "base_uri": "https://localhost:8080/"
        },
        "outputId": "73d2550b-796c-4f76-9bb0-7c8ee7ffbd0d"
      },
      "outputs": [
        {
          "output_type": "stream",
          "name": "stdout",
          "text": [
            "\u001b[?25l     \u001b[90m━━━━━━━━━━━━━━━━━━━━━━━━━━━━━━━━━━━━━━━━\u001b[0m \u001b[32m0.0/2.7 MB\u001b[0m \u001b[31m?\u001b[0m eta \u001b[36m-:--:--\u001b[0m\r\u001b[2K     \u001b[91m━━━\u001b[0m\u001b[90m╺\u001b[0m\u001b[90m━━━━━━━━━━━━━━━━━━━━━━━━━━━━━━━━━━━━\u001b[0m \u001b[32m0.2/2.7 MB\u001b[0m \u001b[31m5.9 MB/s\u001b[0m eta \u001b[36m0:00:01\u001b[0m\r\u001b[2K     \u001b[91m━━━━━━━━━━━━━━━━━━━━━━━━\u001b[0m\u001b[91m╸\u001b[0m\u001b[90m━━━━━━━━━━━━━━━\u001b[0m \u001b[32m1.7/2.7 MB\u001b[0m \u001b[31m24.0 MB/s\u001b[0m eta \u001b[36m0:00:01\u001b[0m\r\u001b[2K     \u001b[90m━━━━━━━━━━━━━━━━━━━━━━━━━━━━━━━━━━━━━━━━\u001b[0m \u001b[32m2.7/2.7 MB\u001b[0m \u001b[31m28.2 MB/s\u001b[0m eta \u001b[36m0:00:00\u001b[0m\n",
            "\u001b[?25h\u001b[?25l     \u001b[90m━━━━━━━━━━━━━━━━━━━━━━━━━━━━━━━━━━━━━━━━\u001b[0m \u001b[32m0.0/232.6 kB\u001b[0m \u001b[31m?\u001b[0m eta \u001b[36m-:--:--\u001b[0m\r\u001b[2K     \u001b[90m━━━━━━━━━━━━━━━━━━━━━━━━━━━━━━━━━━━━━━\u001b[0m \u001b[32m232.6/232.6 kB\u001b[0m \u001b[31m23.2 MB/s\u001b[0m eta \u001b[36m0:00:00\u001b[0m\n",
            "\u001b[?25h  Preparing metadata (setup.py) ... \u001b[?25l\u001b[?25hdone\n",
            "\u001b[2K     \u001b[90m━━━━━━━━━━━━━━━━━━━━━━━━━━━━━━━━━━━━━━\u001b[0m \u001b[32m321.3/321.3 kB\u001b[0m \u001b[31m35.0 MB/s\u001b[0m eta \u001b[36m0:00:00\u001b[0m\n",
            "\u001b[2K     \u001b[90m━━━━━━━━━━━━━━━━━━━━━━━━━━━━━━━━━━━━━━━━\u001b[0m \u001b[32m2.0/2.0 MB\u001b[0m \u001b[31m110.0 MB/s\u001b[0m eta \u001b[36m0:00:00\u001b[0m\n",
            "\u001b[?25h  Building wheel for ratelimit (setup.py) ... \u001b[?25l\u001b[?25hdone\n",
            "\u001b[33m  WARNING: The script tb-gcp-uploader is installed in '/root/.local/bin' which is not on PATH.\n",
            "  Consider adding this directory to PATH or, if you prefer to suppress this warning, use --no-warn-script-location.\u001b[0m\u001b[33m\n",
            "\u001b[0m"
          ]
        }
      ],
      "source": [
        "!pip install google-cloud-aiplatform PyPDF2 ratelimit backoff --upgrade --quiet --user"
      ]
    },
    {
      "cell_type": "markdown",
      "metadata": {
        "id": "jWwtjLV5TY6H"
      },
      "source": [
        "**Colab only**: Uncomment the following cell to restart the kernel. For Vertex AI Workbench you can restart the terminal using the button on top."
      ]
    },
    {
      "cell_type": "code",
      "execution_count": null,
      "metadata": {
        "id": "XRvKdaPDTznN",
        "colab": {
          "base_uri": "https://localhost:8080/"
        },
        "outputId": "a256402c-e9c8-4f1b-d1b8-d5fc30a01811"
      },
      "outputs": [
        {
          "output_type": "execute_result",
          "data": {
            "text/plain": [
              "{'status': 'ok', 'restart': True}"
            ]
          },
          "metadata": {},
          "execution_count": 3
        }
      ],
      "source": [
        "# # Automatically restart kernel after installs so that your environment can access the new packages\n",
        "import IPython\n",
        "\n",
        "app = IPython.Application.instance()\n",
        "app.kernel.do_shutdown(True)"
      ]
    },
    {
      "cell_type": "markdown",
      "metadata": {
        "id": "opUxT_k5TdgP"
      },
      "source": [
        "### Authenticating your notebook environment\n",
        "* If you are using **Colab** to run this notebook, uncomment the cell below and continue.\n",
        "* If you are using **Vertex AI Workbench**, check out the setup instructions [here](https://github.com/GoogleCloudPlatform/generative-ai/tree/main/setup-env)."
      ]
    },
    {
      "cell_type": "code",
      "execution_count": null,
      "metadata": {
        "id": "vbNgv4q1T2Mi"
      },
      "outputs": [],
      "source": [
        "from google.colab import auth\n",
        "auth.authenticate_user()"
      ]
    },
    {
      "cell_type": "markdown",
      "metadata": {
        "id": "n5fXfvzhTkYN"
      },
      "source": [
        "### Import libraries"
      ]
    },
    {
      "cell_type": "markdown",
      "metadata": {
        "id": "uCGlGzd1ihnf"
      },
      "source": [
        "**Colab only:** Uncomment the following cell to initialize the Vertex AI SDK. For Vertex AI Workbench, you don't need to run this."
      ]
    },
    {
      "cell_type": "code",
      "execution_count": null,
      "metadata": {
        "id": "GjSsu6cmUdEx"
      },
      "outputs": [],
      "source": [
        "import vertexai\n",
        "\n",
        "PROJECT_ID = \"\"  # @param {type:\"string\"}\n",
        "vertexai.init(project=PROJECT_ID, location=\"us-central1\")"
      ]
    },
    {
      "cell_type": "code",
      "execution_count": null,
      "metadata": {
        "id": "cRkcfnQMT9vD"
      },
      "outputs": [],
      "source": [
        "import re\n",
        "import urllib\n",
        "import warnings\n",
        "from pathlib import Path\n",
        "\n",
        "import backoff\n",
        "import pandas as pd\n",
        "import PyPDF2\n",
        "import ratelimit\n",
        "from google.api_core import exceptions\n",
        "from tqdm import tqdm\n",
        "from vertexai.preview.language_models import TextGenerationModel\n",
        "\n",
        "warnings.filterwarnings(\"ignore\")"
      ]
    },
    {
      "cell_type": "markdown",
      "metadata": {
        "id": "DAGaTjPVTmhP"
      },
      "source": [
        "### Import models\n",
        "\n",
        "Here you load the pre-trained text generation model called `text-bison@001`.\n"
      ]
    },
    {
      "cell_type": "code",
      "execution_count": null,
      "metadata": {
        "id": "ITUmZiNZcMUW"
      },
      "outputs": [],
      "source": [
        "generation_model = TextGenerationModel.from_pretrained(\"text-bison@001\")"
      ]
    },
    {
      "cell_type": "markdown",
      "metadata": {
        "id": "HZkLDRTjTcfm"
      },
      "source": [
        "### Preparing data files\n",
        "\n",
        "To begin, you will need to download a pdf file for the summarizing tasks below."
      ]
    },
    {
      "cell_type": "markdown",
      "metadata": {
        "id": "d_g1xzysoU18"
      },
      "source": [
        "Here you will take a peak at a few pages of the downloaded pdf file"
      ]
    },
    {
      "cell_type": "code",
      "execution_count": null,
      "metadata": {
        "id": "hLtMd97SoTBE",
        "colab": {
          "base_uri": "https://localhost:8080/"
        },
        "outputId": "a9d41dc5-0eab-4bb6-ed76-c355103fe92b"
      },
      "outputs": [
        {
          "output_type": "stream",
          "name": "stdout",
          "text": [
            "Page 0: Financial Stability Report\n",
            "Issue No. 27\n",
            "Reserve Bank of India \n",
            "June 2023 \n",
            "\n",
            "\n",
            "Page 1: © Reserve Bank of India  \n",
            "All rights reserved. Reproduction is permitted provided an acknowledgment of the source is made.\n",
            "The publication can also be accessed through Internet at https://www.rbi.org.in\n",
            "Feedback of this report may be mailed to cgmfsd@rbi.org.in\n",
            "Published by Financial Stability Department, Reserve Bank of India, Mumbai 400 001 and designed and printed at  \n",
            "ACME Packs & Prints (I) Pvt. Ltd., A Wing, Gala No.73, Virwani Industrial Estate, Goregaon - East, Mumbai - 400 063. \n",
            "\n",
            "\n",
            "Page 2: Foreword\n",
            "Over the last three years, the global economy has been navigating successive high-amplitude shocks: \n",
            "the COVID-19 pandemic waves; protracted geopolitical hostilities; rapid monetary policy tightening; and the \n",
            "recent banking turmoil. Economic fragmentation is threatening macroeconomic prospects, especially among \n",
            "emerging market and developing economies (EMDEs).\n",
            "Despite these heightened uncertainties and formidable headwinds, the Indian economy has made a \n",
            "solid recovery and is among the fastest growing large economies. In this fragile global milieu, balancing the \n",
            "policy trade-offs, preserving macroeconomic and financial stability, shoring up confidence and supporting \n",
            "sustainable growth are top priorities for policymakers world over. \n",
            "Since the last issue of the Financial Stability Report (FSR) in December 2022, the global and Indian \n",
            "financial systems have charted somewhat different trajectories. The global financial system has been impacted \n",
            "by significant strains since early March 2023 from the banking turmoil in the U.S. and Europe. In contrast, \n",
            "the financial sector in India has been stable and resilient, as reflected in sustained growth in bank credit, low \n",
            "levels of non-performing assets and adequate capital and liquidity buffers. Both banking and corporate sector \n",
            "balance sheets have been strengthened, engendering a ‘twin balance sheet advantage’ for growth1. The reach \n",
            "and depth of financial intermediation is being aided by technology and growing digitalisation, which provide \n",
            "new opportunities for growth and financial inclusion.\n",
            "As the recent banking turmoil in certain advanced economies (AEs) suggests, new risks have necessitated \n",
            "reassessment of global standards on financial sector regulations. While international cooperation among \n",
            "regulators on these issues is of paramount importance, so far as India is concerned, both regulators and \n",
            "regulated entities need to stay the course with an unwavering commitment to ensuring a stable financial \n",
            "system. It has to be remembered that seeds of vulnerability often get sown during good times when risks tend \n",
            "to get overlooked2.\n",
            "International cooperation and regulatory focus are also needed to tackle other challenges such as cyber \n",
            "risks and climate change. Through its G20 presidency, India is striving to improve the efficacy of multilateralism \n",
            "in several such areas. These efforts are fittingly captured in India’s theme for G20: One Earth, One Family, \n",
            "One Future .\n",
            "Financial stability is non-negotiable and all stakeholders in the financial system must work to preserve \n",
            "this at all times. The Reserve Bank and the other financial regulators remain steadfast in their commitment to \n",
            "safeguard financial stability in the face of potential and emerging challenges. \n",
            "Shaktikanta Das  \n",
            "Governor\n",
            "June 28, 2023\n",
            "1 Das, Shaktikanta (2023), Minutes of the Monetary Policy Committee Meeting, June 6 to 8.\n",
            "2 Das, Shaktikanta (2023), “Governance in Banks: Driving Sustainable Growth and Stability”, Inaugural Address at the Conference of Directors of Banks \n",
            "organised by the Reserve Bank of India for Public Sector and Private Sector Banks, May. \n",
            "\n",
            "\n"
          ]
        }
      ],
      "source": [
        "# Read the PDF file and create a list of pages\n",
        "reader = PyPDF2.PdfReader(\"<UPLOAD YOUR PDF or LINK YOUR PDF PATH>\")\n",
        "pages = reader.pages\n",
        "\n",
        "# Print three pages from the pdf\n",
        "for i in range(3):\n",
        "    text = pages[i].extract_text().strip()\n",
        "    print(f\"Page {i}: {text} \\n\\n\")"
      ]
    },
    {
      "cell_type": "markdown",
      "metadata": {
        "id": "wOY5LHl9Js3Y"
      },
      "source": [
        "### Adding rate limit to model calls\n",
        "\n",
        "When you use MapReduce or other similar methods, you will be making multiple API calls to the model in a short period of time. There is a limit on the number of API calls you can make per minute, so you will need to add a safety measure to your code to prevent exceeding the limit. This will help to ensure that your code runs smoothly and does not encounter any errors.\n",
        "\n",
        "For this method, here are a few specific things that you will do:\n",
        "1. You will make use of a Python library called [ratelimit](https://pypi.org/project/ratelimit/) to limit the number of API calls per minute\n",
        "2. You will make use of a Python library called [backoff](https://pypi.org/project/backoff/) to retry until the maximum time limit has reached\n",
        "\n",
        "The following function improves the API call process by limiting the number of calls to **20 per minute**. It also back offs and retries calling the API after encountering **Resource Exhausted** exception. The wait duration grows **exponentially until the 5-minute mark**, and then the function will give up on retrying."
      ]
    },
    {
      "cell_type": "code",
      "execution_count": null,
      "metadata": {
        "id": "0uziSPeEJs3Y"
      },
      "outputs": [],
      "source": [
        "CALL_LIMIT = 20  # Number of calls to allow within a period\n",
        "ONE_MINUTE = 60  # One minute in seconds\n",
        "FIVE_MINUTE = 5 * ONE_MINUTE\n",
        "\n",
        "# A function to print a message when the function is retrying\n",
        "def backoff_hdlr(details):\n",
        "    print(\n",
        "        \"Backing off {} seconds after {} tries\".format(\n",
        "            details[\"wait\"], details[\"tries\"]\n",
        "        )\n",
        "    )\n",
        "\n",
        "\n",
        "@backoff.on_exception(  # Retry with exponential backoff strategy when exceptions occur\n",
        "    backoff.expo,\n",
        "    (\n",
        "        exceptions.ResourceExhausted,\n",
        "        ratelimit.RateLimitException,\n",
        "    ),  # Exceptions to retry on\n",
        "    max_time=FIVE_MINUTE,\n",
        "    on_backoff=backoff_hdlr,  # Function to call when retrying\n",
        ")\n",
        "@ratelimit.limits(  # Limit the number of calls to the model per minute\n",
        "    calls=CALL_LIMIT, period=ONE_MINUTE\n",
        ")\n",
        "\n",
        "# This function will call the `generation_model.predict` function, but it will retry if defined exceptions occur.\n",
        "def model_with_limit_and_backoff(**kwargs):\n",
        "    return generation_model.predict(**kwargs)"
      ]
    },
    {
      "cell_type": "markdown",
      "metadata": {
        "id": "RM3V1JARZ9-k"
      },
      "source": [
        "## Method 5: Bucket MapReduce\n"
      ]
    },
    {
      "cell_type": "markdown",
      "source": [
        "![Screenshot 2023-07-28 10.51.40 AM.png](data:image/png;base64,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)"
      ],
      "metadata": {
        "id": "5ncc6zKb8je7"
      }
    },
    {
      "cell_type": "code",
      "execution_count": null,
      "metadata": {
        "id": "fs4rmcL-Js3Y"
      },
      "outputs": [],
      "source": [
        "initial_prompt_template = \"\"\"\n",
        "    As a finanical expert, write a concise summary of the following text delimited by triple backquotes. Include financial stats as well in the summary.\n",
        "\n",
        "    ```{text}```\n",
        "\n",
        "    CONCISE SUMMARY:\n",
        "\"\"\"\n",
        "\n",
        "first_reduce_prompt_template = \"\"\"\n",
        "    As a finanical expert, write a concise summary of the following text delimited by triple backquotes. Include financial stats as well in the summary.\n",
        "    ```{text}```\n",
        "\n",
        "    BULLET POINT SUMMARY:\n",
        "\"\"\""
      ]
    },
    {
      "cell_type": "code",
      "source": [
        "#Bucket Building Logic\n",
        "def divide_pages(n_pages, buckets):\n",
        "  \"\"\"\n",
        "  Divides n_pages into buckets.\n",
        "\n",
        "  Args:\n",
        "    n_pages: The number of pages to divide.\n",
        "    buckets: The number of buckets to divide the pages into.\n",
        "\n",
        "  Returns:\n",
        "    A list of tuples, where each tuple contains the start and end page number of a bucket.\n",
        "  \"\"\"\n",
        "  bucket_list = []\n",
        "  start_page = 1\n",
        "  end_page = buckets\n",
        "  while start_page < n_pages:\n",
        "    bucket_list.append((start_page, min(end_page, n_pages)))\n",
        "    start_page = end_page + 1\n",
        "    end_page = start_page + buckets\n",
        "\n",
        "  return bucket_list"
      ],
      "metadata": {
        "id": "s95HRlTRgkev"
      },
      "execution_count": null,
      "outputs": []
    },
    {
      "cell_type": "code",
      "source": [
        "n_pages = len(pages) # this should be ideally greater than 50\n",
        "element_in_buckets = 30 #this should not be more than 20/30 ; n_pages >> buckets # number of pages in each_bucket\n",
        "bucket_list = divide_pages(n_pages, element_in_buckets)\n",
        "print(bucket_list)"
      ],
      "metadata": {
        "colab": {
          "base_uri": "https://localhost:8080/"
        },
        "id": "IuM-tFTkgnEs",
        "outputId": "86fec7ec-5284-4ac6-bfba-6dbb30f31885"
      },
      "execution_count": null,
      "outputs": [
        {
          "output_type": "stream",
          "name": "stdout",
          "text": [
            "[(1, 30), (31, 61), (62, 92), (93, 123), (124, 154), (155, 179)]\n"
          ]
        }
      ]
    },
    {
      "cell_type": "markdown",
      "source": [
        "### Step 1 - Map at Bucket Level"
      ],
      "metadata": {
        "id": "x1htP0eYXAaw"
      }
    },
    {
      "cell_type": "code",
      "source": [
        "bucket_summary_dict = {}\n",
        "exclude_page_list = [1,2,3,20,30] # WHAT PAGES TO EXCLUDE IN THE PROCESS\n",
        "\n",
        "for bucket_index, i_page in enumerate(bucket_list):  #for each bucket\n",
        "\n",
        "  start, end = i_page\n",
        "  bucket_summary_dict[bucket_index+1] = {}\n",
        "\n",
        "  # if bucket_index in [0,1,2]:   #Debug Mode\n",
        "\n",
        "  for page_number in range(start, end):\n",
        "    # Inside Bucket - LOCAL MAP\n",
        "\n",
        "    # Excluding pages\n",
        "    if page_number not in exclude_page_list:\n",
        "\n",
        "      # Extract the text from the page and remove any leading or trailing whitespace\n",
        "      text = pages[page_number].extract_text().strip()\n",
        "\n",
        "      # Create a prompt for the model using the extracted text and a prompt template\n",
        "      prompt = initial_prompt_template.format(text=text)\n",
        "\n",
        "      # Generate a summary using the model and the prompt\n",
        "      summary = model_with_limit_and_backoff(prompt=prompt, max_output_tokens=1024).text\n",
        "\n",
        "      # Append the summary to the list of summaries\n",
        "      bucket_summary_dict[bucket_index+1][page_number] = summary"
      ],
      "metadata": {
        "id": "P8EdVvSQQ39H",
        "colab": {
          "base_uri": "https://localhost:8080/"
        },
        "outputId": "2e1e5308-e8d3-47c2-a07e-6858f1ffc050"
      },
      "execution_count": null,
      "outputs": [
        {
          "output_type": "stream",
          "name": "stderr",
          "text": [
            "INFO:backoff:Backing off model_with_limit_and_backoff(...) for 0.3s (ratelimit.exception.RateLimitException: too many calls)\n"
          ]
        },
        {
          "output_type": "stream",
          "name": "stdout",
          "text": [
            "Backing off 0.3496602870178662 seconds after 1 tries\n"
          ]
        },
        {
          "output_type": "stream",
          "name": "stderr",
          "text": [
            "INFO:backoff:Backing off model_with_limit_and_backoff(...) for 0.9s (ratelimit.exception.RateLimitException: too many calls)\n"
          ]
        },
        {
          "output_type": "stream",
          "name": "stdout",
          "text": [
            "Backing off 0.9164830043516166 seconds after 2 tries\n"
          ]
        },
        {
          "output_type": "stream",
          "name": "stderr",
          "text": [
            "INFO:backoff:Backing off model_with_limit_and_backoff(...) for 1.0s (ratelimit.exception.RateLimitException: too many calls)\n"
          ]
        },
        {
          "output_type": "stream",
          "name": "stdout",
          "text": [
            "Backing off 0.971143287429773 seconds after 3 tries\n"
          ]
        },
        {
          "output_type": "stream",
          "name": "stderr",
          "text": [
            "INFO:backoff:Backing off model_with_limit_and_backoff(...) for 6.9s (ratelimit.exception.RateLimitException: too many calls)\n"
          ]
        },
        {
          "output_type": "stream",
          "name": "stdout",
          "text": [
            "Backing off 6.863184286434848 seconds after 4 tries\n"
          ]
        },
        {
          "output_type": "stream",
          "name": "stderr",
          "text": [
            "INFO:backoff:Backing off model_with_limit_and_backoff(...) for 1.9s (ratelimit.exception.RateLimitException: too many calls)\n"
          ]
        },
        {
          "output_type": "stream",
          "name": "stdout",
          "text": [
            "Backing off 1.8999014759395596 seconds after 5 tries\n"
          ]
        },
        {
          "output_type": "stream",
          "name": "stderr",
          "text": [
            "INFO:backoff:Backing off model_with_limit_and_backoff(...) for 19.2s (ratelimit.exception.RateLimitException: too many calls)\n"
          ]
        },
        {
          "output_type": "stream",
          "name": "stdout",
          "text": [
            "Backing off 19.248429963017482 seconds after 6 tries\n"
          ]
        },
        {
          "output_type": "stream",
          "name": "stderr",
          "text": [
            "INFO:backoff:Backing off model_with_limit_and_backoff(...) for 0.1s (ratelimit.exception.RateLimitException: too many calls)\n",
            "INFO:backoff:Backing off model_with_limit_and_backoff(...) for 0.2s (ratelimit.exception.RateLimitException: too many calls)\n"
          ]
        },
        {
          "output_type": "stream",
          "name": "stdout",
          "text": [
            "Backing off 0.13913266327497276 seconds after 1 tries\n",
            "Backing off 0.19344198711950678 seconds after 2 tries\n"
          ]
        },
        {
          "output_type": "stream",
          "name": "stderr",
          "text": [
            "INFO:backoff:Backing off model_with_limit_and_backoff(...) for 2.1s (ratelimit.exception.RateLimitException: too many calls)\n"
          ]
        },
        {
          "output_type": "stream",
          "name": "stdout",
          "text": [
            "Backing off 2.0964446658198272 seconds after 3 tries\n"
          ]
        },
        {
          "output_type": "stream",
          "name": "stderr",
          "text": [
            "INFO:backoff:Backing off model_with_limit_and_backoff(...) for 5.1s (ratelimit.exception.RateLimitException: too many calls)\n"
          ]
        },
        {
          "output_type": "stream",
          "name": "stdout",
          "text": [
            "Backing off 5.062021391510348 seconds after 4 tries\n"
          ]
        },
        {
          "output_type": "stream",
          "name": "stderr",
          "text": [
            "INFO:backoff:Backing off model_with_limit_and_backoff(...) for 14.0s (ratelimit.exception.RateLimitException: too many calls)\n"
          ]
        },
        {
          "output_type": "stream",
          "name": "stdout",
          "text": [
            "Backing off 13.97529231376658 seconds after 5 tries\n"
          ]
        },
        {
          "output_type": "stream",
          "name": "stderr",
          "text": [
            "INFO:backoff:Backing off model_with_limit_and_backoff(...) for 28.6s (ratelimit.exception.RateLimitException: too many calls)\n"
          ]
        },
        {
          "output_type": "stream",
          "name": "stdout",
          "text": [
            "Backing off 28.578845889550102 seconds after 6 tries\n"
          ]
        },
        {
          "output_type": "stream",
          "name": "stderr",
          "text": [
            "INFO:backoff:Backing off model_with_limit_and_backoff(...) for 0.9s (ratelimit.exception.RateLimitException: too many calls)\n"
          ]
        },
        {
          "output_type": "stream",
          "name": "stdout",
          "text": [
            "Backing off 0.861065038774311 seconds after 1 tries\n"
          ]
        },
        {
          "output_type": "stream",
          "name": "stderr",
          "text": [
            "INFO:backoff:Backing off model_with_limit_and_backoff(...) for 0.7s (ratelimit.exception.RateLimitException: too many calls)\n"
          ]
        },
        {
          "output_type": "stream",
          "name": "stdout",
          "text": [
            "Backing off 0.7250308398080672 seconds after 2 tries\n"
          ]
        },
        {
          "output_type": "stream",
          "name": "stderr",
          "text": [
            "INFO:backoff:Backing off model_with_limit_and_backoff(...) for 3.2s (ratelimit.exception.RateLimitException: too many calls)\n"
          ]
        },
        {
          "output_type": "stream",
          "name": "stdout",
          "text": [
            "Backing off 3.2422103925135968 seconds after 3 tries\n"
          ]
        },
        {
          "output_type": "stream",
          "name": "stderr",
          "text": [
            "INFO:backoff:Backing off model_with_limit_and_backoff(...) for 2.2s (ratelimit.exception.RateLimitException: too many calls)\n"
          ]
        },
        {
          "output_type": "stream",
          "name": "stdout",
          "text": [
            "Backing off 2.1554214669796687 seconds after 4 tries\n"
          ]
        },
        {
          "output_type": "stream",
          "name": "stderr",
          "text": [
            "INFO:backoff:Backing off model_with_limit_and_backoff(...) for 7.5s (ratelimit.exception.RateLimitException: too many calls)\n"
          ]
        },
        {
          "output_type": "stream",
          "name": "stdout",
          "text": [
            "Backing off 7.49254880907845 seconds after 5 tries\n"
          ]
        },
        {
          "output_type": "stream",
          "name": "stderr",
          "text": [
            "INFO:backoff:Backing off model_with_limit_and_backoff(...) for 28.8s (ratelimit.exception.RateLimitException: too many calls)\n"
          ]
        },
        {
          "output_type": "stream",
          "name": "stdout",
          "text": [
            "Backing off 28.846370367257904 seconds after 6 tries\n"
          ]
        },
        {
          "output_type": "stream",
          "name": "stderr",
          "text": [
            "INFO:backoff:Backing off model_with_limit_and_backoff(...) for 0.6s (ratelimit.exception.RateLimitException: too many calls)\n"
          ]
        },
        {
          "output_type": "stream",
          "name": "stdout",
          "text": [
            "Backing off 0.5772623023139375 seconds after 1 tries\n"
          ]
        },
        {
          "output_type": "stream",
          "name": "stderr",
          "text": [
            "INFO:backoff:Backing off model_with_limit_and_backoff(...) for 0.3s (ratelimit.exception.RateLimitException: too many calls)\n"
          ]
        },
        {
          "output_type": "stream",
          "name": "stdout",
          "text": [
            "Backing off 0.28147391888690887 seconds after 2 tries\n"
          ]
        },
        {
          "output_type": "stream",
          "name": "stderr",
          "text": [
            "INFO:backoff:Backing off model_with_limit_and_backoff(...) for 3.4s (ratelimit.exception.RateLimitException: too many calls)\n"
          ]
        },
        {
          "output_type": "stream",
          "name": "stdout",
          "text": [
            "Backing off 3.4425988488518375 seconds after 3 tries\n"
          ]
        },
        {
          "output_type": "stream",
          "name": "stderr",
          "text": [
            "INFO:backoff:Backing off model_with_limit_and_backoff(...) for 6.2s (ratelimit.exception.RateLimitException: too many calls)\n"
          ]
        },
        {
          "output_type": "stream",
          "name": "stdout",
          "text": [
            "Backing off 6.15678203943661 seconds after 4 tries\n"
          ]
        },
        {
          "output_type": "stream",
          "name": "stderr",
          "text": [
            "INFO:backoff:Backing off model_with_limit_and_backoff(...) for 10.2s (ratelimit.exception.RateLimitException: too many calls)\n"
          ]
        },
        {
          "output_type": "stream",
          "name": "stdout",
          "text": [
            "Backing off 10.184995203646192 seconds after 5 tries\n"
          ]
        },
        {
          "output_type": "stream",
          "name": "stderr",
          "text": [
            "INFO:backoff:Backing off model_with_limit_and_backoff(...) for 5.4s (ratelimit.exception.RateLimitException: too many calls)\n"
          ]
        },
        {
          "output_type": "stream",
          "name": "stdout",
          "text": [
            "Backing off 5.394079175436968 seconds after 6 tries\n"
          ]
        },
        {
          "output_type": "stream",
          "name": "stderr",
          "text": [
            "INFO:backoff:Backing off model_with_limit_and_backoff(...) for 0.5s (ratelimit.exception.RateLimitException: too many calls)\n"
          ]
        },
        {
          "output_type": "stream",
          "name": "stdout",
          "text": [
            "Backing off 0.4790414254730322 seconds after 1 tries\n"
          ]
        },
        {
          "output_type": "stream",
          "name": "stderr",
          "text": [
            "INFO:backoff:Backing off model_with_limit_and_backoff(...) for 1.5s (ratelimit.exception.RateLimitException: too many calls)\n"
          ]
        },
        {
          "output_type": "stream",
          "name": "stdout",
          "text": [
            "Backing off 1.5083226758895778 seconds after 2 tries\n"
          ]
        },
        {
          "output_type": "stream",
          "name": "stderr",
          "text": [
            "INFO:backoff:Backing off model_with_limit_and_backoff(...) for 3.2s (ratelimit.exception.RateLimitException: too many calls)\n"
          ]
        },
        {
          "output_type": "stream",
          "name": "stdout",
          "text": [
            "Backing off 3.21534611172289 seconds after 3 tries\n"
          ]
        },
        {
          "output_type": "stream",
          "name": "stderr",
          "text": [
            "INFO:backoff:Backing off model_with_limit_and_backoff(...) for 0.8s (ratelimit.exception.RateLimitException: too many calls)\n"
          ]
        },
        {
          "output_type": "stream",
          "name": "stdout",
          "text": [
            "Backing off 0.791037027970134 seconds after 4 tries\n"
          ]
        },
        {
          "output_type": "stream",
          "name": "stderr",
          "text": [
            "INFO:backoff:Backing off model_with_limit_and_backoff(...) for 5.3s (ratelimit.exception.RateLimitException: too many calls)\n"
          ]
        },
        {
          "output_type": "stream",
          "name": "stdout",
          "text": [
            "Backing off 5.317310042522758 seconds after 5 tries\n"
          ]
        },
        {
          "output_type": "stream",
          "name": "stderr",
          "text": [
            "INFO:backoff:Backing off model_with_limit_and_backoff(...) for 2.6s (ratelimit.exception.RateLimitException: too many calls)\n"
          ]
        },
        {
          "output_type": "stream",
          "name": "stdout",
          "text": [
            "Backing off 2.622312366469412 seconds after 6 tries\n"
          ]
        },
        {
          "output_type": "stream",
          "name": "stderr",
          "text": [
            "INFO:backoff:Backing off model_with_limit_and_backoff(...) for 58.2s (ratelimit.exception.RateLimitException: too many calls)\n"
          ]
        },
        {
          "output_type": "stream",
          "name": "stdout",
          "text": [
            "Backing off 58.247092389972536 seconds after 7 tries\n"
          ]
        },
        {
          "output_type": "stream",
          "name": "stderr",
          "text": [
            "INFO:backoff:Backing off model_with_limit_and_backoff(...) for 0.4s (ratelimit.exception.RateLimitException: too many calls)\n"
          ]
        },
        {
          "output_type": "stream",
          "name": "stdout",
          "text": [
            "Backing off 0.44634820967030964 seconds after 1 tries\n"
          ]
        },
        {
          "output_type": "stream",
          "name": "stderr",
          "text": [
            "INFO:backoff:Backing off model_with_limit_and_backoff(...) for 1.5s (ratelimit.exception.RateLimitException: too many calls)\n"
          ]
        },
        {
          "output_type": "stream",
          "name": "stdout",
          "text": [
            "Backing off 1.4802629536401508 seconds after 2 tries\n"
          ]
        },
        {
          "output_type": "stream",
          "name": "stderr",
          "text": [
            "INFO:backoff:Backing off model_with_limit_and_backoff(...) for 2.1s (ratelimit.exception.RateLimitException: too many calls)\n"
          ]
        },
        {
          "output_type": "stream",
          "name": "stdout",
          "text": [
            "Backing off 2.069203504536577 seconds after 3 tries\n"
          ]
        },
        {
          "output_type": "stream",
          "name": "stderr",
          "text": [
            "INFO:backoff:Backing off model_with_limit_and_backoff(...) for 1.2s (ratelimit.exception.RateLimitException: too many calls)\n"
          ]
        },
        {
          "output_type": "stream",
          "name": "stdout",
          "text": [
            "Backing off 1.1838211137801053 seconds after 4 tries\n"
          ]
        },
        {
          "output_type": "stream",
          "name": "stderr",
          "text": [
            "INFO:backoff:Backing off model_with_limit_and_backoff(...) for 5.6s (ratelimit.exception.RateLimitException: too many calls)\n"
          ]
        },
        {
          "output_type": "stream",
          "name": "stdout",
          "text": [
            "Backing off 5.551025929906734 seconds after 5 tries\n"
          ]
        },
        {
          "output_type": "stream",
          "name": "stderr",
          "text": [
            "INFO:backoff:Backing off model_with_limit_and_backoff(...) for 28.0s (ratelimit.exception.RateLimitException: too many calls)\n"
          ]
        },
        {
          "output_type": "stream",
          "name": "stdout",
          "text": [
            "Backing off 28.034839669941835 seconds after 6 tries\n"
          ]
        },
        {
          "output_type": "stream",
          "name": "stderr",
          "text": [
            "INFO:backoff:Backing off model_with_limit_and_backoff(...) for 0.4s (ratelimit.exception.RateLimitException: too many calls)\n"
          ]
        },
        {
          "output_type": "stream",
          "name": "stdout",
          "text": [
            "Backing off 0.3680507403941863 seconds after 1 tries\n"
          ]
        },
        {
          "output_type": "stream",
          "name": "stderr",
          "text": [
            "INFO:backoff:Backing off model_with_limit_and_backoff(...) for 0.5s (ratelimit.exception.RateLimitException: too many calls)\n"
          ]
        },
        {
          "output_type": "stream",
          "name": "stdout",
          "text": [
            "Backing off 0.504792445660327 seconds after 2 tries\n"
          ]
        },
        {
          "output_type": "stream",
          "name": "stderr",
          "text": [
            "INFO:backoff:Backing off model_with_limit_and_backoff(...) for 0.3s (ratelimit.exception.RateLimitException: too many calls)\n"
          ]
        },
        {
          "output_type": "stream",
          "name": "stdout",
          "text": [
            "Backing off 0.2536055514067739 seconds after 3 tries\n"
          ]
        },
        {
          "output_type": "stream",
          "name": "stderr",
          "text": [
            "INFO:backoff:Backing off model_with_limit_and_backoff(...) for 2.7s (ratelimit.exception.RateLimitException: too many calls)\n"
          ]
        },
        {
          "output_type": "stream",
          "name": "stdout",
          "text": [
            "Backing off 2.7439562365136663 seconds after 4 tries\n"
          ]
        },
        {
          "output_type": "stream",
          "name": "stderr",
          "text": [
            "INFO:backoff:Backing off model_with_limit_and_backoff(...) for 10.1s (ratelimit.exception.RateLimitException: too many calls)\n"
          ]
        },
        {
          "output_type": "stream",
          "name": "stdout",
          "text": [
            "Backing off 10.086583502096222 seconds after 5 tries\n"
          ]
        },
        {
          "output_type": "stream",
          "name": "stderr",
          "text": [
            "INFO:backoff:Backing off model_with_limit_and_backoff(...) for 1.5s (ratelimit.exception.RateLimitException: too many calls)\n"
          ]
        },
        {
          "output_type": "stream",
          "name": "stdout",
          "text": [
            "Backing off 1.5454686175643886 seconds after 6 tries\n"
          ]
        },
        {
          "output_type": "stream",
          "name": "stderr",
          "text": [
            "INFO:backoff:Backing off model_with_limit_and_backoff(...) for 40.9s (ratelimit.exception.RateLimitException: too many calls)\n"
          ]
        },
        {
          "output_type": "stream",
          "name": "stdout",
          "text": [
            "Backing off 40.85576038724582 seconds after 7 tries\n"
          ]
        },
        {
          "output_type": "stream",
          "name": "stderr",
          "text": [
            "INFO:backoff:Backing off model_with_limit_and_backoff(...) for 0.6s (ratelimit.exception.RateLimitException: too many calls)\n"
          ]
        },
        {
          "output_type": "stream",
          "name": "stdout",
          "text": [
            "Backing off 0.5839013445025182 seconds after 1 tries\n"
          ]
        },
        {
          "output_type": "stream",
          "name": "stderr",
          "text": [
            "INFO:backoff:Backing off model_with_limit_and_backoff(...) for 1.9s (ratelimit.exception.RateLimitException: too many calls)\n"
          ]
        },
        {
          "output_type": "stream",
          "name": "stdout",
          "text": [
            "Backing off 1.8810078462324702 seconds after 2 tries\n"
          ]
        },
        {
          "output_type": "stream",
          "name": "stderr",
          "text": [
            "INFO:backoff:Backing off model_with_limit_and_backoff(...) for 3.9s (ratelimit.exception.RateLimitException: too many calls)\n"
          ]
        },
        {
          "output_type": "stream",
          "name": "stdout",
          "text": [
            "Backing off 3.8872938847296816 seconds after 3 tries\n"
          ]
        },
        {
          "output_type": "stream",
          "name": "stderr",
          "text": [
            "INFO:backoff:Backing off model_with_limit_and_backoff(...) for 7.4s (ratelimit.exception.RateLimitException: too many calls)\n"
          ]
        },
        {
          "output_type": "stream",
          "name": "stdout",
          "text": [
            "Backing off 7.420590371373339 seconds after 4 tries\n"
          ]
        }
      ]
    },
    {
      "cell_type": "markdown",
      "source": [
        "### Reduce at Bucket Level; Reduction/Bucket"
      ],
      "metadata": {
        "id": "wCoRDD5kXItx"
      }
    },
    {
      "cell_type": "code",
      "source": [
        "bucket_map_reduce_sumamry = {}\n",
        "for key, value in bucket_summary_dict.items():\n",
        "    concat_summary = \"\\n\".join(value.values())\n",
        "    # Create a prompt for the model using the concatenated text and a prompt template\n",
        "    prompt = first_reduce_prompt_template.format(text=concat_summary)\n",
        "\n",
        "    # Generate a summary using the model and the prompt\n",
        "    final_summary = model_with_limit_and_backoff(prompt=prompt, max_output_tokens=1024).text\n",
        "    bucket_map_reduce_sumamry[key] = final_summary"
      ],
      "metadata": {
        "id": "3GgKy9gz04tx"
      },
      "execution_count": null,
      "outputs": []
    },
    {
      "cell_type": "code",
      "source": [
        "pd.DataFrame.from_dict(bucket_map_reduce_sumamry, orient='index')"
      ],
      "metadata": {
        "colab": {
          "base_uri": "https://localhost:8080/",
          "height": 237
        },
        "id": "ksI52_NzRsCj",
        "outputId": "315e40ff-e523-4959-d05b-a46241434de6"
      },
      "execution_count": null,
      "outputs": [
        {
          "output_type": "execute_result",
          "data": {
            "text/plain": [
              "                                                   0\n",
              "1  The Indian economy is resilient, supported by ...\n",
              "2  The Indian economy is recovering and is expect...\n",
              "3                                                   \n",
              "4  - The Indian banking system is stable, with st...\n",
              "5  The Financial Stability Report June 2023, publ...\n",
              "6  The Financial Stability Report June 2023 inclu..."
            ],
            "text/html": [
              "\n",
              "\n",
              "  <div id=\"df-26d6ca11-4e37-4560-bedb-a476d0448f06\">\n",
              "    <div class=\"colab-df-container\">\n",
              "      <div>\n",
              "<style scoped>\n",
              "    .dataframe tbody tr th:only-of-type {\n",
              "        vertical-align: middle;\n",
              "    }\n",
              "\n",
              "    .dataframe tbody tr th {\n",
              "        vertical-align: top;\n",
              "    }\n",
              "\n",
              "    .dataframe thead th {\n",
              "        text-align: right;\n",
              "    }\n",
              "</style>\n",
              "<table border=\"1\" class=\"dataframe\">\n",
              "  <thead>\n",
              "    <tr style=\"text-align: right;\">\n",
              "      <th></th>\n",
              "      <th>0</th>\n",
              "    </tr>\n",
              "  </thead>\n",
              "  <tbody>\n",
              "    <tr>\n",
              "      <th>1</th>\n",
              "      <td>The Indian economy is resilient, supported by ...</td>\n",
              "    </tr>\n",
              "    <tr>\n",
              "      <th>2</th>\n",
              "      <td>The Indian economy is recovering and is expect...</td>\n",
              "    </tr>\n",
              "    <tr>\n",
              "      <th>3</th>\n",
              "      <td></td>\n",
              "    </tr>\n",
              "    <tr>\n",
              "      <th>4</th>\n",
              "      <td>- The Indian banking system is stable, with st...</td>\n",
              "    </tr>\n",
              "    <tr>\n",
              "      <th>5</th>\n",
              "      <td>The Financial Stability Report June 2023, publ...</td>\n",
              "    </tr>\n",
              "    <tr>\n",
              "      <th>6</th>\n",
              "      <td>The Financial Stability Report June 2023 inclu...</td>\n",
              "    </tr>\n",
              "  </tbody>\n",
              "</table>\n",
              "</div>\n",
              "      <button class=\"colab-df-convert\" onclick=\"convertToInteractive('df-26d6ca11-4e37-4560-bedb-a476d0448f06')\"\n",
              "              title=\"Convert this dataframe to an interactive table.\"\n",
              "              style=\"display:none;\">\n",
              "\n",
              "  <svg xmlns=\"http://www.w3.org/2000/svg\" height=\"24px\"viewBox=\"0 0 24 24\"\n",
              "       width=\"24px\">\n",
              "    <path d=\"M0 0h24v24H0V0z\" fill=\"none\"/>\n",
              "    <path d=\"M18.56 5.44l.94 2.06.94-2.06 2.06-.94-2.06-.94-.94-2.06-.94 2.06-2.06.94zm-11 1L8.5 8.5l.94-2.06 2.06-.94-2.06-.94L8.5 2.5l-.94 2.06-2.06.94zm10 10l.94 2.06.94-2.06 2.06-.94-2.06-.94-.94-2.06-.94 2.06-2.06.94z\"/><path d=\"M17.41 7.96l-1.37-1.37c-.4-.4-.92-.59-1.43-.59-.52 0-1.04.2-1.43.59L10.3 9.45l-7.72 7.72c-.78.78-.78 2.05 0 2.83L4 21.41c.39.39.9.59 1.41.59.51 0 1.02-.2 1.41-.59l7.78-7.78 2.81-2.81c.8-.78.8-2.07 0-2.86zM5.41 20L4 18.59l7.72-7.72 1.47 1.35L5.41 20z\"/>\n",
              "  </svg>\n",
              "      </button>\n",
              "\n",
              "\n",
              "\n",
              "    <div id=\"df-56284b5d-af7e-4bf9-b40b-f8c922b354a0\">\n",
              "      <button class=\"colab-df-quickchart\" onclick=\"quickchart('df-56284b5d-af7e-4bf9-b40b-f8c922b354a0')\"\n",
              "              title=\"Suggest charts.\"\n",
              "              style=\"display:none;\">\n",
              "\n",
              "<svg xmlns=\"http://www.w3.org/2000/svg\" height=\"24px\"viewBox=\"0 0 24 24\"\n",
              "     width=\"24px\">\n",
              "    <g>\n",
              "        <path d=\"M19 3H5c-1.1 0-2 .9-2 2v14c0 1.1.9 2 2 2h14c1.1 0 2-.9 2-2V5c0-1.1-.9-2-2-2zM9 17H7v-7h2v7zm4 0h-2V7h2v10zm4 0h-2v-4h2v4z\"/>\n",
              "    </g>\n",
              "</svg>\n",
              "      </button>\n",
              "    </div>\n",
              "\n",
              "<style>\n",
              "  .colab-df-quickchart {\n",
              "    background-color: #E8F0FE;\n",
              "    border: none;\n",
              "    border-radius: 50%;\n",
              "    cursor: pointer;\n",
              "    display: none;\n",
              "    fill: #1967D2;\n",
              "    height: 32px;\n",
              "    padding: 0 0 0 0;\n",
              "    width: 32px;\n",
              "  }\n",
              "\n",
              "  .colab-df-quickchart:hover {\n",
              "    background-color: #E2EBFA;\n",
              "    box-shadow: 0px 1px 2px rgba(60, 64, 67, 0.3), 0px 1px 3px 1px rgba(60, 64, 67, 0.15);\n",
              "    fill: #174EA6;\n",
              "  }\n",
              "\n",
              "  [theme=dark] .colab-df-quickchart {\n",
              "    background-color: #3B4455;\n",
              "    fill: #D2E3FC;\n",
              "  }\n",
              "\n",
              "  [theme=dark] .colab-df-quickchart:hover {\n",
              "    background-color: #434B5C;\n",
              "    box-shadow: 0px 1px 3px 1px rgba(0, 0, 0, 0.15);\n",
              "    filter: drop-shadow(0px 1px 2px rgba(0, 0, 0, 0.3));\n",
              "    fill: #FFFFFF;\n",
              "  }\n",
              "</style>\n",
              "\n",
              "    <script>\n",
              "      async function quickchart(key) {\n",
              "        const containerElement = document.querySelector('#' + key);\n",
              "        const charts = await google.colab.kernel.invokeFunction(\n",
              "            'suggestCharts', [key], {});\n",
              "      }\n",
              "    </script>\n",
              "\n",
              "      <script>\n",
              "\n",
              "function displayQuickchartButton(domScope) {\n",
              "  let quickchartButtonEl =\n",
              "    domScope.querySelector('#df-56284b5d-af7e-4bf9-b40b-f8c922b354a0 button.colab-df-quickchart');\n",
              "  quickchartButtonEl.style.display =\n",
              "    google.colab.kernel.accessAllowed ? 'block' : 'none';\n",
              "}\n",
              "\n",
              "        displayQuickchartButton(document);\n",
              "      </script>\n",
              "      <style>\n",
              "    .colab-df-container {\n",
              "      display:flex;\n",
              "      flex-wrap:wrap;\n",
              "      gap: 12px;\n",
              "    }\n",
              "\n",
              "    .colab-df-convert {\n",
              "      background-color: #E8F0FE;\n",
              "      border: none;\n",
              "      border-radius: 50%;\n",
              "      cursor: pointer;\n",
              "      display: none;\n",
              "      fill: #1967D2;\n",
              "      height: 32px;\n",
              "      padding: 0 0 0 0;\n",
              "      width: 32px;\n",
              "    }\n",
              "\n",
              "    .colab-df-convert:hover {\n",
              "      background-color: #E2EBFA;\n",
              "      box-shadow: 0px 1px 2px rgba(60, 64, 67, 0.3), 0px 1px 3px 1px rgba(60, 64, 67, 0.15);\n",
              "      fill: #174EA6;\n",
              "    }\n",
              "\n",
              "    [theme=dark] .colab-df-convert {\n",
              "      background-color: #3B4455;\n",
              "      fill: #D2E3FC;\n",
              "    }\n",
              "\n",
              "    [theme=dark] .colab-df-convert:hover {\n",
              "      background-color: #434B5C;\n",
              "      box-shadow: 0px 1px 3px 1px rgba(0, 0, 0, 0.15);\n",
              "      filter: drop-shadow(0px 1px 2px rgba(0, 0, 0, 0.3));\n",
              "      fill: #FFFFFF;\n",
              "    }\n",
              "  </style>\n",
              "\n",
              "      <script>\n",
              "        const buttonEl =\n",
              "          document.querySelector('#df-26d6ca11-4e37-4560-bedb-a476d0448f06 button.colab-df-convert');\n",
              "        buttonEl.style.display =\n",
              "          google.colab.kernel.accessAllowed ? 'block' : 'none';\n",
              "\n",
              "        async function convertToInteractive(key) {\n",
              "          const element = document.querySelector('#df-26d6ca11-4e37-4560-bedb-a476d0448f06');\n",
              "          const dataTable =\n",
              "            await google.colab.kernel.invokeFunction('convertToInteractive',\n",
              "                                                     [key], {});\n",
              "          if (!dataTable) return;\n",
              "\n",
              "          const docLinkHtml = 'Like what you see? Visit the ' +\n",
              "            '<a target=\"_blank\" href=https://colab.research.google.com/notebooks/data_table.ipynb>data table notebook</a>'\n",
              "            + ' to learn more about interactive tables.';\n",
              "          element.innerHTML = '';\n",
              "          dataTable['output_type'] = 'display_data';\n",
              "          await google.colab.output.renderOutput(dataTable, element);\n",
              "          const docLink = document.createElement('div');\n",
              "          docLink.innerHTML = docLinkHtml;\n",
              "          element.appendChild(docLink);\n",
              "        }\n",
              "      </script>\n",
              "    </div>\n",
              "  </div>\n"
            ]
          },
          "metadata": {},
          "execution_count": 36
        }
      ]
    },
    {
      "cell_type": "code",
      "source": [
        "print(bucket_map_reduce_sumamry[1])"
      ],
      "metadata": {
        "colab": {
          "base_uri": "https://localhost:8080/"
        },
        "id": "qefnWC5tIr3V",
        "outputId": "194ff74f-aaa3-494a-c5f7-bd5c676dc75d"
      },
      "execution_count": null,
      "outputs": [
        {
          "output_type": "stream",
          "name": "stdout",
          "text": [
            "The Indian economy is resilient, supported by strong macroeconomic fundamentals.\n",
            "The Indian financial system is sound and resilient, with banks well-capitalised and all banks would be able to comply with the minimum capital requirements even under adverse stress scenarios.\n",
            "The financial system is resilient, with risks from global spillovers remaining high. The Systemic Risk Survey showed that risk across most categories that contribute to domestic systemic risk have receded. Risk from global spillovers, however, remained in the ‘high’ risk category with more than half of the respondents expressing falling confidence in the stability of the global financial system. Tightening of global financial conditions, global growth slowdown and volatility in capital flows were cited as major risks. 94 per cent of the respondents expressed confidence in the Indian financial system with more than half of the respondents assessing improved domestic banking sector prospects over a one-year horizon.\n"
          ]
        }
      ]
    },
    {
      "cell_type": "markdown",
      "source": [
        "### Reduction of All Bucket"
      ],
      "metadata": {
        "id": "P8-RhpGpXsxR"
      }
    },
    {
      "cell_type": "code",
      "source": [
        "final_bullet_prompt_template = \"\"\"\n",
        "    Write a summary of the following text delimited by triple backquotes.\n",
        "    Return your response in atleast ten bullet points which covers all the key points of the text.\n",
        "\n",
        "    ```{text}```\n",
        "\n",
        "    BULLET POINT SUMMARY:\n",
        "\"\"\""
      ],
      "metadata": {
        "id": "0RSgcrTtxMRs"
      },
      "execution_count": null,
      "outputs": []
    },
    {
      "cell_type": "code",
      "source": [
        "#Final MapReduce\n",
        "concat_summary =\"\"\n",
        "concat_summary = \"\\n\".join(bucket_map_reduce_sumamry.values())\n",
        "print(concat_summary)\n",
        "# Create a prompt for the model using the concatenated text and a prompt template\n",
        "prompt = final_bullet_prompt_template.format(text=concat_summary)\n",
        "\n",
        "# Generate a summary using the model and the prompt\n",
        "final_summary = model_with_limit_and_backoff(prompt=prompt, max_output_tokens=1024).text\n",
        "print(\"\\n Final summary:\\n\")\n",
        "print(final_summary)"
      ],
      "metadata": {
        "colab": {
          "base_uri": "https://localhost:8080/"
        },
        "id": "JvGkAspFJGOW",
        "outputId": "47884494-1d29-49b5-ffb8-a53f9899e895"
      },
      "execution_count": null,
      "outputs": [
        {
          "output_type": "stream",
          "name": "stdout",
          "text": [
            "The Indian economy is resilient, supported by strong macroeconomic fundamentals.\n",
            "The Indian financial system is sound and resilient, with banks well-capitalised and all banks would be able to comply with the minimum capital requirements even under adverse stress scenarios.\n",
            "The financial system is resilient, with risks from global spillovers remaining high. The Systemic Risk Survey showed that risk across most categories that contribute to domestic systemic risk have receded. Risk from global spillovers, however, remained in the ‘high’ risk category with more than half of the respondents expressing falling confidence in the stability of the global financial system. Tightening of global financial conditions, global growth slowdown and volatility in capital flows were cited as major risks. 94 per cent of the respondents expressed confidence in the Indian financial system with more than half of the respondents assessing improved domestic banking sector prospects over a one-year horizon.\n",
            "The Indian economy is recovering and is expected to grow by 6.5% in 2023-24.\n",
            "The recovery is being driven by both private and government consumption demand, rising investment and improving consumer and business optimism.\n",
            "The Indian financial market is stable, with both debt and equity-oriented schemes reporting net inflows in April 2023.\n",
            "The Indian banking system is in a healthy state, with low levels of non-performing loans and adequate capital and liquidity buffers.\n",
            "The credit to GDP gap in India is lower than that of advanced and emerging market peers.\n",
            "Retail loans grew at a compounded annual growth rate (CAGR) of 24.8 per cent from March 2021 to March 2023, almost double the CAGR of 13.8 per cent for gross advances during the same period.\n",
            "Although the GNPA ratio of retail loans at the system level was low at 1.4 per cent in March 2023, the share of special mention accounts (SMA) was relatively high at 7.4 per cent for SCBs and it accounted for a tenth of the retail assets portfolio.\n",
            "\n",
            "- The Indian banking system is stable, with strong capital buffers and asset quality.\n",
            "- Credit growth has outpaced the rise in deposits over the last one year, and both are growing in double digits.\n",
            "- Macro stress tests indicate that SCBs have sufficient capital buffers to withstand moderate to severe adverse macroeconomic circumstances, though some individual banks may fall short of minimum capital requirements (including the CCB), under a severe stress scenario.\n",
            "- An extreme scenario of a 250 bps upward movement in the yield curve may bring down the CRAR of a few banks below the regulatory minimum level.\n",
            "- Network analysis indicates that contagion risks and consequent additional solvency losses have reduced since the last issue of the FSR. There would be no additional solvency losses to the banking system from contagion due to macroeconomic shocks.\n",
            "- As global financial conditions and the geopolitical situation remain highly uncertain, the Indian financial system needs to adopt a nimble and pre-emptive approach to ward off any signs of incipient stress that appear in early warning indicators, maintain soundness and public confidence and meet the financing requirements of India’s developmental aspirations.\n",
            "The Financial Stability Report June 2023, published by the Reserve Bank of India, assesses the state of the financial system in India. The report finds that the financial system is sound and stable, with no major risks identified. However, the report does note that there are some areas of concern, such as the high level of non-performing loans in the banking sector. The report also highlights the need for continued vigilance in the financial sector, in order to maintain stability.\n",
            "\n",
            "Here are some of the key findings of the report:\n",
            "\n",
            "* The Indian economy is expected to grow at a rate of 7.2% in 2023-24.\n",
            "* The banking sector is sound and well-capitalized.\n",
            "* The capital markets are volatile, but they remain resilient.\n",
            "* The main risks to the financial system are from external factors, such as the war in Ukraine and the COVID-19 pandemic.\n",
            "The Financial Stability Report June 2023 includes the following regulations:\n",
            "\n",
            "* RBI allows insurance companies to participate as \"fourth participant\" in TReDS enabling financiers to hedge default risks.\n",
            "* All entities/institutions eligible to undertake factoring business under the Factoring Regulation Act are now permitted to participate as financiers in TReDS adding to the availability of financiers on TReDS platforms.\n",
            "* Secondary market operations are now enabled on TReDS platforms providing financiers the option to offload their existing portfolio to other financiers within the same TReDS platform, if required.\n",
            "* TReDS platform operators shall now be permitted to undertake settlement of all Factoring Units – financed/discounted or otherwise – using the NACH mechanism used for TReDS.\n",
            "* RBI further extended the special dispensation of enhanced held to maturity (HTM) limit of 23 per cent of net demand and time liabilities (NDTL) up to March 31, 2024 and allow banks to include securities acquired between September 01, 2020 and March 31, 2024 under the enhanced limit. The enhanced HTM limit of 23 per cent shall be restored to 19.5 percent in a phased manner, beginning from the quarter ending June 30, 2024 till March 31, 2025.\n",
            "* RBI permitted resident individuals to open foreign currency account (FCA) in IFSCs, for making the permissible investments under LRS. Further, the condition of repatriating any funds lying idle in the account for a period up to 15 days from the date of its receipt is also withdrawn with immediate effect.\n",
            "* RBI permitted AD Cat-I banks operating IFSC Banking Units (IBUs) to offer INR NDDCs to resident non-retail users for the purpose of hedging. These banks will have the flexibility of settling their NDDC transactions with non-residents and with each other in foreign currency or in INR while transactions with residents will be mandatorily settled in INR.\n",
            "* RBI has revised the provisioning norms for standard assets by primary (Urban) Co-operative banks. The new norms are as follows:\n",
            "\n",
            "Sl. No.Category of Standard Asset Rate of Provisioning (per cent)\n",
            "Tier IITier IRevised (for all Tiers under four-tiered regulatory framework)\n",
            "(a) Direct advances to Agriculture and SME sectors0.25 0.25 0.25\n",
            "(b) Commercial Real Estate (CRE) sector1.00 1.00 1.00\n",
            "(c) Commercial Real Estate-Residential Housing Sector (CRE-RH)0.75 0.75 0.75\n",
            "(d) All other loans and advances not included above0.40 0.25 0.40\n",
            "\n",
            " Final summary:\n",
            "\n",
            "The Indian economy is resilient, supported by strong macroeconomic fundamentals.\n",
            "The Indian financial system is sound and resilient, with banks well-capitalised and all banks would be able to comply with the minimum capital requirements even under adverse stress scenarios.\n",
            "The financial system is resilient, with risks from global spillovers remaining high.\n",
            "The Indian economy is recovering and is expected to grow by 6.5% in 2023-24.\n",
            "The recovery is being driven by both private and government consumption demand, rising investment and improving consumer and business optimism.\n",
            "The Indian financial market is stable, with both debt and equity-oriented schemes reporting net inflows in April 2023.\n",
            "The Indian banking system is in a healthy state, with low levels of non-performing loans and adequate capital and liquidity buffers.\n",
            "The credit to GDP gap in India is lower than that of advanced and emerging market peers.\n",
            "Retail loans grew at a compounded annual growth rate (CAGR) of 24.8 per cent from March 2021 to March 2023, almost double the CAGR of 13.8 per cent for gross advances during the same period.\n",
            "Although the GNPA ratio of retail loans at the system level was low at 1.4 per cent in March 2023, the share of special mention accounts (SMA) was relatively high at 7.4 per cent for SCBs and it accounted for a tenth of the retail assets portfolio.\n"
          ]
        }
      ]
    },
    {
      "cell_type": "code",
      "source": [
        "#Only select selected page (not all pages are releavnt all the time). Like Index, TOC last pages etc. *****\n",
        "#What are the key points extracted for each page/chunk. Persist that in dictionary/json ****\n",
        "#Final REDUCE OF ALL BUCKETS"
      ],
      "metadata": {
        "id": "Fo-Ji10Aevi1"
      },
      "execution_count": null,
      "outputs": []
    }
  ],
  "metadata": {
    "colab": {
      "provenance": []
    },
    "kernelspec": {
      "display_name": "Python 3",
      "name": "python3"
    }
  },
  "nbformat": 4,
  "nbformat_minor": 0
}