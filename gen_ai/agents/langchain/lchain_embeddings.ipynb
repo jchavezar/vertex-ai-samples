{
 "cells": [
  {
   "attachments": {},
   "cell_type": "markdown",
   "metadata": {},
   "source": [
    "![](load_qa_chain.png)"
   ]
  },
  {
   "cell_type": "code",
   "execution_count": 1,
   "metadata": {},
   "outputs": [],
   "source": [
    "PROJECT_ID = \"cloud-llm-preview1\"  # @param {type:\"string\"}\n",
    "LOCATION = \"us-central1\" # @param {type:\"string\"}\n",
    "\n",
    "import langchain\n",
    "from google.cloud import aiplatform\n",
    "import vertexai\n",
    "vertexai.init(project=PROJECT_ID, location=LOCATION)\n",
    "\n",
    "from genai import VertexLLM, VertexChat, VertexMultiTurnChat, VertexEmbeddings\n",
    "\n",
    "REQUESTS_PER_MINUTE = 100\n",
    "\n",
    "llm = VertexLLM(\n",
    "    model_name='text-bison@001',\n",
    "    max_output_tokens=256,\n",
    "    temperature=0.1,\n",
    "    top_p=0.8,\n",
    "    top_k=40,\n",
    "    verbose=True,\n",
    ")\n",
    "\n",
    "chat = VertexChat()\n",
    "\n",
    "mchat = VertexMultiTurnChat(max_output_tokens=1024)\n",
    "\n",
    "embedding = VertexEmbeddings(requests_per_minute=REQUESTS_PER_MINUTE)"
   ]
  },
  {
   "cell_type": "code",
   "execution_count": 2,
   "metadata": {},
   "outputs": [
    {
     "data": {
      "text/plain": [
       "VertexEmbeddings(model_name='textembedding-gecko@001', model=<class 'vertexai.language_models._language_models.TextEmbeddingModel'>, requests_per_minute=100)"
      ]
     },
     "execution_count": 2,
     "metadata": {},
     "output_type": "execute_result"
    }
   ],
   "source": [
    "embedding"
   ]
  },
  {
   "cell_type": "code",
   "execution_count": 5,
   "metadata": {},
   "outputs": [],
   "source": [
    "# Ingest PDF files\n",
    "from langchain.document_loaders import PyPDFLoader\n",
    "\n",
    "# Load GOOG's 10K annual report (92 pages).\n",
    "url = \"https://storage.googleapis.com/vtxdemos-datasets-public/20230203_alphabet_10K.pdf/20230203_alphabet_10K.pdf\"\n",
    "loader = PyPDFLoader(url)\n",
    "documents = loader.load()"
   ]
  },
  {
   "cell_type": "code",
   "execution_count": 6,
   "metadata": {},
   "outputs": [
    {
     "name": "stdout",
     "output_type": "stream",
     "text": [
      "# of documents = 451\n"
     ]
    }
   ],
   "source": [
    "# split the documents into chunks\n",
    "from langchain.text_splitter import RecursiveCharacterTextSplitter\n",
    "\n",
    "text_splitter = RecursiveCharacterTextSplitter(chunk_size=1000, chunk_overlap=0)\n",
    "docs = text_splitter.split_documents(documents)\n",
    "print(f\"# of documents = {len(docs)}\")"
   ]
  },
  {
   "cell_type": "code",
   "execution_count": 7,
   "metadata": {},
   "outputs": [
    {
     "name": "stdout",
     "output_type": "stream",
     "text": [
      "Waiting\n",
      "................................................................................................................................................................................................................................."
     ]
    }
   ],
   "source": [
    "# Store docs in local vectorstore as index\n",
    "# it may take a while since API is rate limited\n",
    "from langchain.vectorstores import Chroma\n",
    "\n",
    "db = Chroma.from_documents(docs, embedding)"
   ]
  },
  {
   "cell_type": "code",
   "execution_count": 8,
   "metadata": {},
   "outputs": [],
   "source": [
    "# Expose index to the retriever\n",
    "retriever = db.as_retriever(\n",
    "    search_type=\"similarity\",\n",
    "    search_kwargs={\"k\":2})"
   ]
  },
  {
   "cell_type": "code",
   "execution_count": 9,
   "metadata": {},
   "outputs": [
    {
     "name": "stdout",
     "output_type": "stream",
     "text": [
      "Waiting\n",
      "{'query': \"What was Alphabet's net income in 2022?\", 'result': \"The question is asking for Alphabet's net income in 2022. However, the document only provides information for the years 2016, 2017, and 2018. Therefore, the answer to the question is not available.\", 'source_documents': [Document(page_content='6/27/23, 8:19 AM Document\\nhttps://www .sec.gov/Ar chives/edgar/data/1652044/000165204419000004/goog10-kq42018.htm 84/154Table of Contents Alphabet Inc.\\nAlphabet Inc.\\nCONSOLIDATED STATEMENTS OF INCOME\\n(In millions, except per share amounts)\\n Year Ended December 31,\\n 2016  2017  2018\\nRevenues $ 90,272 $ 110,855 $ 136,819\\nCosts and expenses:    \\nCost of revenues 35,138 45,583 59,549\\nResearch and development 13,948 16,625 21,419\\nSales and marketing 10,485 12,893 16,333\\nGeneral and administrative 6,985 6,872 8,126\\nEuropean Commission fines 0 2,736 5,071\\nTotal costs and expenses 66,556 84,709 110,498\\nIncome from operations 23,716 26,146 26,321\\nOther income (expense), net 434 1,047 8,592\\nIncome before income taxes 24,150 27,193 34,913\\nProvision for income taxes 4,672 14,531 4,177\\nNet income $ 19,478 $ 12,662 $ 30,736\\n    \\nBasic net income per share of Class A and B common stock and Class C\\ncapital stock $ 28.32 $ 18.27 $ 44.22', metadata={'source': '/tmp/tmp982ig_95/tmp.pdf', 'page': 83}), Document(page_content='6/27/23, 8:19 AM Document\\nhttps://www .sec.gov/Ar chives/edgar/data/1652044/000165204419000004/goog10-kq42018.htm 56/154Table of Contents Alphabet Inc.\\nOther Bets\\nThe following table presents our Other Bets revenues (in millions):\\n Year Ended December 31,\\n 2016 2017  2018\\nOther Bets revenues $ 288 $ 477 $ 595\\nOther Bets revenues as a percentage of total revenues 0.3% 0.4% 0.4%\\nOther Bets revenues consist primarily of revenues and sales from internet and TV services as well as licensing and\\nR&D services.\\nOur Other Bets revenues increased $118 million from 2017 to 2018 and increased $189 million from 2016 to 2017.\\nThese increases were primarily driven by revenues from sales of Access internet and TV services and revenues from\\nVerily licensing and R&D services.\\nRevenues by Geography\\nThe following table presents our revenues by geography as a percentage of revenues, determined based on the\\naddresses of our customers:\\n Year Ended December 31,\\n 2016 2017  2018\\nUnited States 47% 47% 46%', metadata={'source': '/tmp/tmp982ig_95/tmp.pdf', 'page': 55})]}\n"
     ]
    }
   ],
   "source": [
    "# Create chain to answer questions\n",
    "from langchain.chains import RetrievalQA\n",
    "\n",
    "# Uses LLM to synthesize results from the search index.\n",
    "# We use Vertex PaLM Text API for LLM\n",
    "qa = RetrievalQA.from_chain_type(\n",
    "    llm=llm,\n",
    "    chain_type=\"stuff\",\n",
    "    retriever=retriever,\n",
    "    return_source_documents=True)\n",
    "\n",
    "query = \"What was Alphabet's net income in 2022?\"\n",
    "result = qa({\"query\": query})\n",
    "print(result)"
   ]
  },
  {
   "attachments": {},
   "cell_type": "markdown",
   "metadata": {},
   "source": [
    "![](alphabet_income.png)"
   ]
  },
  {
   "cell_type": "code",
   "execution_count": 10,
   "metadata": {},
   "outputs": [
    {
     "name": "stdout",
     "output_type": "stream",
     "text": [
      "Waiting\n",
      "{'query': 'How much office space reduction took place in 2023?', 'result': 'The question is not answerable because the context does not provide information about office space reduction in 2023.', 'source_documents': [Document(page_content='centers, as well as, servers to provide capacity for the growth of our businesses. Generally, our investment in office\\nfacilities is driven by workforce needs; and our investment in data centers is driven by our compute and storage\\nrequirements and has a lead time of up to three years. Further, the decrease was partially offset by an increase in\\npayments for acquisitions and a decrease in maturities and sales of marketable securities.\\nNet cash used in investing activities increased slightly from 2016 to 2017 primarily due to an increase in purchases of\\nmarketable securities and an increase in purchases of property and equipment, partially offset by an increase in the\\nmaturities and sales of marketable securities, a decrease in cash collateral paid related to securities lending, and an\\nincrease in proceeds received from collections of notes receivables.\\nCash Used in Financing Activities', metadata={'source': '/tmp/tmp982ig_95/tmp.pdf', 'page': 69}), Document(page_content='6/27/23, 8:19 AM Document\\nhttps://www .sec.gov/Ar chives/edgar/data/1652044/000165204419000004/goog10-kq42018.htm 65/154Table of Contents Alphabet Inc.\\nGeneral and administrative expenses decreased $113 million from 2016 to 2017. The decrease was primarily from\\nreduced allocations to general and administrative expenses with an offsetting increase to cost of revenues and other\\noperating expenses. The decrease was partially offset by an increase in compensation expenses (including SBC) and\\nfacilities-related costs of $271 million, largely resulting from a 9% increase in headcount. Additionally, there was an\\nincrease in professional service fees of $253 million due to additional expenses incurred for outsourced services and\\nconsulting services.\\nWe expect general and administrative expenses will increase in dollar amount and may fluctuate as a percentage of\\nrevenues in future periods.\\nEuropean Commission Fines', metadata={'source': '/tmp/tmp982ig_95/tmp.pdf', 'page': 64})]}\n"
     ]
    }
   ],
   "source": [
    "query = \"How much office space reduction took place in 2023?\"\n",
    "result = qa({\"query\": query})\n",
    "print(result)"
   ]
  },
  {
   "attachments": {},
   "cell_type": "markdown",
   "metadata": {},
   "source": [
    "![](red.png)"
   ]
  },
  {
   "attachments": {},
   "cell_type": "markdown",
   "metadata": {},
   "source": []
  },
  {
   "attachments": {},
   "cell_type": "markdown",
   "metadata": {},
   "source": []
  }
 ],
 "metadata": {
  "kernelspec": {
   "display_name": "env311",
   "language": "python",
   "name": "python3"
  },
  "language_info": {
   "codemirror_mode": {
    "name": "ipython",
    "version": 3
   },
   "file_extension": ".py",
   "mimetype": "text/x-python",
   "name": "python",
   "nbconvert_exporter": "python",
   "pygments_lexer": "ipython3",
   "version": "3.11.3"
  },
  "orig_nbformat": 4
 },
 "nbformat": 4,
 "nbformat_minor": 2
}
