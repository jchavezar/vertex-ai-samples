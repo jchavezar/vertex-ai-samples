{
 "cells": [
  {
   "cell_type": "markdown",
   "id": "16448bd3-78df-4b7e-99c2-bd714c0333fb",
   "metadata": {},
   "source": [
    "# Model Garden | PaLM API for Text"
   ]
  },
  {
   "cell_type": "code",
   "execution_count": 5,
   "id": "b32450fb-81e8-4c4f-b2cf-da3e2b60af54",
   "metadata": {},
   "outputs": [],
   "source": [
    "from google.cloud import aiplatform\n",
    "from google.cloud.aiplatform.gapic.schema import predict\n",
    "from google.protobuf import json_format\n",
    "from google.protobuf.struct_pb2 import Value\n",
    "\n",
    "def predict_large_language_model_sample(\n",
    "    api_endpoint: str,\n",
    "    project: str,\n",
    "    endpoint_id: str,\n",
    "    content: str,\n",
    "    temperature: float,\n",
    "    max_decode_steps: int,\n",
    "    top_p: float,\n",
    "    top_k: int,\n",
    "    location: str = \"us-central1\",\n",
    "):\n",
    "  # The AI Platform services require regional API endpoints.\n",
    "  client_options = {\"api_endpoint\": api_endpoint}\n",
    "  # Initialize client that will be used to create and send requests.\n",
    "  # This client only needs to be created once, and can be reused for multiple requests.\n",
    "  client = aiplatform.gapic.PredictionServiceClient(\n",
    "      client_options=client_options\n",
    "  )\n",
    "  instance_dict = {\"content\": content}\n",
    "  instance = json_format.ParseDict(instance_dict, Value())\n",
    "  instances = [instance]\n",
    "  parameters_dict = {\n",
    "      \"temperature\": temperature,\n",
    "      \"maxDecodeSteps\": max_decode_steps,\n",
    "      \"topP\": top_p,\n",
    "      \"topK\": top_k,\n",
    "  }\n",
    "  parameters = json_format.ParseDict(parameters_dict, Value())\n",
    "  endpoint = client.endpoint_path(\n",
    "      project=project, location=location, endpoint=endpoint_id\n",
    "  )\n",
    "  response = client.predict(\n",
    "      endpoint=endpoint, instances=instances, parameters=parameters\n",
    "  )\n",
    "  print(\"response\")\n",
    "  predictions = response.predictions\n",
    "  for prediction in predictions:\n",
    "    print(\" prediction:\", dict(prediction))"
   ]
  },
  {
   "cell_type": "code",
   "execution_count": null,
   "id": "014511a2-7977-492e-9bd8-1acf432238d7",
   "metadata": {},
   "outputs": [
    {
     "name": "stdout",
     "output_type": "stream",
     "text": [
      "################################ --- START -- ################################\n",
      "Prompt: This Policy Dialogue will consider the rationale and the means for aligning short-term crisis responses – such as the EU's response to the COVID-19 pandemic and the Russian war in Ukraine - with the long-term objectives of the Green Deal, including achieving climate neutrality by 2050. Panellists will discuss the decisions and investments made in the last years, the lessons learned, and the measures needed to address the ongoing and future crises in a way that benefits the society, the economy, and the planet.\n",
      "response\n",
      " prediction: {'content': 'Climate change > Economic aspects > Economic policy > Economic stimulus', 'safetyAttributes': <proto.marshal.collections.maps.MapComposite object at 0x7fa7ea1bbdd0>}\n",
      "################################ --- START -- ################################ \n",
      "\n",
      "\n",
      "\n",
      "################################ --- START -- ################################\n",
      "Prompt: We know America funded the Wuhan lab and even trained the personnel. In 2014, the NIH approved a grant to EcoHealth Alliance designated for research into \"Understanding the Risk of Bat Coronavirus Emergence.\" The project involved collaborating with researchers at the Wuhan Institute of Virology to study coronaviruses in bats and the risk of potential transfer to humans. https://www.usatoday.com/story/news/factcheck/2020/05/04/fact-check-obama-administration-did-not-send-3-7-m-wuhan-lab/3061490001/ WAIT!!!\n",
      "response\n",
      " prediction: {'content': 'China > Wuhan > Wuhan Institute of Virology', 'safetyAttributes': <proto.marshal.collections.maps.MapComposite object at 0x7fa7ea1bbed0>}\n",
      "################################ --- START -- ################################ \n",
      "\n",
      "\n",
      "\n",
      "################################ --- START -- ################################\n",
      "Prompt: The destructive shaking was spread across many kilometers. Kat McGowan When a case of COVID-19 morphs into the mysterious, chronic condition known as long COVID, the specialists, appointments, medications and daily need for family care can overwhelm everyone involved. The unexpected deaths are hitting humpbacks and North Atlantic right whales on the East Coast and gray whales on the West Coast — populations that were already under watch.\n",
      "response\n",
      " prediction: {'safetyAttributes': <proto.marshal.collections.maps.MapComposite object at 0x7fa7f7998790>, 'content': 'Science/Tech > Animals'}\n",
      "################################ --- START -- ################################ \n",
      "\n",
      "\n",
      "\n",
      "################################ --- START -- ################################\n",
      "Prompt: The destructive shaking was spread across many kilometers. Kat McGowan When a case of COVID-19 morphs into the mysterious, chronic condition known as long COVID, the specialists, appointments, medications and daily need for family care can overwhelm everyone involved. The unexpected deaths are hitting humpbacks and North Atlantic right whales on the East Coast and gray whales on the West Coast — populations that were already under watch.\n",
      "response\n",
      " prediction: {'content': 'Science/Tech > Animals', 'safetyAttributes': <proto.marshal.collections.maps.MapComposite object at 0x7fa7ea1bbdd0>}\n",
      "################################ --- START -- ################################ \n",
      "\n",
      "\n",
      "\n",
      "################################ --- START -- ################################\n",
      "Prompt: The destructive shaking was spread across many kilometers. Kat McGowan When a case of COVID-19 morphs into the mysterious, chronic condition known as long COVID, the specialists, appointments, medications and daily need for family care can overwhelm everyone involved. The unexpected deaths are hitting humpbacks and North Atlantic right whales on the East Coast and gray whales on the West Coast — populations that were already under watch.\n"
     ]
    }
   ],
   "source": [
    "from google.cloud import bigquery\n",
    "\n",
    "client = bigquery.Client(project=\"vtxdemos\")\n",
    "sql = \"SELECT * FROM gdelt-bq.covid19.onlinenews LIMIT 5\"\n",
    "dataset = client.query(sql).to_dataframe()\n",
    "\n",
    "for content in dataset[\"Context\"].tolist():\n",
    "    print(\"################################ --- START -- ################################\")\n",
    "    print(f\"Prompt: {content}\")\n",
    "    predict_large_language_model_sample(\n",
    "        \"us-central1-aiplatform.googleapis.com\", \n",
    "        \"cloud-large-language-models\", \"4511608470067216384\", \n",
    "        f'''China, Hong Kong resume high-speed rail link after 3 years of COVID curbs 15/01/2023 10:21, Beijing/China (TAP) - China resumed on Sunday high-speed rail services between Hong Kong and the mainland for the first time since the beginning of the COVID-19 pandemic, as it dismantles travel curbs after Beijing scrapped quarantine for arrivals a week earlier. The re-opening comes amidst a massive wave of infections nationwide and a day after authorities said nearly 60,000 people with COVID had died in hospital, following last month\\'s abrupt U-turn on \"zero-COVID\" policy in the wake of historic protests. Despite the infections, some passengers voiced excitement and relief about being able to more easily return to their hometowns in time for the approaching Lunar New Year. A surge in travel ahead \n",
    "        COVID > China > Government\n",
    "        The re-opening comes amidst a massive wave of infections nationwide and a day after authorities said nearly 60,000 people with COVID had died in hospital, following last month\\'s abrupt U-turn on \"zero-COVID\" policy in the wake of historic protests. Despite the infections, some passengers voiced excitement and relief about being able to more easily return to their hometowns in time for the approaching Lunar New Year. A surge in travel ahead of the holiday celebrations set to begin on Jan. 21, as hundreds of millions of people return home from cities to small towns and rural areas, has fuelled worries about more infections. Saturday\\'s updated death toll was a huge increase over previous figures, following global criticism of China\\'s coronavirus data.\n",
    "        Category name: /Health/Health Conditions/Infectious Diseases/Covid-19\n",
    "        Health >  Other\n",
    "\n",
    "        {content}\n",
    "        ''', 0.2, 256, 0.8, 40, \"us-central1\")\n",
    "    print(\"################################ --- END OF LINE -- ################################ \\n\\n\\n\")"
   ]
  },
  {
   "cell_type": "code",
   "execution_count": null,
   "id": "784035b5-9ba6-4ed4-96eb-79057b1b460c",
   "metadata": {},
   "outputs": [],
   "source": []
  }
 ],
 "metadata": {
  "environment": {
   "kernel": "python3",
   "name": "common-cpu.m106",
   "type": "gcloud",
   "uri": "gcr.io/deeplearning-platform-release/base-cpu:m106"
  },
  "kernelspec": {
   "display_name": "Python 3",
   "language": "python",
   "name": "python3"
  },
  "language_info": {
   "codemirror_mode": {
    "name": "ipython",
    "version": 3
   },
   "file_extension": ".py",
   "mimetype": "text/x-python",
   "name": "python",
   "nbconvert_exporter": "python",
   "pygments_lexer": "ipython3",
   "version": "3.7.12"
  }
 },
 "nbformat": 4,
 "nbformat_minor": 5
}
