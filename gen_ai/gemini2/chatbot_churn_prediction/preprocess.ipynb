{
 "cells": [
  {
   "metadata": {},
   "cell_type": "markdown",
   "source": [
    "The following guide will help us to set all the elements up to have an endpoint capable of doing churn predictions from a model which was trained using BigQuery table.\n",
    "\n",
    "The table is in the repo <dataset.csv>\n",
    "\n",
    "requirements: pyarrow"
   ],
   "id": "da4072c9eaeeb384"
  },
  {
   "metadata": {
    "collapsed": true,
    "ExecuteTime": {
     "end_time": "2025-03-14T03:49:32.448447Z",
     "start_time": "2025-03-14T03:49:31.254136Z"
    }
   },
   "cell_type": "code",
   "source": [
    "import pandas as pd\n",
    "from google.cloud import bigquery\n",
    "from google.cloud import aiplatform"
   ],
   "id": "initial_id",
   "outputs": [],
   "execution_count": 11
  },
  {
   "metadata": {
    "ExecuteTime": {
     "end_time": "2025-03-14T03:45:14.770224Z",
     "start_time": "2025-03-14T03:45:14.767194Z"
    }
   },
   "cell_type": "code",
   "source": [
    "project_id = \"vtxdemos\"\n",
    "bq_dataset_name = \"demos_us\" # dataset demos_us was previously created in the gui\n",
    "bq_table_name = \"churn_bq\"\n",
    "bq_model_name = \"churn_bq_model\"\n",
    "table_uri = f\"{project_id}.{dataset_name}.{bq_table_name}\"\n",
    "model_uri = f\"{project_id}.{dataset_name}.{bq_model_name}\""
   ],
   "id": "d34a7e61ccf06599",
   "outputs": [],
   "execution_count": 8
  },
  {
   "metadata": {},
   "cell_type": "markdown",
   "source": "## BigQuery",
   "id": "9a0f7594c660b2ea"
  },
  {
   "metadata": {
    "ExecuteTime": {
     "end_time": "2025-03-14T03:45:22.131584Z",
     "start_time": "2025-03-14T03:45:21.300467Z"
    }
   },
   "cell_type": "code",
   "source": "bq_client = bigquery.Client(project=project_id)",
   "id": "f745b5b8ef98c68c",
   "outputs": [],
   "execution_count": 9
  },
  {
   "metadata": {
    "ExecuteTime": {
     "end_time": "2025-03-13T15:43:39.829225Z",
     "start_time": "2025-03-13T15:43:36.251444Z"
    }
   },
   "cell_type": "code",
   "source": [
    "# Read dataset with pandas\n",
    "\n",
    "df = pd.read_csv(\"dataset.csv\")\n",
    "\n",
    "# Load pandas dataframe into bigquery (you have to create a bigquery dataset first)\n",
    "job = bq_client.load_table_from_dataframe(df, table_uri)\n",
    "job.result()"
   ],
   "id": "96d1e143bc836154",
   "outputs": [
    {
     "name": "stderr",
     "output_type": "stream",
     "text": [
      "/home/jesusarguelles/IdeaProjects/vertex-ai-samples/.venv/lib/python3.13/site-packages/google/cloud/bigquery/_pandas_helpers.py:483: FutureWarning: Loading pandas DataFrame into BigQuery will require pandas-gbq package version 0.26.1 or greater in the future. Tried to import pandas-gbq and got: No module named 'pandas_gbq'\n",
      "  warnings.warn(\n"
     ]
    },
    {
     "data": {
      "text/plain": [
       "LoadJob<project=vtxdemos, location=US, id=15fae248-9047-491e-9935-b44d2d06d1f8>"
      ]
     },
     "execution_count": 4,
     "metadata": {},
     "output_type": "execute_result"
    }
   ],
   "execution_count": 4
  },
  {
   "metadata": {},
   "cell_type": "code",
   "outputs": [],
   "execution_count": null,
   "source": [
    "# Create a Regression Model in BigQuery\n",
    "\n",
    "sql_query = f\"\"\"\n",
    "CREATE OR REPLACE MODEL `{model_uri}`\n",
    "\n",
    "OPTIONS(\n",
    "  MODEL_TYPE='LOGISTIC_REG',\n",
    "  INPUT_LABEL_COLS=['churned'],\n",
    "  ENABLE_GLOBAL_EXPLAIN=TRUE,\n",
    "  VERTEX_AI_MODEL_ID=\"VERTEX_AI_MODEL_ID\"\n",
    ") AS\n",
    "\n",
    "SELECT\n",
    "  *\n",
    "FROM\n",
    "  `{talbe_uri}`\n",
    "\"\"\"\n",
    "\n",
    "job = job_client.query(sql_query)\n",
    "job.result()"
   ],
   "id": "8fa32f67576819f0"
  },
  {
   "metadata": {},
   "cell_type": "markdown",
   "source": "## Vertex AI",
   "id": "6dba337e912a110b"
  },
  {
   "metadata": {},
   "cell_type": "code",
   "source": [
    "endpoint = aiplatform.Endpoint.create(\n",
    "    display_name=\"churn_prediction\",\n",
    ")\n",
    "md=model.deploy(\n",
    "    deployed_model_display_name=\"churn_prediction\",\n",
    "    machine_type=\"n1-standard-4\",\n",
    "    endpoint=endpoint,\n",
    "    traffic_split={\"0\": 100}\n",
    ")"
   ],
   "id": "d4baa013b8fece84",
   "outputs": [],
   "execution_count": null
  },
  {
   "metadata": {},
   "cell_type": "code",
   "outputs": [],
   "execution_count": null,
   "source": [
    "prediction=md.predict(instances=[\n",
    "    {\n",
    "        \"user_pseudo_id\": \"C495AAE4F1CC79CAF4335174F95ABFAC\",\n",
    "        \"country\": \"Mexico\",\n",
    "        \"operating_system\": \"Android\",\n",
    "        \"language\": \"en-ca\",\n",
    "        \"cnt_user_engagement\": 139,\n",
    "        \"cnt_level_start_quickplay\": 33,\n",
    "        \"cnt_level_end_quickplay\": 27,\n",
    "        \"cnt_level_complete_quickplay\": 11,\n",
    "        \"cnt_level_reset_quickplay\": 4,\n",
    "        \"cnt_post_score\": 19,\n",
    "        \"cnt_spend_virtual_currency\": 3,\n",
    "        \"cnt_ad_reward\": 0,\n",
    "        \"cnt_challenge_a_friend\": 0,\n",
    "        \"cnt_completed_5_levels\": 1,\n",
    "        \"cnt_use_extra_steps\": 3,\n",
    "        \"month\": 12,\n",
    "        \"julianday\": 268,\n",
    "        \"dayofweek\": 3\n",
    "    }\n",
    "])"
   ],
   "id": "f0a1ba95aa1eb64b"
  },
  {
   "metadata": {},
   "cell_type": "code",
   "outputs": [],
   "execution_count": null,
   "source": "prediction.predictions",
   "id": "fb3292a1021b84ed"
  }
 ],
 "metadata": {
  "kernelspec": {
   "display_name": "Python 3",
   "language": "python",
   "name": "python3"
  },
  "language_info": {
   "codemirror_mode": {
    "name": "ipython",
    "version": 2
   },
   "file_extension": ".py",
   "mimetype": "text/x-python",
   "name": "python",
   "nbconvert_exporter": "python",
   "pygments_lexer": "ipython2",
   "version": "2.7.6"
  }
 },
 "nbformat": 4,
 "nbformat_minor": 5
}
