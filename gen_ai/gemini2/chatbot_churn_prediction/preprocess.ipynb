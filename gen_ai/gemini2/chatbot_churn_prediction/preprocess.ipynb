{
 "cells": [
  {
   "metadata": {},
   "cell_type": "markdown",
   "source": [
    "The following guide will help us to set all the elements up to have an endpoint capable of doing churn predictions from a model which was trained using BigQuery table.\n",
    "\n",
    "The table is in the repo <dataset.csv>\n",
    "\n",
    "requirements: pyarrow"
   ],
   "id": "da4072c9eaeeb384"
  },
  {
   "metadata": {
    "collapsed": true,
    "ExecuteTime": {
     "end_time": "2025-03-13T15:43:34.753850Z",
     "start_time": "2025-03-13T15:43:34.120417Z"
    }
   },
   "cell_type": "code",
   "source": [
    "import pandas as pd\n",
    "from google.cloud import bigquery"
   ],
   "id": "initial_id",
   "outputs": [],
   "execution_count": 1
  },
  {
   "metadata": {
    "ExecuteTime": {
     "end_time": "2025-03-13T16:00:23.322520Z",
     "start_time": "2025-03-13T16:00:23.313722Z"
    }
   },
   "cell_type": "code",
   "source": [
    "project_id = \"vtxdemos\"\n",
    "bq_dataset_name = \"demos_us\" # dataset demos_us was previously created in the gui\n",
    "bq_model_name = \"churn_bq_model\"\n",
    "bq_table_name = \"churn_bq\"\n",
    "table_uri = f\"{project_id}.{dataset_name}.{table_name}\""
   ],
   "id": "d34a7e61ccf06599",
   "outputs": [
    {
     "ename": "SyntaxError",
     "evalue": "invalid syntax (231916298.py, line 4)",
     "output_type": "error",
     "traceback": [
      "  \u001B[36mCell\u001B[39m\u001B[36m \u001B[39m\u001B[32mIn[5]\u001B[39m\u001B[32m, line 4\u001B[39m\n\u001B[31m    \u001B[39m\u001B[31mbq_model_name =\u001B[39m\n                    ^\n\u001B[31mSyntaxError\u001B[39m\u001B[31m:\u001B[39m invalid syntax\n"
     ]
    }
   ],
   "execution_count": 5
  },
  {
   "metadata": {
    "ExecuteTime": {
     "end_time": "2025-03-13T15:43:35.796219Z",
     "start_time": "2025-03-13T15:43:35.373201Z"
    }
   },
   "cell_type": "code",
   "source": "\"bq_client = bigquery.Client(project=project_id)",
   "id": "f745b5b8ef98c68c",
   "outputs": [],
   "execution_count": 3
  },
  {
   "metadata": {
    "ExecuteTime": {
     "end_time": "2025-03-13T15:43:39.829225Z",
     "start_time": "2025-03-13T15:43:36.251444Z"
    }
   },
   "cell_type": "code",
   "source": [
    "# Read dataset with pandas\n",
    "\n",
    "df = pd.read_csv(\"dataset.csv\")\n",
    "\n",
    "# Load pandas dataframe into bigquery (you have to create a bigquery dataset first)\n",
    "job = bq_client.load_table_from_dataframe(df, table_uri)\n",
    "job.result()"
   ],
   "id": "96d1e143bc836154",
   "outputs": [
    {
     "name": "stderr",
     "output_type": "stream",
     "text": [
      "/home/jesusarguelles/IdeaProjects/vertex-ai-samples/.venv/lib/python3.13/site-packages/google/cloud/bigquery/_pandas_helpers.py:483: FutureWarning: Loading pandas DataFrame into BigQuery will require pandas-gbq package version 0.26.1 or greater in the future. Tried to import pandas-gbq and got: No module named 'pandas_gbq'\n",
      "  warnings.warn(\n"
     ]
    },
    {
     "data": {
      "text/plain": [
       "LoadJob<project=vtxdemos, location=US, id=15fae248-9047-491e-9935-b44d2d06d1f8>"
      ]
     },
     "execution_count": 4,
     "metadata": {},
     "output_type": "execute_result"
    }
   ],
   "execution_count": 4
  },
  {
   "metadata": {},
   "cell_type": "code",
   "outputs": [],
   "execution_count": null,
   "source": [
    "# Create a Regression Model in BigQuery\n",
    "\n",
    "sql_query = \"\"\"\n",
    "CREATE OR REPLACE MODEL `vtxdemos.demos_us.customer_churn_model`\n",
    "\n",
    "OPTIONS(\n",
    "  MODEL_TYPE='LOGISTIC_REG',\n",
    "  INPUT_LABEL_COLS=['churned'],\n",
    "  ENABLE_GLOBAL_EXPLAIN=TRUE\n",
    ") AS\n",
    "\n",
    "SELECT\n",
    "  *\n",
    "FROM\n",
    "  `vtxdemos.demos_us.customer_churn`\n",
    "\"\"\""
   ],
   "id": "8fa32f67576819f0"
  }
 ],
 "metadata": {
  "kernelspec": {
   "display_name": "Python 3",
   "language": "python",
   "name": "python3"
  },
  "language_info": {
   "codemirror_mode": {
    "name": "ipython",
    "version": 2
   },
   "file_extension": ".py",
   "mimetype": "text/x-python",
   "name": "python",
   "nbconvert_exporter": "python",
   "pygments_lexer": "ipython2",
   "version": "2.7.6"
  }
 },
 "nbformat": 4,
 "nbformat_minor": 5
}
