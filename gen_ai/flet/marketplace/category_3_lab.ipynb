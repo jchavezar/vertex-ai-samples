{
  "cells": [
    {
      "cell_type": "code",
      "id": "vzr7XKajj6GeEHQ8Yy1e5LZ8",
      "metadata": {
        "tags": [],
        "id": "vzr7XKajj6GeEHQ8Yy1e5LZ8",
        "executionInfo": {
          "status": "ok",
          "timestamp": 1726365878149,
          "user_tz": 240,
          "elapsed": 2,
          "user": {
            "displayName": "",
            "userId": ""
          }
        }
      },
      "source": [
        "import json\n",
        "import base64\n",
        "import vertexai\n",
        "from google.cloud import bigquery\n",
        "from vertexai.generative_models import GenerativeModel, Part, SafetySetting, GenerationConfig"
      ],
      "execution_count": 22,
      "outputs": []
    },
    {
      "cell_type": "code",
      "source": [
        "project_id = \"vtxdemos\"\n",
        "location = \"us-central1\"\n",
        "dataset_id = \"demos_us\"\n",
        "table_id = \"etsy-embeddings-full-version1-title\""
      ],
      "metadata": {
        "id": "7jNS5oVoYrZK",
        "executionInfo": {
          "status": "ok",
          "timestamp": 1726367196011,
          "user_tz": 240,
          "elapsed": 155,
          "user": {
            "displayName": "",
            "userId": ""
          }
        }
      },
      "id": "7jNS5oVoYrZK",
      "execution_count": 61,
      "outputs": []
    },
    {
      "cell_type": "code",
      "source": [
        "response_schema = {\n",
        "    \"type\": \"object\",\n",
        "    \"properties\": {\n",
        "        \"answer\": {\"type\": \"string\"},\n",
        "        \"questions_to_ask\": {\n",
        "            \"type\": \"object\",\n",
        "            \"properties\": {\n",
        "                \"category_1\": {\n",
        "                    \"type\": \"array\",\n",
        "                    \"items\": {\"type\": \"string\"}\n",
        "                },\n",
        "                \"category_2\": {\n",
        "                    \"type\": \"array\",\n",
        "                    \"items\": {\"type\": \"string\"}\n",
        "                },\n",
        "                \"category_3\": {\n",
        "                    \"type\": \"array\",\n",
        "                    \"items\": {\"type\": \"string\"}\n",
        "                }\n",
        "            }\n",
        "        },\n",
        "        \"category_picked\": {\n",
        "            \"type\": \"object\",\n",
        "            \"properties\": {\n",
        "                \"local_context_rag\": {\n",
        "                    \"type\": \"boolean\",\n",
        "                },\n",
        "                \"google_search_ground\": {\n",
        "                    \"type\": \"boolean\",\n",
        "                },\n",
        "                \"similar_products_rag\": {\n",
        "                    \"type\": \"boolean\",\n",
        "                }\n",
        "            }\n",
        "        }\n",
        "    }\n",
        "}"
      ],
      "metadata": {
        "id": "7nd4-7kka5ss",
        "executionInfo": {
          "status": "ok",
          "timestamp": 1726367196697,
          "user_tz": 240,
          "elapsed": 2,
          "user": {
            "displayName": "",
            "userId": ""
          }
        }
      },
      "id": "7nd4-7kka5ss",
      "execution_count": 62,
      "outputs": []
    },
    {
      "cell_type": "code",
      "source": [
        "bq_client = bigquery.Client(project=project_id)\n",
        "vertexai.init(project=project_id, location=location)"
      ],
      "metadata": {
        "id": "Rx4e72vrY6kF",
        "executionInfo": {
          "status": "ok",
          "timestamp": 1726367197645,
          "user_tz": 240,
          "elapsed": 1,
          "user": {
            "displayName": "",
            "userId": ""
          }
        }
      },
      "id": "Rx4e72vrY6kF",
      "execution_count": 63,
      "outputs": []
    },
    {
      "cell_type": "code",
      "source": [
        "df = bq_client.query(f\"SELECT * except (text_embedding, ml_generate_embedding_result) FROM `{project_id}.{dataset_id}.{table_id}`\").to_dataframe()"
      ],
      "metadata": {
        "id": "s98XUaC8Y7qG",
        "executionInfo": {
          "status": "ok",
          "timestamp": 1726367201072,
          "user_tz": 240,
          "elapsed": 3267,
          "user": {
            "displayName": "",
            "userId": ""
          }
        }
      },
      "id": "s98XUaC8Y7qG",
      "execution_count": 64,
      "outputs": []
    },
    {
      "cell_type": "code",
      "source": [
        "df[\"content\"][0]"
      ],
      "metadata": {
        "colab": {
          "base_uri": "https://localhost:8080/",
          "height": 174
        },
        "id": "2VgcHNx-ZBwj",
        "executionInfo": {
          "status": "ok",
          "timestamp": 1726367201073,
          "user_tz": 240,
          "elapsed": 4,
          "user": {
            "displayName": "",
            "userId": ""
          }
        },
        "outputId": "d0c9439e-5146-4b57-f78d-2e06662d27a6"
      },
      "id": "2VgcHNx-ZBwj",
      "execution_count": 65,
      "outputs": [
        {
          "output_type": "execute_result",
          "data": {
            "text/plain": [
              "'listing id: 256400053 title of the listing: DOG CROSSING Sign novelty gift animals pets the price in US dollars: 8.98 the description of the listing: This is a 12&quot; tall and 12&quot; wide diamond shape sign made from weatherproof plastic with premium grade vinyl. The sign is perfect for indoor or outdoor use, made to last at least 3-4 years outside. The sign has rounded corners and 2 holes pre-drilled for ea tags used for filter: novelty sign, funny sign, tin sign, street sign, parking sign, gag gift the materials item was made of: pvc plastic, the attributes: itemdimensionsunit: in; source: web; isnipsa: 0; itemweight: 3; whenmade: made_to_order; whomade: i_did; itemweightunit: oz; listingtype: physical; shouldautorenew: 1; isnotcustomizable: 1; listing_source_detail: web; issupply: 0, the price in usd: 8.98'"
            ],
            "application/vnd.google.colaboratory.intrinsic+json": {
              "type": "string"
            }
          },
          "metadata": {},
          "execution_count": 65
        }
      ]
    },
    {
      "cell_type": "code",
      "source": [
        "system_instruction = \"\"\"\n",
        "**You are Chatsy, a friendly and helpful assistant for Etsy customers.** Your primary goal is to provide satisfying answers based on the specific context of their questions.\n",
        "\n",
        "**Tasks:**\n",
        "\n",
        "1. **Categorize:** Analyze each user question and determine if it's best answered using:\n",
        "    * **local_context_rag:** Information from the current listing or Etsy's internal data (title, description, materials, tags, etc.).\n",
        "    * **google_search_ground:**  Broader knowledge found on the internet, related to the product but beyond the explicit listing details.\n",
        "      Think about potential applications, material properties, comparisons to similar items, usage scenarios, care instructions, or historical/cultural context.\n",
        "      These questions should pique the customer's interest and encourage them to explore the product further.\n",
        "    * **similar_products_rag:** Information from similar products or Etsy's internal data (title, description, materials, tags, etc.).\n",
        "\n",
        "2. **Respond:**\n",
        "    * **Provide the answer:** Use ONLY the appropriate source (local_context_rag or google_search_ground, similar_products_rag) to give a concise, accurate response.\n",
        "    * **Suggest further questions:**  Offer 2 additional questions per each category (local_context_rag and google_search_ground, similar_products_rag) that the **user might want to ask** related to the topic or listing.\n",
        "    * **Provide the category you picked:** Indicate whether you used \"local_context_rag\", \"google_search_ground\" or \"similar_products_rag\" to answer the question.\n",
        "\n",
        "**Rules:**\n",
        "* **Be friendly and casual:** Write like you're chatting with a friend, no need for formal explanations.\n",
        "* **Honesty is key:** If you don't know the answer based on the available information, say so politely and suggest potentially relevant questions the user might want to ask.\n",
        "* **Question management:**\n",
        "    * Start with the preloaded questions (if any).\n",
        "    * After answering a question, remove it from the list.\n",
        "    * Generate 2 NEW questions (per each category) that the user might find helpful.\n",
        "    * Base new questions on the context of the conversation and the product information.\n",
        "\n",
        "**Extra reasoning thoughts:**\n",
        "* **Category Selection Accuracy:** If you recommend questions under category 2 and your next iteration you get that question you should follow categorization as it is; in this case google_search_ground.\n",
        "The same applies for the other categories.\n",
        "\"\"\"\n",
        "model = GenerativeModel(\n",
        "    \"gemini-1.5-flash-001\",\n",
        "    system_instruction=system_instruction\n",
        "    )\n",
        "chat = model.start_chat()"
      ],
      "metadata": {
        "id": "gBNce0UtZEXu",
        "executionInfo": {
          "status": "ok",
          "timestamp": 1726367201073,
          "user_tz": 240,
          "elapsed": 3,
          "user": {
            "displayName": "",
            "userId": ""
          }
        }
      },
      "id": "gBNce0UtZEXu",
      "execution_count": 66,
      "outputs": []
    },
    {
      "cell_type": "code",
      "source": [
        "query = f\"\"\"\n",
        "local_context_rag:\n",
        "{df[\"content\"][0]}\n",
        "\n",
        "user-question: what is the best way to get started?\n",
        "\"\"\"\n",
        "re=chat.send_message(query, generation_config=GenerationConfig(response_mime_type=\"application/json\", response_schema=response_schema))"
      ],
      "metadata": {
        "id": "hiNg7MuIadea",
        "executionInfo": {
          "status": "ok",
          "timestamp": 1726367203766,
          "user_tz": 240,
          "elapsed": 1491,
          "user": {
            "displayName": "",
            "userId": ""
          }
        }
      },
      "id": "hiNg7MuIadea",
      "execution_count": 67,
      "outputs": []
    },
    {
      "cell_type": "code",
      "source": [
        "_ = json.loads(re.text)\n",
        "_[\"questions_to_ask\"]"
      ],
      "metadata": {
        "colab": {
          "base_uri": "https://localhost:8080/"
        },
        "id": "YV1TlGP2ax7j",
        "executionInfo": {
          "status": "ok",
          "timestamp": 1726367203766,
          "user_tz": 240,
          "elapsed": 4,
          "user": {
            "displayName": "",
            "userId": ""
          }
        },
        "outputId": "ca0a49c7-5892-46c5-e7b5-4bc044599ca0"
      },
      "id": "YV1TlGP2ax7j",
      "execution_count": 68,
      "outputs": [
        {
          "output_type": "execute_result",
          "data": {
            "text/plain": [
              "{'category_1': ['Where do you think the sign would look best in your home? ',\n",
              "  'Do you have any other pets that might enjoy their own personalized signs?'],\n",
              " 'category_2': [\"What are some other funny or creative ways you can use this sign to brighten someone's day? \",\n",
              "  \"Are there any other dog-themed decorations you'd like to add to your space?\"],\n",
              " 'category_3': ['Do they have any other types of signs with different messages or themes? ',\n",
              "  'What other funny signs do they offer?']}"
            ]
          },
          "metadata": {},
          "execution_count": 68
        }
      ]
    },
    {
      "cell_type": "code",
      "source": [
        "llm_model = GenerativeModel(\"gemini-1.5-flash-001\",)\n",
        "\n",
        "_re = llm_model.generate_content(\n",
        "    [\n",
        "        f\"\"\"\n",
        "        By using both the next Context and the Question do as follorws.\n",
        "\n",
        "        Tasks:\n",
        "        * **summary_text:** Summarize the context and the question into a concise summary.\n",
        "        * **concise_text:** From the summary, create a new text perfect to match with other summary listings.\n",
        "\n",
        "        Rules:\n",
        "        Only 1 text as output.\n",
        "\n",
        "        Context:\n",
        "        {str(df[\"content\"][0])}\n",
        "\n",
        "        Question:\n",
        "        {str(_[\"questions_to_ask\"][\"category_3\"][0])}\n",
        "\n",
        "        Response (concise_text only) as plain text:\n",
        "\n",
        "     \"\"\"\n",
        "     ]\n",
        ")\n",
        "\n",
        "print(_re.text)"
      ],
      "metadata": {
        "colab": {
          "base_uri": "https://localhost:8080/"
        },
        "id": "G8otl0oZbPyu",
        "executionInfo": {
          "status": "ok",
          "timestamp": 1726367205350,
          "user_tz": 240,
          "elapsed": 461,
          "user": {
            "displayName": "",
            "userId": ""
          }
        },
        "outputId": "c2a1b5f5-9a8e-4497-f871-e26a504b92b5"
      },
      "id": "G8otl0oZbPyu",
      "execution_count": 69,
      "outputs": [
        {
          "output_type": "stream",
          "name": "stdout",
          "text": [
            "This listing is for a 12\" x 12\" diamond-shaped \"DOG CROSSING\" sign made of weatherproof plastic. The question asks if the seller offers other types of signs with different messages or themes. \n",
            "\n"
          ]
        }
      ]
    },
    {
      "cell_type": "code",
      "source": [
        "from vertexai.language_models import TextEmbeddingInput, TextEmbeddingModel\n",
        "text_emb_model = TextEmbeddingModel.from_pretrained(\"text-embedding-004\")"
      ],
      "metadata": {
        "id": "5rFffUcgcPpu",
        "executionInfo": {
          "status": "ok",
          "timestamp": 1726367703355,
          "user_tz": 240,
          "elapsed": 155,
          "user": {
            "displayName": "",
            "userId": ""
          }
        }
      },
      "id": "5rFffUcgcPpu",
      "execution_count": 96,
      "outputs": []
    },
    {
      "cell_type": "code",
      "source": [
        "texts = [_re.text]\n",
        "inputs = [TextEmbeddingInput(text, \"RETRIEVAL_DOCUMENT\") for text in texts]\n",
        "embeddings = text_emb_model.get_embeddings(inputs)[0].values"
      ],
      "metadata": {
        "id": "dNrRLi_hfvXp",
        "executionInfo": {
          "status": "ok",
          "timestamp": 1726367704470,
          "user_tz": 240,
          "elapsed": 307,
          "user": {
            "displayName": "",
            "userId": ""
          }
        }
      },
      "id": "dNrRLi_hfvXp",
      "execution_count": 97,
      "outputs": []
    },
    {
      "cell_type": "code",
      "source": [
        "from vertexai.resources.preview import feature_store\n",
        "fv_text = feature_store.FeatureView(name=\"projects/254356041555/locations/us-central1/featureOnlineStores/fs_etsy/featureViews/fs_etsy_view_text_emb_version1\")\n",
        "\n",
        "r = fv_text.search(\n",
        "    embedding_value = embeddings,\n",
        "    neighbor_count = 5,\n",
        "    return_full_entity=True,  # returning entities with metadata\n",
        ").to_dict()"
      ],
      "metadata": {
        "colab": {
          "base_uri": "https://localhost:8080/"
        },
        "id": "bDMgSuC6f8Vq",
        "executionInfo": {
          "status": "ok",
          "timestamp": 1726367706783,
          "user_tz": 240,
          "elapsed": 443,
          "user": {
            "displayName": "",
            "userId": ""
          }
        },
        "outputId": "31f1bf4b-2563-46c7-d455-d895c6ce4ba9"
      },
      "id": "bDMgSuC6f8Vq",
      "execution_count": 98,
      "outputs": [
        {
          "output_type": "stream",
          "name": "stderr",
          "text": [
            "INFO:vertexai.resources.preview.feature_store.feature_view:Public endpoint for the optimized online store fs_etsy is 1711658129470521344.us-central1-254356041555.featurestore.vertexai.goog\n"
          ]
        }
      ]
    },
    {
      "cell_type": "code",
      "source": [
        "r"
      ],
      "metadata": {
        "id": "gapgc7_AgU6c"
      },
      "id": "gapgc7_AgU6c",
      "execution_count": null,
      "outputs": []
    },
    {
      "cell_type": "code",
      "source": [
        "df[\"public_cdn_link\"].iloc[0]"
      ],
      "metadata": {
        "colab": {
          "base_uri": "https://localhost:8080/",
          "height": 35
        },
        "id": "yD3ZGs_VgZOX",
        "executionInfo": {
          "status": "ok",
          "timestamp": 1726367301211,
          "user_tz": 240,
          "elapsed": 4,
          "user": {
            "displayName": "",
            "userId": ""
          }
        },
        "outputId": "adc2bb04-777c-41b9-d514-51c69fca717e"
      },
      "id": "yD3ZGs_VgZOX",
      "execution_count": 74,
      "outputs": [
        {
          "output_type": "execute_result",
          "data": {
            "text/plain": [
              "'https://gcpetsy.sonrobots.net/etsy-version1/il_570xN.869542867_u961.jpg'"
            ],
            "application/vnd.google.colaboratory.intrinsic+json": {
              "type": "string"
            }
          },
          "metadata": {},
          "execution_count": 74
        }
      ]
    },
    {
      "cell_type": "code",
      "source": [
        "r[\"neighbors\"][0][\"entity_key_values\"][\"key_values\"][\"features\"][0]"
      ],
      "metadata": {
        "colab": {
          "base_uri": "https://localhost:8080/"
        },
        "id": "hHBDK5DmglHJ",
        "executionInfo": {
          "status": "ok",
          "timestamp": 1726367424637,
          "user_tz": 240,
          "elapsed": 3,
          "user": {
            "displayName": "",
            "userId": ""
          }
        },
        "outputId": "4ec24e72-f48d-4ed2-fb45-0f7e3a41fb9a"
      },
      "id": "hHBDK5DmglHJ",
      "execution_count": 85,
      "outputs": [
        {
          "output_type": "execute_result",
          "data": {
            "text/plain": [
              "{'name': 'llm_title', 'value': {'string_value': 'Buffalo Bills Canvas Art \\n'}}"
            ]
          },
          "metadata": {},
          "execution_count": 85
        }
      ]
    },
    {
      "cell_type": "code",
      "source": [
        "import pandas as pd\n",
        "\n",
        "def response_process(result, multimodal: bool):\n",
        "  neighbors = result[\"neighbors\"]\n",
        "\n",
        "  all_extracted_data = []\n",
        "  for row in neighbors:\n",
        "    extracted_data = {}\n",
        "    if multimodal:\n",
        "      extracted_data['image_distance'] = row['distance']  # Extract distance\n",
        "    else:\n",
        "      extracted_data['text_distance'] = row['distance']  # Extract distance\n",
        "\n",
        "    for feature in row['entity_key_values']['key_values']['features']:\n",
        "      name = feature['name']\n",
        "      if name not in ['ml_generate_embedding_result', 'text_embedding']:\n",
        "        if 'value' in feature:\n",
        "          for value_type, value in feature['value'].items():\n",
        "            extracted_data[name] = value\n",
        "        else:\n",
        "          extracted_data[name] = \"no values\"\n",
        "\n",
        "    all_extracted_data.append(extracted_data)\n",
        "\n",
        "  dataframe = pd.DataFrame(all_extracted_data)\n",
        "\n",
        "  return dataframe"
      ],
      "metadata": {
        "id": "gcdJ3nDChDUH",
        "executionInfo": {
          "status": "ok",
          "timestamp": 1726367711313,
          "user_tz": 240,
          "elapsed": 127,
          "user": {
            "displayName": "",
            "userId": ""
          }
        }
      },
      "id": "gcdJ3nDChDUH",
      "execution_count": 99,
      "outputs": []
    },
    {
      "cell_type": "code",
      "source": [
        "df = response_process(r, False)"
      ],
      "metadata": {
        "id": "fhrGIcmDhjY1",
        "executionInfo": {
          "status": "ok",
          "timestamp": 1726367713762,
          "user_tz": 240,
          "elapsed": 148,
          "user": {
            "displayName": "",
            "userId": ""
          }
        }
      },
      "id": "fhrGIcmDhjY1",
      "execution_count": 100,
      "outputs": []
    },
    {
      "cell_type": "code",
      "source": [
        "df[\"public_cdn_link\"].iloc[1]"
      ],
      "metadata": {
        "colab": {
          "base_uri": "https://localhost:8080/",
          "height": 35
        },
        "id": "OhwZI6wxh6Hv",
        "executionInfo": {
          "status": "ok",
          "timestamp": 1726367722911,
          "user_tz": 240,
          "elapsed": 141,
          "user": {
            "displayName": "",
            "userId": ""
          }
        },
        "outputId": "c43f77ea-3393-46f7-b071-19c7dbbe2ac8"
      },
      "id": "OhwZI6wxh6Hv",
      "execution_count": 102,
      "outputs": [
        {
          "output_type": "execute_result",
          "data": {
            "text/plain": [
              "'https://gcpetsy.sonrobots.net/etsy-version1/il_570xN.863823355_r6sk.jpg'"
            ],
            "application/vnd.google.colaboratory.intrinsic+json": {
              "type": "string"
            }
          },
          "metadata": {},
          "execution_count": 102
        }
      ]
    }
  ],
  "metadata": {
    "kernelspec": {
      "display_name": "Python 3",
      "language": "python",
      "name": "python3"
    },
    "language_info": {
      "codemirror_mode": {
        "name": "ipython",
        "version": 3
      },
      "file_extension": ".py",
      "mimetype": "text/x-python",
      "name": "python",
      "nbconvert_exporter": "python",
      "pygments_lexer": "ipython3",
      "version": "3.10.10"
    },
    "colab": {
      "provenance": [],
      "name": "jesusarguelles (Sep 14, 2024, 9:52:52 PM)"
    }
  },
  "nbformat": 4,
  "nbformat_minor": 5
}