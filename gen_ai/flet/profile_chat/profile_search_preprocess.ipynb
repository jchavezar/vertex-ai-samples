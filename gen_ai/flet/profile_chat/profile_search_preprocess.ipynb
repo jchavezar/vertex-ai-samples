{
 "cells": [
  {
   "cell_type": "markdown",
   "id": "lQOtBjrrJ8OP",
   "metadata": {
    "id": "lQOtBjrrJ8OP"
   },
   "source": [
    "# Libraries\n",
    "\n"
   ]
  },
  {
   "cell_type": "code",
   "execution_count": 2,
   "id": "ltsnJuvAzfE97jGf9MlUs2O0",
   "metadata": {
    "executionInfo": {
     "elapsed": 11767,
     "status": "ok",
     "timestamp": 1721397272821,
     "user": {
      "displayName": "",
      "userId": ""
     },
     "user_tz": 240
    },
    "id": "ltsnJuvAzfE97jGf9MlUs2O0",
    "tags": []
   },
   "outputs": [],
   "source": [
    "import json\n",
    "import base64\n",
    "import vertexai\n",
    "import numpy as np\n",
    "import pandas as pd\n",
    "from google.cloud import storage\n",
    "from vertexai.language_models import TextEmbeddingInput, TextEmbeddingModel\n",
    "from vertexai.generative_models import GenerativeModel, Part, FinishReason\n",
    "import vertexai.preview.generative_models as generative_models"
   ]
  },
  {
   "cell_type": "markdown",
   "id": "oWhYUjiBJ_u-",
   "metadata": {
    "id": "oWhYUjiBJ_u-"
   },
   "source": [
    "# Variables"
   ]
  },
  {
   "cell_type": "code",
   "execution_count": 3,
   "id": "LFf--W4CPDgw",
   "metadata": {
    "executionInfo": {
     "elapsed": 220,
     "status": "ok",
     "timestamp": 1721412041967,
     "user": {
      "displayName": "",
      "userId": ""
     },
     "user_tz": 240
    },
    "id": "LFf--W4CPDgw"
   },
   "outputs": [],
   "source": [
    "project_id = \"vtxdemos\"\n",
    "model_id = \"gemini-1.5-pro-001\"\n",
    "emb_model_id = \"text-embedding-004\"\n",
    "bucket_id = \"vtxdemos-vsearch-datasets\"\n",
    "bucket_folder = \"profile_synthetic_data\""
   ]
  },
  {
   "cell_type": "markdown",
   "id": "Wt8j5RPH_NVi",
   "metadata": {
    "id": "Wt8j5RPH_NVi"
   },
   "source": [
    "# Synthetic Data"
   ]
  },
  {
   "cell_type": "markdown",
   "id": "4qSe4M3ECelR",
   "metadata": {
    "id": "4qSe4M3ECelR"
   },
   "source": [
    "Because we are creating synthetic data, this could take long time."
   ]
  },
  {
   "cell_type": "code",
   "execution_count": 4,
   "id": "xYxZsN_O_MlH",
   "metadata": {
    "colab": {
     "base_uri": "https://localhost:8080/"
    },
    "executionInfo": {
     "elapsed": 77037,
     "status": "ok",
     "timestamp": 1721410817598,
     "user": {
      "displayName": "",
      "userId": ""
     },
     "user_tz": 240
    },
    "id": "xYxZsN_O_MlH",
    "outputId": "ee4cfc0e-ceeb-4b83-ee46-0078fd8f0efe"
   },
   "outputs": [
    {
     "name": "stdout",
     "output_type": "stream",
     "text": [
      "{\"id\": [\"ecc9114b-57dd-4e7c-ace3-894318572777\", \"95dfb50d-067e-4a07-8b22-089a7e0c8c1a\", \"90831563-a33e-405e-b169-9c124b35d588\", \"40c2a29c-eeef-4e8e-80e8-8a0325569788\", \"e35e0a79-7c83-4f88-ad14-a26634881574\", \"a238d254-981e-4f39-826c-4f49d6939c35\", \"a7952882-477d-4b50-ba62-a2f75978c323\", \"0c619d41-b42c-4a69-906f-726820982243\", \"97f18a23-4e8b-431d-9a43-6c266c75c82a\", \"3d5c00c7-3b9c-401e-a646-895800a2e763\", \"51d76952-e49a-470f-a24f-84a42c55962a\", \"34a67618-a70b-4947-988b-c8e948113391\", \"722396f1-0c37-4862-b052-8000d293a731\", \"0a9c09f9-a809-4993-8c4c-87459a27980b\", \"66a0c983-2c58-4a56-bd82-a5a921b98311\", \"2c07f12b-17eb-4455-903a-e3a5c1130060\", \"d10570a2-0a73-4611-b76e-a7807a90d1b8\", \"e26c1f2c-7839-4617-9895-9d125286e765\", \"9ab3a82b-fac8-4364-8b8d-08f1d9320f37\", \"fa09685d-6b51-4388-a40d-5c81004d7625\"], \"name\": [\"Michael Harris\", \"Ashley Brown\", \"Christopher Smith\", \"Jessica Davis\", \"David Garcia\", \"Amanda Rodriguez\", \"Matthew Wilson\", \"Jennifer Martin\", \"Joshua Taylor\", \"Elizabeth Thomas\", \"Joseph Hernandez\", \"Michelle Anderson\", \"Kevin Garcia\", \"Sarah Martinez\", \"Daniel Jackson\", \"Emily Robinson\", \"Ryan Clark\", \"Melissa Lewis\", \"Brandon Lee\", \"Stephanie White\"], \"first_name\": [\"Michael\", \"Ashley\", \"Christopher\", \"Jessica\", \"David\", \"Amanda\", \"Matthew\", \"Jennifer\", \"Joshua\", \"Elizabeth\", \"Joseph\", \"Michelle\", \"Kevin\", \"Sarah\", \"Daniel\", \"Emily\", \"Ryan\", \"Melissa\", \"Brandon\", \"Stephanie\"], \"last_name\": [\"Harris\", \"Brown\", \"Smith\", \"Davis\", \"Garcia\", \"Rodriguez\", \"Wilson\", \"Martin\", \"Taylor\", \"Thomas\", \"Hernandez\", \"Anderson\", \"Garcia\", \"Martinez\", \"Jackson\", \"Robinson\", \"Clark\", \"Lewis\", \"Lee\", \"White\"], \"email\": [\"michael.harris@example.com\", \"ashley.brown@example.com\", \"christopher.smith@example.com\", \"jessica.davis@example.com\", \"david.garcia@example.com\", \"amanda.rodriguez@example.com\", \"matthew.wilson@example.com\", \"jennifer.martin@example.com\", \"joshua.taylor@example.com\", \"elizabeth.thomas@example.com\", \"joseph.hernandez@example.com\", \"michelle.anderson@example.com\", \"kevin.garcia@example.com\", \"sarah.martinez@example.com\", \"daniel.jackson@example.com\", \"emily.robinson@example.com\", \"ryan.clark@example.com\", \"melissa.lewis@example.com\", \"brandon.lee@example.com\", \"stephanie.white@example.com\"], \"job_title\": [\"Software Engineer\", \"Data Scientist\", \"Product Manager\", \"Marketing Manager\", \"Sales Manager\", \"Human Resources Manager\", \"Financial Analyst\", \"Project Manager\", \"Business Analyst\", \"Operations Manager\", \"Customer Service Representative\", \"Accountant\", \"Administrative Assistant\", \"Sales Representative\", \"Marketing Specialist\", \"Web Developer\", \"Graphic Designer\", \"Network Engineer\", \"Software Developer\", \"Data Analyst\"], \"company\": [\"Google\", \"Amazon\", \"Facebook\", \"Apple\", \"Microsoft\", \"Samsung\", \"IBM\", \"Oracle\", \"SAP\", \"Salesforce\", \"Adobe\", \"Cisco\", \"Intel\", \"Qualcomm\", \"Netflix\", \"Twitter\", \"Uber\", \"Airbnb\", \"Dropbox\", \"Spotify\"], \"location\": [\"New York\", \"Los Angeles\", \"Chicago\", \"Houston\", \"Philadelphia\", \"Phoenix\", \"San Antonio\", \"San Diego\", \"Dallas\", \"San Jose\", \"Austin\", \"Jacksonville\", \"Fort Worth\", \"Columbus\", \"Charlotte\", \"Indianapolis\", \"San Francisco\", \"Seattle\", \"Denver\", \"Washington, D.C.\"], \"experiences\": [null, null, null, null, null, null, null, null, null, null, null, null, null, null, null, null, null, null, null, null], \"education\": [null, null, null, null, null, null, null, null, null, null, null, null, null, null, null, null, null, null, null, null], \"skills\": [null, null, null, null, null, null, null, null, null, null, null, null, null, null, null, null, null, null, null, null], \"languages\": [null, null, null, null, null, null, null, null, null, null, null, null, null, null, null, null, null, null, null, null], \"created_at\": [\"2023-03-08T00:00:00.000Z\", \"2022-03-10T00:00:00.000Z\", \"2021-04-06T00:00:00.000Z\", \"2021-09-20T00:00:00.000Z\", \"2022-09-27T00:00:00.000Z\", \"2023-08-09T00:00:00.000Z\", \"2023-09-21T00:00:00.000Z\", \"2021-07-27T00:00:00.000Z\", \"2022-04-04T00:00:00.000Z\", \"2021-11-03T00:00:00.000Z\", \"2020-07-24T00:00:00.000Z\", \"2022-05-21T00:00:00.000Z\", \"2020-05-17T00:00:00.000Z\", \"2023-09-04T00:00:00.000Z\", \"2020-03-28T00:00:00.000Z\", \"2020-11-22T00:00:00.000Z\", \"2023-03-12T00:00:00.000Z\", \"2021-04-28T00:00:00.000Z\", \"2023-02-26T00:00:00.000Z\", \"2020-11-18T00:00:00.000Z\"], \"updated_at\": [\"2023-03-08T00:00:00.000Z\", \"2022-03-10T00:00:00.000Z\", \"2021-04-06T00:00:00.000Z\", \"2021-09-20T00:00:00.000Z\", \"2022-09-27T00:00:00.000Z\", \"2023-08-09T00:00:00.000Z\", \"2023-09-21T00:00:00.000Z\", \"2021-07-27T00:00:00.000Z\", \"2022-04-04T00:00:00.000Z\", \"2021-11-03T00:00:00.000Z\", \"2020-07-24T00:00:00.000Z\", \"2022-05-21T00:00:00.000Z\", \"2020-05-17T00:00:00.000Z\", \"2023-09-04T00:00:00.000Z\", \"2020-03-28T00:00:00.000Z\", \"2020-11-22T00:00:00.000Z\", \"2023-03-12T00:00:00.000Z\", \"2021-04-28T00:00:00.000Z\", \"2023-02-26T00:00:00.000Z\", \"2020-11-18T00:00:00.000Z\"]}\n",
      "\n"
     ]
    }
   ],
   "source": [
    "generation_config = {\n",
    "    \"max_output_tokens\": 8192,\n",
    "    \"temperature\": 2,\n",
    "    \"top_p\": 0.95,\n",
    "    \"response_mime_type\": \"application/json\"\n",
    "}\n",
    "\n",
    "safety_settings = {\n",
    "    generative_models.HarmCategory.HARM_CATEGORY_HATE_SPEECH: generative_models.HarmBlockThreshold.BLOCK_NONE,\n",
    "    generative_models.HarmCategory.HARM_CATEGORY_DANGEROUS_CONTENT: generative_models.HarmBlockThreshold.BLOCK_NONE,\n",
    "    generative_models.HarmCategory.HARM_CATEGORY_SEXUALLY_EXPLICIT: generative_models.HarmBlockThreshold.BLOCK_NONE,\n",
    "    generative_models.HarmCategory.HARM_CATEGORY_HARASSMENT: generative_models.HarmBlockThreshold.BLOCK_NONE,\n",
    "}\n",
    "\n",
    "model = GenerativeModel(\n",
    "    model_id,\n",
    ")\n",
    "prompt = \"\"\"\n",
    "Your mission is to create false user profiles with the following schema:\n",
    "['id', 'name', 'first_name', 'last_name', 'email', 'job_title', 'company', 'location', 'experiences', 'education', 'skills', 'languages', 'created_at', 'updated_at']\n",
    "\n",
    "<rules>\n",
    "The output should be a JSON format where the key name is the same as the schema.\n",
    "Create 20 rows with key, value pairs.\n",
    "Use random synthetic data for the value.\n",
    "</rules>\n",
    "\n",
    "\n",
    "\"\"\"\n",
    "\n",
    "response = model.generate_content(\n",
    "    [prompt],\n",
    "    generation_config=generation_config,\n",
    "    safety_settings=safety_settings,\n",
    ")\n",
    "\n",
    "print(response.text)"
   ]
  },
  {
   "cell_type": "code",
   "execution_count": 5,
   "id": "Q58SQoYzD2x8",
   "metadata": {
    "executionInfo": {
     "elapsed": 274,
     "status": "ok",
     "timestamp": 1721410998796,
     "user": {
      "displayName": "",
      "userId": ""
     },
     "user_tz": 240
    },
    "id": "Q58SQoYzD2x8"
   },
   "outputs": [],
   "source": [
    "output = json.loads(response.text)"
   ]
  },
  {
   "cell_type": "markdown",
   "id": "TaAIjnozF3gh",
   "metadata": {
    "id": "TaAIjnozF3gh"
   },
   "source": [
    "# From Structured Data to Natural Language"
   ]
  },
  {
   "cell_type": "markdown",
   "id": "M1Uf1ym8FCNu",
   "metadata": {
    "id": "M1Uf1ym8FCNu"
   },
   "source": [
    "\n",
    "\n",
    "> This is for when you have real large dataset, if is a demo and the data is synthetic this step can be skipped.\n",
    "\n"
   ]
  },
  {
   "cell_type": "code",
   "execution_count": 6,
   "id": "L3THBFZnPEt0",
   "metadata": {
    "executionInfo": {
     "elapsed": 232,
     "status": "ok",
     "timestamp": 1721411914013,
     "user": {
      "displayName": "",
      "userId": ""
     },
     "user_tz": 240
    },
    "id": "L3THBFZnPEt0"
   },
   "outputs": [],
   "source": [
    "vertexai.init(project=project_id, location=\"us-central1\")\n",
    "model = GenerativeModel(\n",
    "    model_id,\n",
    "    system_instruction=[\n",
    "    \"\"\"\n",
    "    Without missing any word/details transform the following dictionary as a 500 token paragraph (chunks) separated by breaklines.\n",
    "    \"\"\"\n",
    "    ]\n",
    ")\n",
    "emb_model = TextEmbeddingModel.from_pretrained(emb_model_id)"
   ]
  },
  {
   "cell_type": "code",
   "execution_count": 144,
   "id": "MdX4F5d3PGP5",
   "metadata": {
    "executionInfo": {
     "elapsed": 193,
     "status": "ok",
     "timestamp": 1721411915976,
     "user": {
      "displayName": "",
      "userId": ""
     },
     "user_tz": 240
    },
    "id": "MdX4F5d3PGP5"
   },
   "outputs": [],
   "source": [
    "generation_config = {\n",
    "    \"max_output_tokens\": 8192,\n",
    "    \"temperature\": 2,\n",
    "    \"top_p\": 0.95,\n",
    "}\n",
    "\n",
    "def generate_structure(dictionary: str):\n",
    "  prompt = f\"\"\"\n",
    "  <dictionary>\n",
    "  {dictionary}\n",
    "  <dictionary>\n",
    "\n",
    "  \"\"\"\n",
    "\n",
    "  responses = model.generate_content(\n",
    "      [prompt],\n",
    "      generation_config=generation_config,\n",
    "      stream=True,\n",
    "  )\n",
    "  gemini_response = []\n",
    "  try:\n",
    "    for response in responses:\n",
    "      print(response.text)\n",
    "      gemini_response.append(response.text)\n",
    "  except:\n",
    "    print(responses)\n",
    "    return \"error\"\n",
    "\n",
    "  return \"\".join(gemini_response)\n"
   ]
  },
  {
   "cell_type": "code",
   "execution_count": 137,
   "id": "3ffu3WMqHTsF",
   "metadata": {
    "executionInfo": {
     "elapsed": 225,
     "status": "ok",
     "timestamp": 1721411673897,
     "user": {
      "displayName": "",
      "userId": ""
     },
     "user_tz": 240
    },
    "id": "3ffu3WMqHTsF"
   },
   "outputs": [],
   "source": [
    "_dataset = []\n",
    "# Iterate through each \"row\" (index)\n",
    "for i in range(len(output['id'])):\n",
    "    row_data = {}\n",
    "    # Iterate through each key (column)\n",
    "    for key in output:\n",
    "        row_data[key] = output[key][i]\n",
    "\n",
    "    # Now row_data contains the key-value pairs for the current row\n",
    "    _dataset.append(row_data)"
   ]
  },
  {
   "cell_type": "code",
   "execution_count": 145,
   "id": "4jjntIrnPH0J",
   "metadata": {
    "colab": {
     "base_uri": "https://localhost:8080/"
    },
    "executionInfo": {
     "elapsed": 115976,
     "status": "ok",
     "timestamp": 1721412041260,
     "user": {
      "displayName": "",
      "userId": ""
     },
     "user_tz": 240
    },
    "id": "4jjntIrnPH0J",
    "outputId": "eccf9882-c7e8-4366-9270-b3afe31b3898"
   },
   "outputs": [
    {
     "name": "stdout",
     "output_type": "stream",
     "text": [
      "Benjamin\n",
      " Harris is a Software Engineer at Google, based in New York City. His journey\n",
      " includes a Software Engineer Intern role at Microsoft in 2019. \n",
      "\n",
      "\n",
      "Benjamin holds a Master of Science in Computer Science from Stanford University, which he earned in 2019, and a Bachelor of Science in Computer Science\n",
      " from the University of California, Berkeley, obtained in 2017. His skillset boasts proficiency in Python, Java, C++, and SQL. While\n",
      " he primarily communicates in English, Benjamin's expertise shines through in his technical abilities.\n",
      "\n",
      "His professional identity is further encapsulated in his record, bearing the unique identifier 'e8c5d4a4-3fc7-41\n",
      "bd-92d5-878947a43224'. \n",
      "\n",
      "This information, accurate as of its last update on 2023-11-16T10:2\n",
      "1:34.567Z, provides a glimpse into Benjamin's qualifications. Notably, a set of embeddings, represented by a lengthy string of numerical values, further enriches his profile. This numerical fingerprint, capturing the essence of his skills and experiences, enables sophisticated data analysis and knowledge discovery. \n",
      "\n",
      "\n",
      "Tyler\n",
      " Lawson, with an ID of 39d6f10a-\n",
      "084c-4374-b11c-1\n",
      "e97b14584b9, is a Data Scientist at Amazon based in Los Angeles. His email address is tylerlawson@\n",
      "example.com.\n",
      "\n",
      "Tyler has a strong background in data science, with experience as a Data Scientist at Amazon since 2018. Prior to his\n",
      " current role, he completed a Data Science Internship at Facebook in 2017.\n",
      "\n",
      "He holds a Master of Science in Data Science from Carnegie Mellon University, which he earned in 2018. Tyler also earned a Bachelor\n",
      " of Science in Mathematics from the University of California, Los Angeles, in 2016.\n",
      "\n",
      "His technical skills include proficiency in Python, R, SQL, and Machine Learning.  Tyler is bilingual and fluent in both English and Spanish\n",
      ".\n",
      "\n",
      "This information was first recorded on July 11th, 2022, at 06:33:05.856Z and last updated a day later on July 12th, 2022, at 06:33:05\n",
      ".856Z.\n",
      "\n",
      "\n",
      "This\n",
      " document details information about an individual named Austin Martin, identifiable by the unique ID '\n",
      "d2003255-8e20-45\n",
      "b6-9f0f-0985c8c5e488'. Austin currently holds the position of Product Manager at Facebook,\n",
      " based in Chicago. His professional journey includes a previous role as a Product Management Intern at Apple in 2018. \n",
      "\n",
      "Austin's email address\n",
      " is austinmartin@example.com. On his educational front, he has earned a Master of Business Administration degree from Harvard Business School in 2019 and a Bachelor of Arts degree in Economics from Stanford University in 201\n",
      "7.  \n",
      "\n",
      "He possesses a strong skillset comprising Product Management, Market Research, and Data Analysis, and he is proficient in English. This record was initially created on January 21st, 2022 at 1\n",
      "0:44:27 PM UTC and last updated on January 22nd, 2022, at the same time. \n",
      "\n",
      "\n",
      "Charles\n",
      " Thompson (id: 7a187e0e-e1\n",
      "27-4892-a74c-a23\n",
      "0e7d40d43) is a Marketing Manager at Apple, based in Houston. He can be reached at charlesthompson@example.\n",
      "com. \n",
      "\n",
      "Charles has a strong background in marketing, with experience as both a Marketing Manager and a Marketing Intern. He began his career as a Marketing Intern\n",
      " at Google in 2019. Currently, he holds the position of Marketing Manager at Apple, a role he has held since 2020.\n",
      "\n",
      "His academic credentials include a Master of Science in Marketing from Northwestern University,\n",
      " which he completed in 2020, and a Bachelor of Arts in Communications from the University of California, Berkeley, obtained in 2018.\n",
      "\n",
      "Charles possesses a diverse skillset encompassing Marketing, Social Media Marketing, and\n",
      " Content Marketing. He is fluent in English and French.\n",
      "\n",
      "His profile was created on January 4th, 2023 at 13:35:36.490Z and last updated on January 5th, 2023 at 13:35:\n",
      "36.490Z.\n",
      "\n",
      "\n",
      "Melissa\n",
      " Davis, with the unique ID 13268b3a-\n",
      "9f44-4400-a63f-2\n",
      "41a8a35028c, is a Sales Manager at Microsoft, based in Phoenix. Her email address is melissadavis@\n",
      "example.com. Melissa has considerable experience in sales, having worked as a Sales Manager at Microsoft since 2018 and prior to that, as a\n",
      " Sales Intern at Amazon in 2017.\n",
      "\n",
      "She holds a Bachelor of Science in Business Administration, which she received from the University of Pennsylvania in 2018. Melissa possesses a strong skillset in Sales, Account Management\n",
      ", and Customer Relationship Management. Her primary language is English. \n",
      "\n",
      "Melissa's profile was created on November 27th, 2022, at 08:37:48.496 UTC\n",
      " and was last updated on November 28th, 2022, at 08:37:48.496 UTC. \n",
      "\n",
      "\n",
      "Michael\n",
      " White, with the unique ID 4864a703-\n",
      "703d-4b4b-bc63-94\n",
      "b32c92457b, currently holds the position of Human Resources Manager at Tesla in Philadelphia. He can be reached at michaelwhite@\n",
      "example.com.\n",
      "\n",
      "Michael's professional journey includes his current role at Tesla, which he began in 2019, and a previous internship as\n",
      " a Human Resources Intern at SpaceX in 2018.\n",
      "\n",
      "His academic background is marked by a Master of Science in Human Resources Management from Cornell University, obtained in 2019, and a Bachelor of Arts in Psychology from\n",
      " New York University, completed in 2017.\n",
      "\n",
      "His expertise lies in the areas of Human Resources, Recruiting, and Employee Relations. Michael is proficient in English.\n",
      "\n",
      "This profile was created on February 17, 2\n",
      "022, at 18:50:48.447Z and was last updated on February 18, 2022, at 18:50:48.447Z. \n",
      "\n",
      "\n",
      "Emily\n",
      " Thomas, with the ID 82686d18-3\n",
      "602-4c1b-a058-88\n",
      "d7d0b29f77, is a Financial Analyst at SpaceX, based in San Antonio.  She can be reached at emilythomas@\n",
      "example.com.  Her professional journey includes her current role as a Financial Analyst at SpaceX, which she began in 2020, and a prior\n",
      " experience as a Finance Intern at Netflix in 2019.\n",
      "\n",
      "Emily holds a Master of Science in Finance from the Massachusetts Institute of Technology, which she earned in 2020.  She also completed her Bachelor of Science\n",
      " in Mathematics at the University of California, Berkeley, in 2018.\n",
      "\n",
      "Her skillset encompasses Financial Analysis, Financial Modeling, and Investment Banking.  She is proficient in English.  Her profile was created on October 2\n",
      "1, 2023, at 08:28:58.059Z and last updated on October 22, 2023, at 08:28:58.059Z. \n",
      "\n",
      "\n",
      "Elizabeth\n",
      " Anderson, with the unique ID 944a776a-\n",
      "3811-4508-9857-c\n",
      "11d2c0260b3, is a highly accomplished individual currently residing in San Diego. Holding the position of Project Manager at the renowned\n",
      " entertainment company Netflix, Elizabeth has garnered valuable experience in her field. Her professional journey commenced with an internship in Project Management at Disney in 2017.\n",
      "  \n",
      "\n",
      "Following her internship, Elizabeth joined Netflix in 2018 as a Project Manager, a role she continues to excel in. Her educational background is equally impressive, boasting a Master of Science degree in Project Management from Northwestern University,\n",
      " obtained in 2018.  Prior to that, she earned a Bachelor of Science degree in Civil Engineering from Stanford University in 2016, demonstrating her diverse academic foundation.  \n",
      "\n",
      "Elizabeth possesses a strong command of English\n",
      " and a remarkable skillset in project management. Her expertise encompasses Project Management, Agile Methodologies, and Risk Management.  This information was recorded on August 14, 2023, at 16:53:04.791Z and last updated on August 15,\n",
      " 2023, at 16:53:04.791Z. \n",
      "\n",
      "\n",
      "Kevin\n",
      " Garcia is a Business Analyst at Disney, based in Dallas.  With a strong\n",
      " background in business analysis and data analysis, Kevin brings a wealth of experience to his\n",
      " role.\n",
      "\n",
      "Kevin's professional journey includes a successful stint as a Business Analyst at Disney, a position he has held since 2019. Prior\n",
      " to joining Disney, he honed his skills as a Business Analyst Intern at Uber in 2018, gaining valuable industry exposure.\n",
      "\n",
      "His academic credentials are\n",
      " equally impressive. Kevin holds a Master of Science in Business Analytics from the University of Texas at Austin, which he earned in 2019. His foundation in business and economics stems from his Bachelor of Science in Economics degree from the University\n",
      " of California, Los Angeles, obtained in 2017.\n",
      "\n",
      "Beyond his technical skills in Business Analysis, Data Analysis, and Process Improvement, Kevin is also multilingual, fluent in both English and Mandarin Chinese. His comprehensive skillset makes\n",
      " him a valuable asset to any organization.\n",
      "\n",
      "This information about Kevin Garcia was first recorded on September 28th, 2022 and last updated on September 29th, 2022.  His unique identification number is 82f0518c-4e4\n",
      "e-4890-a7d7-c95c4ff9e4c9. You can reach Kevin via email at kevingarcia@example.com. \n",
      "\n",
      "\n",
      "Thomas\n",
      " Wilson (ID: 0b40371c-92\n",
      "5c-485c-a42e-393\n",
      "e1086f95b) is currently employed as an Operations Manager at Uber, located in San Jose. He can be reached at thomaswilson\n",
      "@example.com.\n",
      "\n",
      "Thomas holds a Master of Business Administration (MBA) from Columbia Business School, which he completed in 2020. Prior\n",
      " to that, he earned a Bachelor of Science in Industrial Engineering from Purdue University, graduating in 2018. \n",
      "\n",
      "His work experience includes an Operations Internship at Lyft in 2019.  He possesses a strong skill\n",
      "set in Operations Management, Supply Chain Management, and Logistics.  Thomas is proficient in English. \n",
      "\n",
      "His profile was created on March 22nd, 2022, at 10:49:33\n",
      " PM UTC and last updated on March 23rd, 2022, at 10:49:33 PM UTC. \n",
      "\n",
      "\n",
      "This\n",
      " is a record for an individual with the unique ID \"b8713\n",
      "743-607b-4797-8a\n",
      "48-c715a762d564\". The individual's name is John Williams, with \"John\" being the first\n",
      " name and \"Williams\" being the last name. Their contact information includes the email address \"johnwilliams@example.com\".\n",
      "\n",
      "John's professional life includes\n",
      " the job title of \"Customer Service Representative\" at the company \"Lyft,\" located in \"Austin.\" Their work history shows they've held this role at Lyft from 2018 to the present.\n",
      "\n",
      "Education-wise,\n",
      " John holds an \"Associate of Arts\" degree from \"Miami Dade College,\" obtained in 2018. Their skillset encompasses \"Customer Service,\" \"Technical Support,\" and \"Problem Solving.\" Additionally, John is proficient in \"English\n",
      "\" and \"Spanish.\"\n",
      "\n",
      "This record was first created on \"2023-02-02\" at \"08:39:53.685Z\" and last updated on \"2023-02-03\" at \"08:39:\n",
      "53.685Z.\" \n",
      "\n",
      "\n",
      "Michael\n",
      " Rodriguez, with an ID of 802f919b-\n",
      "774e-4c8c-a999-9\n",
      "b8c301b6703, is a Technical Writer at Airbnb based in Jacksonville.  \n",
      "\n",
      "His email address is michaelrodriguez@\n",
      "example.com.  \n",
      "\n",
      "Michael's work experience includes his current role as Technical Writer at Airbnb, which he has held since 2019.\n",
      "  \n",
      "\n",
      "He holds a Bachelor of Arts in English from the University of Florida, which he obtained in 2019.  \n",
      "\n",
      "His skillset encompasses Technical Writing, Documentation, and Content Creation.  \n",
      "\n",
      "Michael is proficient in English\n",
      ".  \n",
      "\n",
      "His profile was created on December 23rd, 2022, at 13:42:38.547Z and last updated on December 24th, 20\n",
      "22, at 13:42:38.547Z.\n",
      "\n",
      "\n",
      "Ashley\n",
      " Hernandez, with a unique ID of e59b93f7-\n",
      "6553-4208-b43f-6\n",
      "a094d3e0c4c, is a Web Developer currently working at Dropbox in Fort Worth. Ashley's professional journey is highlighted by\n",
      " her role as a Web Developer at Dropbox, a position she has held since 2020. \n",
      "\n",
      "Her academic background includes a Bachelor of Science in\n",
      " Computer Science, which she earned from the Georgia Institute of Technology in 2020.  Ashley's skillset comprises Web Development, HTML, CSS, and JavaScript, reflecting her technical proficiency. She is fluent in English, facilitating\n",
      " effective communication in her professional sphere. \n",
      "\n",
      "Ashley's profile information, recorded on May 28, 2023, at 20:10:09.344 UTC, was last updated the\n",
      " following day, May 29, 2023, at the same time.  \n",
      "\n",
      "\n",
      "David\n",
      " Garcia is a UX Designer at Pinterest based in Columbus. With a strong background in\n",
      " design, evidenced by his Bachelor of Fine Arts in Design from the Rhode Island School\n",
      " of Design (2018), David has been honing his skills in the field since 2018. \n",
      "\n",
      "His expertise lies in UX Design\n",
      ", User Research, and Wireframing, making him a valuable asset to the Pinterest team. Fluent in both English and German, David brings a global perspective to his\n",
      " work. \n",
      "\n",
      "This information, stored under the unique ID '3a417d72-7778-4250-8250-c6962d67860\n",
      "9', represents his professional profile as of his last update on April 11, 2022, a day after its initial creation on April 10, 2022.\n",
      "\n",
      "\n",
      "Amanda\n",
      " Clark is a Graphic Designer based in Charlotte. With a strong background in visual communication\n",
      ", Amanda currently works at Spotify, a position she has held since 20\n",
      "19. \n",
      "\n",
      "Her design journey began at Parsons School of Design, where she earned a Bachelor of Fine Arts in Graphic Design in 2019\n",
      ". This education equipped her with a comprehensive understanding of design principles and a keen eye for aesthetics. \n",
      "\n",
      "At Spotify, Amanda leverages her expertise in Graphic Design\n",
      ", Adobe Creative Suite, and Typography to create visually compelling and engaging designs. Her work contributes to the company's overall brand identity and user experience.\n",
      "\n",
      "Fluent in English, Amanda is a highly effective communicator, able to articulate her design ideas\n",
      " clearly and collaborate seamlessly with colleagues and clients.  \n",
      "\n",
      "This profile was created on March 14, 2023, and last updated on March 15, 2023. It provides a snapshot of Amanda\n",
      "'s professional background and skills, showcasing her as a talented and dedicated Graphic Designer. \n",
      "\n",
      "\n",
      "Amanda\n",
      " Gonzalez, with the unique ID 14d5803a-\n",
      "033b-4679-81f3-8\n",
      "99b88e5b626, holds the position of Accountant at Twitter in Indianapolis.  She began her role in 202\n",
      "0 and continues to excel in this position today.  Amanda's expertise lies in the fields of Accounting, Financial Reporting, and Tax Preparation.\n",
      "\n",
      "Her impressive\n",
      " academic background includes a Bachelor of Science in Accounting, which she obtained from the University of Illinois at Urbana-Champaign in 2020.  Amanda is fluent in English.\n",
      "\n",
      "For any inquiries or further correspondence, she can be reached\n",
      " at amandagonzalez@example.com.  This profile was initially created on June 5th, 2023, at 12:40:39 AM and was last updated the following day,\n",
      " June 6th, 2023, at the same time.\n",
      "\n",
      "\n",
      "Matthew\n",
      " Williams, with a unique ID of 38886f49\n",
      "-b051-470b-a89b-\n",
      "3439397b9546, currently works as an Administrative Assistant at Instagram in San Francisco.  His email address is matthe\n",
      "wwilliams@example.com. Matthew's professional journey includes his role as an Administrative Assistant at Instagram, which he started in 2018\n",
      " and continues to hold. \n",
      "\n",
      "On the educational front, Matthew earned an Associate of Arts degree from Houston Community College in 2018. His skillset encompasses Administrative Support, proficiency in Microsoft Office Suite, and Calendar Management. He\n",
      " is fluent in English.\n",
      "\n",
      "Matthew's profile information was created on August 2nd, 2022, at 15:36:30.515Z and last updated on August 3rd\n",
      ", 2022, at 15:36:30.515Z. \n",
      "\n",
      "\n",
      "Jessica\n",
      " Lewis (ID: 1291db7b-159\n",
      "2-4986-a04f-c832\n",
      "a5824d1d) is a Recruiter at Snapchat based in Seattle.  She has held this role since 2019.\n",
      " Jessica can be reached at jessicalewis@example.com.\n",
      "\n",
      "In terms of her work history, Jessica's experience includes her current role as\n",
      " Recruiter at Snapchat, which she began in 2019.  \n",
      "\n",
      "Jessica's educational background includes a Bachelor of Arts in Psychology from Arizona State University, earned in 2019.  \n",
      "\n",
      "She possesses a strong\n",
      " skillset in Recruiting, Talent Acquisition, and Applicant Tracking Systems.  Furthermore, Jessica is fluent in both English and Spanish.\n",
      "\n",
      "Jessica's profile was created on September 6th, 2023, at 1:\n",
      "15:51 PM UTC and last updated on September 7th, 2023, at 1:15:51 PM UTC. \n",
      "\n",
      "\n",
      "This\n",
      " data represents a user profile with the unique ID \"525c52\n",
      "e3-865e-4445-a87\n",
      "f-7c06946c3547\". The individual's name is Jessica Garcia, with Jessica as her first name and Garcia\n",
      " as her last name. Her email address is jessicagarcia@example.com. \n",
      "\n",
      "Jessica holds the position of Sales Representative at TikTok, a\n",
      " company based in Denver. Her professional experience includes her current role as Sales Representative at TikTok, which she has held since 2020. \n",
      "\n",
      "In terms of education, Jessica obtained a Bachelor of Science degree in Marketing from Texas A\n",
      "&M University in 2020. Her skillset encompasses Sales, Cold Calling, and Lead Generation. \n",
      "\n",
      "Jessica is proficient in English. The profile was created on May 25, 2022, at\n",
      " 19:25:56.307 UTC and last updated on May 26, 2022, at 19:25:56.307 UTC.\n",
      "\n",
      "\n",
      "Kevin\n",
      " Thomas, with the unique ID db48168e-1a\n",
      "3c-4276-8904-123\n",
      "1a4115a9f, is a Marketing Specialist currently employed at Zoom in Washington, D.C. His email address is kevinthomas@\n",
      "example.com. \n",
      "\n",
      "Kevin holds a Bachelor of Arts in Communications from the University of Southern California, graduating in 2018. He began his\n",
      " role as a Marketing Specialist at Zoom the same year and continues in this position to the present day. \n",
      "\n",
      "His skillset encompasses Marketing, Digital Marketing, and Email Marketing. He is proficient in both English and French. \n",
      "\n",
      "Kevin'\n",
      "s profile was created on July 1st, 2023, at 02:46:25.810Z and last updated a day later on July 2nd, 2023\n",
      ", at 02:46:25.810Z. \n",
      "\n",
      "\n"
     ]
    }
   ],
   "source": [
    "for n, profile in enumerate(_dataset):\n",
    "  _re = generate_structure(str(profile))\n",
    "  if _re == \"error\":\n",
    "    break\n",
    "  _re_for_emb = _re.split(\"\\n\\n\")\n",
    "  inputs = [TextEmbeddingInput(text, \"RETRIEVAL_DOCUMENT\") for text in _re_for_emb]\n",
    "  embeddings = emb_model.get_embeddings(inputs)\n",
    "  _dataset[n][\"description\"] = _re\n",
    "  _dataset[n][\"embeddings\"] = embeddings[0].values"
   ]
  },
  {
   "cell_type": "markdown",
   "id": "-XmUAP3QJgYF",
   "metadata": {
    "id": "-XmUAP3QJgYF"
   },
   "source": [
    "# Store In Google Cloud Storage\n",
    "\n"
   ]
  },
  {
   "cell_type": "code",
   "execution_count": 147,
   "id": "IKoxFR9XJaha",
   "metadata": {
    "executionInfo": {
     "elapsed": 448,
     "status": "ok",
     "timestamp": 1721412054030,
     "user": {
      "displayName": "",
      "userId": ""
     },
     "user_tz": 240
    },
    "id": "IKoxFR9XJaha"
   },
   "outputs": [],
   "source": [
    "client = storage.Client()\n",
    "bucket = client.get_bucket(bucket_id)\n",
    "bucket.blob(f\"{bucket_folder}/dataset.json\").upload_from_string(json.dumps(_dataset), content_type=\"application/json\")"
   ]
  }
 ],
 "metadata": {
  "colab": {
   "name": "jesusarguelles (Jul 19, 2024, 9:43:24 AM)",
   "provenance": []
  },
  "kernelspec": {
   "display_name": "Python 3 (ipykernel)",
   "language": "python",
   "name": "python3"
  },
  "language_info": {
   "codemirror_mode": {
    "name": "ipython",
    "version": 3
   },
   "file_extension": ".py",
   "mimetype": "text/x-python",
   "name": "python",
   "nbconvert_exporter": "python",
   "pygments_lexer": "ipython3",
   "version": "3.11.6"
  }
 },
 "nbformat": 4,
 "nbformat_minor": 5
}
