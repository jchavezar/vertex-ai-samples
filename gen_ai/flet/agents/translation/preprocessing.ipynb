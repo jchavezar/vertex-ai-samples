{
 "cells": [
  {
   "metadata": {
    "ExecuteTime": {
     "end_time": "2024-11-20T14:36:36.174768Z",
     "start_time": "2024-11-20T14:36:34.994993Z"
    }
   },
   "cell_type": "code",
   "source": [
    "import vertexai\n",
    "from vertexai.generative_models import GenerativeModel, Part, SafetySetting\n",
    "\n",
    "from translation_eng_spa.one_code import system_instruction"
   ],
   "id": "b6a5f033a45e2d99",
   "outputs": [],
   "execution_count": 1
  },
  {
   "metadata": {
    "ExecuteTime": {
     "end_time": "2024-11-20T14:36:55.537203Z",
     "start_time": "2024-11-20T14:36:55.533583Z"
    }
   },
   "cell_type": "code",
   "source": [
    "project_id = \"vtxdemos\"\n",
    "location = \"us-central1\""
   ],
   "id": "623e56d08ff4121",
   "outputs": [],
   "execution_count": 2
  },
  {
   "metadata": {
    "ExecuteTime": {
     "end_time": "2024-11-20T14:40:12.448263Z",
     "start_time": "2024-11-20T14:40:12.446034Z"
    }
   },
   "cell_type": "code",
   "source": "vertexai.init(project=project_id, location=location)",
   "id": "61c0617d1dd2a796",
   "outputs": [],
   "execution_count": 4
  },
  {
   "metadata": {
    "ExecuteTime": {
     "end_time": "2024-11-20T14:40:58.917683Z",
     "start_time": "2024-11-20T14:40:58.914715Z"
    }
   },
   "cell_type": "code",
   "source": [
    "with open(\"./documents/manual_redaccion_veracruz.pdf\", \"rb\") as f:\n",
    "  _data = f.read()\n",
    "\n",
    "_file = Part.from_data(\n",
    "    mime_type=\"application/pdf\",\n",
    "    data=_data,\n",
    ")"
   ],
   "id": "b53d2d39b0248927",
   "outputs": [],
   "execution_count": 7
  },
  {
   "metadata": {
    "ExecuteTime": {
     "end_time": "2024-11-20T15:21:04.460829Z",
     "start_time": "2024-11-20T15:21:04.455743Z"
    }
   },
   "cell_type": "code",
   "source": [
    "system_instruction = \"\"\"\n",
    "Eres un linguista experto en redaccion periodista para Mexico, recibiras un document con reglas para el Estado de Veracruz en Mexico.\n",
    "\n",
    "Tu tarea es la extraccion veraz y precisa (pagina por pagina) de aspectos relevantes que te ayuden a crear un manual para ser usado como referencia del ingles al espanol.\n",
    "\n",
    "Reglas:\n",
    "* Datos Generales son Irrelevantes.\n",
    "* Tu tarea es hacer un manual que ayuda a la generacion de una nota periodistica.\n",
    "* No olvides ejemplos o informacion relevante para la generacion de la nota.\n",
    "* El resultado debera ser en espanol.\n",
    "\"\"\""
   ],
   "id": "806b2206e753afac",
   "outputs": [],
   "execution_count": 15
  },
  {
   "metadata": {
    "ExecuteTime": {
     "end_time": "2024-11-20T15:21:05.896159Z",
     "start_time": "2024-11-20T15:21:05.889130Z"
    }
   },
   "cell_type": "code",
   "source": [
    "model = GenerativeModel(\n",
    "    \"gemini-1.5-pro-002\",\n",
    "    system_instruction=system_instruction\n",
    ")"
   ],
   "id": "5e00189afb2db086",
   "outputs": [],
   "execution_count": 16
  },
  {
   "metadata": {
    "ExecuteTime": {
     "end_time": "2024-11-20T15:21:38.670615Z",
     "start_time": "2024-11-20T15:21:06.768389Z"
    }
   },
   "cell_type": "code",
   "source": [
    "try:\n",
    "  re = model.generate_content([\"File:\\n\", _file])\n",
    "except Exception as e:\n",
    "  print(e)"
   ],
   "id": "417fcfdf45c146b0",
   "outputs": [],
   "execution_count": 17
  },
  {
   "metadata": {
    "ExecuteTime": {
     "end_time": "2024-11-20T15:21:38.704679Z",
     "start_time": "2024-11-20T15:21:38.700027Z"
    }
   },
   "cell_type": "code",
   "source": "print(re.text)",
   "id": "940163d80ef254f7",
   "outputs": [
    {
     "name": "stdout",
     "output_type": "stream",
     "text": [
      "## Manual para la Redacción de una Nota Informativa (Veracruz, México)\n",
      "\n",
      "Este manual se basa en el \"Manual de Prácticas para facilitar la redacción de la nota informativa impresa\" de la Universidad Veracruzana y ofrece una guía práctica para periodistas en Veracruz, México.\n",
      "\n",
      "**I. La Nota Informativa:**\n",
      "\n",
      "* **Definición:** Género expositivo que informa oportunamente sobre un acontecimiento noticioso. Se integra información de una o varias fuentes en una secuencia lógica.\n",
      "* **Características:**\n",
      "    * Veraz: Transmite la realidad sin deformar.\n",
      "    * Oportuna: Se refiere a la actualidad inmediata.\n",
      "    * Objetiva: Evita opiniones o juicios del reportero.\n",
      "* **Estructura:**\n",
      "    * Entrada (lead): Primer párrafo, resume la noticia y capta la atención del lector. Responde a las 5W's (Quién, Qué, Cuándo, Dónde, Por qué).\n",
      "    * Cuerpo: Amplía, explica y refuerza la entrada. Detalles de menor importancia van en orden descendente.\n",
      "    * Remate: Último párrafo, datos menos relevantes pero concluyentes. Puede incluir información de contacto.\n",
      "\n",
      "**II. La Entrada (Lead):**\n",
      "\n",
      "* **Importancia:** Parte crucial de la nota, la más difícil de redactar. Debe ser atractiva y con gancho noticioso.\n",
      "* **Las 5W's:**\n",
      "    * **Quién:** Se usa cuando la persona involucrada es relevante.  Ejemplo: \"La Gobernadora de Veracruz, Cuitláhuac García Jiménez, anunció...\"\n",
      "    * **Qué:** Prioritario cuando el hecho es más importante que la persona involucrada. Ejemplo: \"Un terremoto de magnitud 7.5 sacudió...\"\n",
      "    * **Cuándo:** Relevante cuando el tiempo es un factor significativo. Ejemplo: \"Esta mañana, un incendio consumió...\"\n",
      "    * **Dónde:** Importante en situaciones inusuales. Ejemplo: \"En el municipio de Xalapa, se registró un avistamiento...\"\n",
      "    * **Por qué:** Explica las causas del suceso. Ejemplo: \"Debido a las fuertes lluvias, se desbordó el río...\"\n",
      "* **Recomendaciones (Vicente Leñero):**\n",
      "    * No escribir titulares. La noticia comienza con la entrada.\n",
      "    * Evitar lenguaje telegráfico.\n",
      "    * Nombres y cargos completos en la primera mención.\n",
      "    * Verbos en pasado, aunque algunos autores prefieren presente.\n",
      "    * Evitar \"ha informado\", \"ha muerto\", etc.\n",
      "    * No usar abreviaturas.\n",
      "\n",
      "**III. Tipos de Entrada:**\n",
      "\n",
      "* **Cita directa:**  Reproduce textualmente la declaración de alguien.  Ejemplo:  \"“La seguridad es nuestra prioridad”, afirmó el alcalde.\"\n",
      "* **Cita indirecta:** Resume la declaración sin usar las palabras exactas.\n",
      "* **Datos simples:** Un elemento noticioso importante.\n",
      "* **Datos múltiples:** Tres o más datos relevantes. Usar punto y seguido para facilitar la lectura.\n",
      "* **Interpretación:** Resumen, enfoque y análisis del hecho.\n",
      "* **Enumeración:** Similar a datos múltiples, pero con una introducción (\"ventana\").\n",
      "* **Relieve:** Destaca un rasgo particular de una persona, lugar o hecho.\n",
      "* **Cápsula:**  Para noticias de gran impacto o hechos inesperados. Frases cortas y concisas.\n",
      "* **Interrogante:** Formula una pregunta para atraer al lector.\n",
      "\n",
      "**IV. El Cuerpo de la Nota:**\n",
      "\n",
      "* **Estructura:** Pirámide invertida. Información en orden decreciente de importancia. Desarrollar los datos de la entrada en párrafos cortos e independientes.\n",
      "\n",
      "**V. Fuentes de Información:**\n",
      "\n",
      "* **Regulares:** Consulta diaria (gobierno, congreso, policía, etc.).\n",
      "* **Específicas:** Expertos en un tema.\n",
      "* **Circunstanciales:** Congresos, reuniones.\n",
      "* **Documentales:** Archivos, bibliotecas, etc.  Asegurar la credibilidad de la fuente.\n",
      "\n",
      "**VI. Ejemplo de Estructura de Nota con Pirámide Invertida:**\n",
      "\n",
      "* **Titular:** Incendio en Mercado de Veracruz Deja Cientos de Damnificados\n",
      "* **Entrada:** Un voraz incendio consumió esta madrugada el Mercado Hidalgo en el puerto de Veracruz, dejando cientos de comerciantes damnificados y pérdidas millonarias.\n",
      "* **Párrafo 1:**  Se reportan al menos 10 personas heridas por inhalación de humo, quienes fueron trasladadas al Hospital Regional.\n",
      "* **Párrafo 2:** El fuego inició alrededor de las 3:00 am, aparentemente por un corto circuito en la zona de restaurantes.\n",
      "* **Párrafo 3:** Bomberos de Veracruz y Boca del Río trabajaron por horas para controlar las llamas.\n",
      "* **Párrafo 4:**  El Gobernador Cuitláhuac García Jiménez visitó el lugar y prometió apoyo a los afectados.\n",
      "* **Párrafo 5:**  Comerciantes afectados narraron la angustia de ver su patrimonio destruido.\n",
      "* **Remate:**  Autoridades investigan las causas exactas del siniestro. Se habilitarán albergues temporales para los damnificados.  Para donaciones, comunicarse al teléfono...\n",
      "\n",
      "\n",
      "Este manual proporciona las herramientas básicas para redactar una nota informativa clara, concisa y efectiva.  Recuerda que la práctica y la constante actualización son fundamentales para el desarrollo del oficio periodístico.\n",
      "\n"
     ]
    }
   ],
   "execution_count": 18
  },
  {
   "metadata": {
    "ExecuteTime": {
     "end_time": "2024-11-20T15:21:38.794583Z",
     "start_time": "2024-11-20T15:21:38.790840Z"
    }
   },
   "cell_type": "code",
   "source": [
    "with open(\"reglas_veracruz.txt\", \"w\") as f:\n",
    "  f.write(re.text)"
   ],
   "id": "b4448860aaa5ad0c",
   "outputs": [],
   "execution_count": 19
  },
  {
   "metadata": {},
   "cell_type": "code",
   "outputs": [],
   "execution_count": null,
   "source": "",
   "id": "8ff79ba9a3bc2b0b"
  }
 ],
 "metadata": {
  "kernelspec": {
   "name": "python3",
   "language": "python",
   "display_name": "Python 3 (ipykernel)"
  }
 },
 "nbformat": 5,
 "nbformat_minor": 9
}
