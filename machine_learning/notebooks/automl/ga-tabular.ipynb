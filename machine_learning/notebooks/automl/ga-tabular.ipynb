{
 "cells": [
  {
   "cell_type": "code",
   "execution_count": 4,
   "metadata": {},
   "outputs": [],
   "source": [
    "PROJECT_ID=\"vtxdemos\"\n",
    "REGION=\"us-east1\""
   ]
  },
  {
   "cell_type": "code",
   "execution_count": 5,
   "metadata": {},
   "outputs": [],
   "source": [
    "from google.cloud import aiplatform"
   ]
  },
  {
   "cell_type": "code",
   "execution_count": 6,
   "metadata": {},
   "outputs": [
    {
     "data": {
      "text/plain": [
       "google.cloud.aiplatform.training_jobs.AutoMLTabularTrainingJob"
      ]
     },
     "execution_count": 6,
     "metadata": {},
     "output_type": "execute_result"
    }
   ],
   "source": [
    "aiplatform.AutoMLTabularTrainingJob"
   ]
  },
  {
   "cell_type": "code",
   "execution_count": 7,
   "metadata": {},
   "outputs": [
    {
     "name": "stdout",
     "output_type": "stream",
     "text": [
      "Creating TabularDataset\n",
      "Create TabularDataset backing LRO: projects/254356041555/locations/us-east1/datasets/4025444010683269120/operations/1417871371307843584\n",
      "TabularDataset created. Resource name: projects/254356041555/locations/us-east1/datasets/4025444010683269120\n",
      "To use this TabularDataset in another session:\n",
      "ds = aiplatform.TabularDataset('projects/254356041555/locations/us-east1/datasets/4025444010683269120')\n"
     ]
    }
   ],
   "source": [
    "my_dataset = aiplatform.TabularDataset.create(\n",
    "    display_name=\"ga_view_ds_py\",\n",
    "    bq_source=\"bq://vtxdemos.public.train_dataset\",\n",
    "    location=REGION\n",
    ")"
   ]
  },
  {
   "cell_type": "code",
   "execution_count": 19,
   "metadata": {},
   "outputs": [
    {
     "name": "stdout",
     "output_type": "stream",
     "text": [
      "No dataset split provided. The service will use a default split.\n",
      "View Training:\n",
      "https://console.cloud.google.com/ai/platform/locations/us-east1/training/4576750685722247168?project=254356041555\n",
      "AutoMLTabularTrainingJob projects/254356041555/locations/us-east1/trainingPipelines/4576750685722247168 current state:\n",
      "PipelineState.PIPELINE_STATE_PENDING\n",
      "AutoMLTabularTrainingJob projects/254356041555/locations/us-east1/trainingPipelines/4576750685722247168 current state:\n",
      "PipelineState.PIPELINE_STATE_PENDING\n"
     ]
    }
   ],
   "source": [
    "aiplatform.init(project=PROJECT_ID, staging_bucket=\"gs://vtxdemos-staging\", location=REGION)\n",
    "\n",
    "job = aiplatform.AutoMLTabularTrainingJob(\n",
    "    display_name=\"ga_view_ds_py\", \n",
    "    optimization_prediction_type=\"classification\", \n",
    "    optimization_objective=\"maximize-au-prc\", \n",
    "    column_specs={\n",
    "        \"os\": \"auto\", \n",
    "        \"is_mobile\": \"auto\",\n",
    "        \"country\": \"auto\",\n",
    "        \"views\": \"auto\"\n",
    "    },\n",
    "    )\n",
    "\n",
    "model = job.run(\n",
    "    dataset=my_dataset,\n",
    "    target_column=\"label\",\n",
    "    model_display_name=\"ga_view_ds_py\"\n",
    ")"
   ]
  },
  {
   "cell_type": "code",
   "execution_count": null,
   "metadata": {},
   "outputs": [],
   "source": []
  }
 ],
 "metadata": {
  "kernelspec": {
   "display_name": "vertex",
   "language": "python",
   "name": "python3"
  },
  "language_info": {
   "codemirror_mode": {
    "name": "ipython",
    "version": 3
   },
   "file_extension": ".py",
   "mimetype": "text/x-python",
   "name": "python",
   "nbconvert_exporter": "python",
   "pygments_lexer": "ipython3",
   "version": "3.9.0"
  },
  "orig_nbformat": 4
 },
 "nbformat": 4,
 "nbformat_minor": 2
}
