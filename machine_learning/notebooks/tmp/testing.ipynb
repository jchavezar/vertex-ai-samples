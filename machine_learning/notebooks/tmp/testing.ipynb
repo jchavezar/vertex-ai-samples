{
 "cells": [
  {
   "cell_type": "code",
   "execution_count": 75,
   "metadata": {},
   "outputs": [],
   "source": [
    "!rm -fr training\n",
    "!mkdir training\n",
    "!touch training/__init__.py"
   ]
  },
  {
   "cell_type": "code",
   "execution_count": 76,
   "metadata": {},
   "outputs": [
    {
     "name": "stdout",
     "output_type": "stream",
     "text": [
      "Writing training/preprocess.py\n"
     ]
    }
   ],
   "source": [
    "%%writefile training/preprocess.py\n",
    "def greeting(text):\n",
    "    return f\"Hi,{text}\""
   ]
  },
  {
   "cell_type": "code",
   "execution_count": 77,
   "metadata": {},
   "outputs": [
    {
     "name": "stdout",
     "output_type": "stream",
     "text": [
      "Writing training/task.py\n"
     ]
    }
   ],
   "source": [
    "%%writefile training/task.py\n",
    "import sys\n",
    "sys.path.append(\"/root/.local/lib/python3.12/site-packages/aiplatform_custom_trainer_script/\")\n",
    "\n",
    "import preprocess\n",
    "print(preprocess.greeting(\"how are you?\"))"
   ]
  },
  {
   "cell_type": "code",
   "execution_count": 78,
   "metadata": {},
   "outputs": [
    {
     "name": "stdout",
     "output_type": "stream",
     "text": [
      "Training script copied to:\n",
      "gs://vtxdemos-staging/aiplatform-2023-05-31-18:10:55.009-aiplatform_custom_trainer_script-0.1.tar.gz.\n"
     ]
    }
   ],
   "source": [
    "from google.cloud import aiplatform as aip\n",
    "\n",
    "aip.init(project=\"vtxdemos\", location=\"us-central1\")\n",
    "\n",
    "\n",
    "job = aip.CustomJob.from_local_script(\n",
    "    display_name=\"dummy_test\",\n",
    "    script_path=\"training/\",\n",
    "    container_uri=\"python:3.12.0b1-slim\",\n",
    "    replica_count= 1,\n",
    "    staging_bucket=\"gs://vtxdemos-staging\",\n",
    ")"
   ]
  },
  {
   "cell_type": "code",
   "execution_count": 79,
   "metadata": {},
   "outputs": [
    {
     "name": "stdout",
     "output_type": "stream",
     "text": [
      "Creating CustomJob\n",
      "CustomJob created. Resource name: projects/254356041555/locations/us-central1/customJobs/4853674096610770944\n",
      "To use this CustomJob in another session:\n",
      "custom_job = aiplatform.CustomJob.get('projects/254356041555/locations/us-central1/customJobs/4853674096610770944')\n",
      "View Custom Job:\n",
      "https://console.cloud.google.com/ai/platform/locations/us-central1/training/4853674096610770944?project=254356041555\n",
      "CustomJob projects/254356041555/locations/us-central1/customJobs/4853674096610770944 current state:\n",
      "JobState.JOB_STATE_PENDING\n",
      "CustomJob projects/254356041555/locations/us-central1/customJobs/4853674096610770944 current state:\n",
      "JobState.JOB_STATE_PENDING\n",
      "CustomJob projects/254356041555/locations/us-central1/customJobs/4853674096610770944 current state:\n",
      "JobState.JOB_STATE_PENDING\n",
      "CustomJob projects/254356041555/locations/us-central1/customJobs/4853674096610770944 current state:\n",
      "JobState.JOB_STATE_PENDING\n",
      "CustomJob projects/254356041555/locations/us-central1/customJobs/4853674096610770944 current state:\n",
      "JobState.JOB_STATE_PENDING\n",
      "CustomJob projects/254356041555/locations/us-central1/customJobs/4853674096610770944 current state:\n",
      "JobState.JOB_STATE_PENDING\n",
      "CustomJob projects/254356041555/locations/us-central1/customJobs/4853674096610770944 current state:\n",
      "JobState.JOB_STATE_PENDING\n",
      "CustomJob projects/254356041555/locations/us-central1/customJobs/4853674096610770944 current state:\n",
      "JobState.JOB_STATE_PENDING\n",
      "CustomJob projects/254356041555/locations/us-central1/customJobs/4853674096610770944 current state:\n",
      "JobState.JOB_STATE_PENDING\n",
      "CustomJob projects/254356041555/locations/us-central1/customJobs/4853674096610770944 current state:\n",
      "JobState.JOB_STATE_SUCCEEDED\n",
      "CustomJob run completed. Resource name: projects/254356041555/locations/us-central1/customJobs/4853674096610770944\n"
     ]
    }
   ],
   "source": [
    "job.run()"
   ]
  },
  {
   "cell_type": "code",
   "execution_count": null,
   "metadata": {},
   "outputs": [],
   "source": []
  }
 ],
 "metadata": {
  "kernelspec": {
   "display_name": "vertex",
   "language": "python",
   "name": "python3"
  },
  "language_info": {
   "codemirror_mode": {
    "name": "ipython",
    "version": 3
   },
   "file_extension": ".py",
   "mimetype": "text/x-python",
   "name": "python",
   "nbconvert_exporter": "python",
   "pygments_lexer": "ipython3",
   "version": "3.9.0"
  },
  "orig_nbformat": 4
 },
 "nbformat": 4,
 "nbformat_minor": 2
}
