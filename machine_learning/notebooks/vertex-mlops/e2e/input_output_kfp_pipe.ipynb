{
 "cells": [
  {
   "cell_type": "code",
   "execution_count": 24,
   "metadata": {},
   "outputs": [],
   "source": [
    "from kfp.dsl import component, Output, Artifact, Input\n",
    "\n",
    "@component(packages_to_install=['pandas'])\n",
    "def testing(data: str, output1: Output[Artifact], output2: Output[Artifact]):\n",
    "    import pandas as pd\n",
    "    \n",
    "    df = pd.DataFrame({\"x\": range(10)})\n",
    "    \n",
    "    with open(output1.path,'w') as f:\n",
    "        f.write(\"hello world\")\n",
    "    \n",
    "    df.to_csv(f\"{output2.path}.csv\")\n",
    "    \n",
    "@component(packages_to_install=[\"pandas\"])\n",
    "def receiver(input1: Input[Artifact], input2: Input[Artifact]) -> str:\n",
    "    import pandas as pd\n",
    "    \n",
    "    with open(input1.path,'r') as f:\n",
    "        x= f.read()\n",
    "            \n",
    "    df = pd.read_csv(f\"{input2.path}.csv\")\n",
    "    print(df)\n",
    "    return x"
   ]
  },
  {
   "cell_type": "code",
   "execution_count": 25,
   "metadata": {},
   "outputs": [],
   "source": [
    "from kfp.dsl import pipeline\n",
    "\n",
    "@pipeline(name='testing')\n",
    "def pipeline():\n",
    "    testing_job = testing(data=\"testing\")\n",
    "    recevier_job = receiver(\n",
    "        input1=testing_job.outputs[\"output1\"],\n",
    "        input2=testing_job.outputs[\"output2\"]\n",
    "        )"
   ]
  },
  {
   "cell_type": "code",
   "execution_count": 26,
   "metadata": {},
   "outputs": [],
   "source": [
    "from kfp import compiler\n",
    "\n",
    "compiler.Compiler().compile(pipeline_func=pipeline, package_path=\"dummy.json\")"
   ]
  },
  {
   "cell_type": "code",
   "execution_count": 27,
   "metadata": {},
   "outputs": [
    {
     "name": "stdout",
     "output_type": "stream",
     "text": [
      "Creating PipelineJob\n",
      "PipelineJob created. Resource name: projects/254356041555/locations/us-central1/pipelineJobs/testing-20230525142321\n",
      "To use this PipelineJob in another session:\n",
      "pipeline_job = aiplatform.PipelineJob.get('projects/254356041555/locations/us-central1/pipelineJobs/testing-20230525142321')\n",
      "View Pipeline Job:\n",
      "https://console.cloud.google.com/vertex-ai/locations/us-central1/pipelines/runs/testing-20230525142321?project=254356041555\n"
     ]
    }
   ],
   "source": [
    "from google.cloud import aiplatform\n",
    "\n",
    "\n",
    "aiplatform.init(project=\"vtxdemos\", location=\"us-central1\")\n",
    "job = aiplatform.PipelineJob(\n",
    "        display_name=\"testing\",\n",
    "        template_path=\"dummy.json\",\n",
    "        pipeline_root=\"gs://vtxdemos-tmp\",\n",
    "        parameter_values={\n",
    "        },\n",
    "    )\n",
    "job.submit()"
   ]
  },
  {
   "cell_type": "code",
   "execution_count": null,
   "metadata": {},
   "outputs": [],
   "source": []
  }
 ],
 "metadata": {
  "kernelspec": {
   "display_name": "vertex",
   "language": "python",
   "name": "python3"
  },
  "language_info": {
   "codemirror_mode": {
    "name": "ipython",
    "version": 3
   },
   "file_extension": ".py",
   "mimetype": "text/x-python",
   "name": "python",
   "nbconvert_exporter": "python",
   "pygments_lexer": "ipython3",
   "version": "3.9.0"
  },
  "orig_nbformat": 4
 },
 "nbformat": 4,
 "nbformat_minor": 2
}
