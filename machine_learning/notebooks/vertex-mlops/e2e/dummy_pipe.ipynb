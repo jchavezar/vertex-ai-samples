{
 "cells": [
  {
   "attachments": {},
   "cell_type": "markdown",
   "metadata": {},
   "source": [
    "## Pipeline Definition"
   ]
  },
  {
   "cell_type": "code",
   "execution_count": 1,
   "metadata": {},
   "outputs": [],
   "source": [
    "from kfp import compiler\n",
    "from kfp.dsl import component, pipeline\n",
    "\n",
    "## components\n",
    "@component\n",
    "def preprocess(data: str) -> int:\n",
    "    return(int(data))\n",
    "\n",
    "@component\n",
    "def training(data: int) -> int:\n",
    "    return(data*234545632)\n",
    "\n",
    "@component\n",
    "def deploy(data: int) -> str:\n",
    "    return(str(data))\n",
    "\n",
    "## pipelines\n",
    "@pipeline(name=\"dummy-pipe\")\n",
    "def pipeline():\n",
    "    pre_job = preprocess(data=\"8\")\n",
    "    train_job = training(data=pre_job.output)\n",
    "    dep_job = deploy(data=train_job.output)\n",
    "\n",
    "compiler.Compiler().compile(\n",
    "    pipeline_func=pipeline,\n",
    "    package_path='dummy.yaml')"
   ]
  },
  {
   "attachments": {},
   "cell_type": "markdown",
   "metadata": {},
   "source": [
    "## [Optional] Create Template"
   ]
  },
  {
   "cell_type": "code",
   "execution_count": 2,
   "metadata": {},
   "outputs": [],
   "source": [
    "from kfp.registry import RegistryClient\n",
    "\n",
    "client = RegistryClient(host=f\"https://us-central1-kfp.pkg.dev/vtxdemos/kfp-repo\")\n",
    "\n",
    "templateName, versionName = client.upload_pipeline(\n",
    "  file_name=\"dummy.yaml\",\n",
    "  tags=[\"v1\", \"latest\"]\n",
    "  )"
   ]
  },
  {
   "attachments": {},
   "cell_type": "markdown",
   "metadata": {},
   "source": [
    "## Pipeline Job"
   ]
  },
  {
   "cell_type": "code",
   "execution_count": 3,
   "metadata": {},
   "outputs": [
    {
     "name": "stdout",
     "output_type": "stream",
     "text": [
      "Creating PipelineJob\n",
      "PipelineJob created. Resource name: projects/254356041555/locations/us-central1/pipelineJobs/dummy-pipe-20230525121512\n",
      "To use this PipelineJob in another session:\n",
      "pipeline_job = aiplatform.PipelineJob.get('projects/254356041555/locations/us-central1/pipelineJobs/dummy-pipe-20230525121512')\n",
      "View Pipeline Job:\n",
      "https://console.cloud.google.com/vertex-ai/locations/us-central1/pipelines/runs/dummy-pipe-20230525121512?project=254356041555\n"
     ]
    }
   ],
   "source": [
    "from google.cloud import aiplatform\n",
    "\n",
    "job = aiplatform.PipelineJob(\n",
    "    display_name=\"dummy-pipe\",\n",
    "    template_path=\"dummy.yaml\",\n",
    "    parameter_values={},\n",
    "    )\n",
    "\n",
    "job.submit()"
   ]
  },
  {
   "cell_type": "code",
   "execution_count": null,
   "metadata": {},
   "outputs": [],
   "source": []
  }
 ],
 "metadata": {
  "kernelspec": {
   "display_name": "vertex",
   "language": "python",
   "name": "python3"
  },
  "language_info": {
   "codemirror_mode": {
    "name": "ipython",
    "version": 3
   },
   "file_extension": ".py",
   "mimetype": "text/x-python",
   "name": "python",
   "nbconvert_exporter": "python",
   "pygments_lexer": "ipython3",
   "version": "3.9.0"
  },
  "orig_nbformat": 4
 },
 "nbformat": 4,
 "nbformat_minor": 2
}
