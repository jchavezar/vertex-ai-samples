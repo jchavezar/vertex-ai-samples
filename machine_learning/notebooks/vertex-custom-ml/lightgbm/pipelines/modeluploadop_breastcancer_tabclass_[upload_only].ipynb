{
 "cells": [
  {
   "cell_type": "code",
   "execution_count": 1,
   "metadata": {},
   "outputs": [],
   "source": [
    "DATASET_URI = 'gs://vtx-datasets-public/breast_cancer_data.csv'\n",
    "PIPELINE_ROOT_PATH = 'gs://vtx-root-path'\n",
    "PROJECT_ID= 'jchavezar-demo'\n",
    "MODELS_URI = 'gs://vtx-models/lightgbm'\n",
    "PRED_IMAGE_URI = 'us-central1-docker.pkg.dev/jchavezar-demo/predictions/pred_lightgbm_cpu:latest'"
   ]
  },
  {
   "cell_type": "code",
   "execution_count": 6,
   "metadata": {},
   "outputs": [
    {
     "name": "stderr",
     "output_type": "stream",
     "text": [
      "Using endpoint [https://us-central1-aiplatform.googleapis.com/]\n",
      "Waiting for operation [2508373394647416832]...\n",
      ".......................................................................................................................................................................................................................................................................................................................................................................................................done.\n"
     ]
    }
   ],
   "source": [
    "%%bash\n",
    "gcloud ai models upload \\\n",
    "  --region=us-central1 \\\n",
    "  --display-name=lightgbm \\\n",
    "  --container-image-uri=us-central1-docker.pkg.dev/jchavezar-demo/predictions/pred_lightgbm_cpu:latest \\\n",
    "  --container-env-vars=PROJECT_ID=jchavezar-demo \\\n",
    "  --container-ports=8080 \\\n",
    "  --container-health-route=/health_check \\\n",
    "  --artifact-uri=gs://vtx-models/lightgbm"
   ]
  },
  {
   "cell_type": "code",
   "execution_count": 10,
   "metadata": {},
   "outputs": [],
   "source": [
    "from google_cloud_pipeline_components import aiplatform as gcc\n",
    "from kfp.v2.dsl import pipeline, Condition\n",
    "from google.cloud import aiplatform\n",
    "from google_cloud_pipeline_components.types import artifact_types\n",
    "from google_cloud_pipeline_components import aiplatform as gcc\n",
    "from google_cloud_pipeline_components.v1.custom_job import CustomTrainingJobOp as custom_job\n",
    "from google_cloud_pipeline_components.v1.model import ModelUploadOp\n",
    "from kfp.v2.components import importer_node\n",
    "\n",
    "@pipeline(name='lightgbm-gpu-1')\n",
    "def pipeline():\n",
    "    import_unmanaged_model_op = importer_node.importer(\n",
    "        artifact_uri=\"gs://vtx-models/lightgbm\",\n",
    "        artifact_class=artifact_types.UnmanagedContainerModel,\n",
    "        metadata={\n",
    "            \"containerSpec\": {\n",
    "                \"imageUri\": PRED_IMAGE_URI,\n",
    "                \"env\": [\n",
    "                    {\n",
    "                        \"name\": \"PROJECT_ID\",\n",
    "                        \"value\": PROJECT_ID},\n",
    "                ],\n",
    "                \"predictRoute\": \"/predict\",\n",
    "                \"healthRoute\": \"/health_check\",\n",
    "                \"ports\": [\n",
    "                    {\n",
    "                        \"containerPort\": 8080\n",
    "                    }\n",
    "                ]\n",
    "            },\n",
    "        },\n",
    "    )\n",
    "    custom_model_upload_job = gcc.ModelUploadOp(\n",
    "        project=PROJECT_ID,\n",
    "        display_name=\"lightgbm-model\",\n",
    "        unmanaged_container_model=import_unmanaged_model_op.outputs[\"artifact\"],\n",
    "        ).after(import_unmanaged_model_op)\n",
    "\n",
    "    endpoint_create_job = gcc.EndpointCreateOp(\n",
    "        project=PROJECT_ID,\n",
    "        display_name=\"pipelines-created-endpoint\",\n",
    "    )\n",
    "        \n",
    "    custom_model_deploy_job = (gcc.ModelDeployOp(\n",
    "        model=custom_model_upload_job.outputs[\"model\"],\n",
    "        endpoint=endpoint_create_job.outputs[\"endpoint\"],\n",
    "        deployed_model_display_name=\"lightgbm_model_end\",\n",
    "        traffic_split={\"0\":\"100\"},\n",
    "        dedicated_resources_machine_type=\"n1-standard-2\",\n",
    "        dedicated_resources_min_replica_count=1,\n",
    "        dedicated_resources_max_replica_count=1\n",
    "    )).set_caching_options(False)"
   ]
  },
  {
   "cell_type": "code",
   "execution_count": 11,
   "metadata": {},
   "outputs": [],
   "source": [
    "from kfp.v2 import compiler\n",
    "import warnings\n",
    "warnings.filterwarnings('ignore')\n",
    "\n",
    "compiler.Compiler().compile(pipeline_func=pipeline,\n",
    "        package_path='light_cpu.json')"
   ]
  },
  {
   "cell_type": "code",
   "execution_count": 12,
   "metadata": {},
   "outputs": [
    {
     "name": "stdout",
     "output_type": "stream",
     "text": [
      "Creating PipelineJob\n",
      "PipelineJob created. Resource name: projects/569083142710/locations/us-central1/pipelineJobs/lightgbm-gpu-1-20220814230617\n",
      "To use this PipelineJob in another session:\n",
      "pipeline_job = aiplatform.PipelineJob.get('projects/569083142710/locations/us-central1/pipelineJobs/lightgbm-gpu-1-20220814230617')\n",
      "View Pipeline Job:\n",
      "https://console.cloud.google.com/vertex-ai/locations/us-central1/pipelines/runs/lightgbm-gpu-1-20220814230617?project=569083142710\n"
     ]
    }
   ],
   "source": [
    "import google.cloud.aiplatform as aip\n",
    "\n",
    "job = aip.PipelineJob(\n",
    "    display_name=\"light_cpu\",\n",
    "    template_path=\"light_cpu.json\",\n",
    "    pipeline_root=PIPELINE_ROOT_PATH,\n",
    "    parameter_values={\n",
    "    },\n",
    "    enable_caching=False\n",
    ")\n",
    "\n",
    "job.submit(service_account='vtx-pipe@jchavezar-demo.iam.gserviceaccount.com')"
   ]
  },
  {
   "cell_type": "code",
   "execution_count": null,
   "metadata": {},
   "outputs": [],
   "source": []
  }
 ],
 "metadata": {
  "environment": {
   "kernel": "python3",
   "name": "tf2-gpu.2-10.m98",
   "type": "gcloud",
   "uri": "gcr.io/deeplearning-platform-release/tf2-gpu.2-10:m98"
  },
  "kernelspec": {
   "display_name": "Python 3",
   "language": "python",
   "name": "python3"
  },
  "language_info": {
   "codemirror_mode": {
    "name": "ipython",
    "version": 3
   },
   "file_extension": ".py",
   "mimetype": "text/x-python",
   "name": "python",
   "nbconvert_exporter": "python",
   "pygments_lexer": "ipython3",
   "version": "3.7.12"
  },
  "vscode": {
   "interpreter": {
    "hash": "61f821d259e852bb8dda541b337ba40be66c16e8431d3e97d4d2c7f8d54d4461"
   }
  }
 },
 "nbformat": 4,
 "nbformat_minor": 4
}
