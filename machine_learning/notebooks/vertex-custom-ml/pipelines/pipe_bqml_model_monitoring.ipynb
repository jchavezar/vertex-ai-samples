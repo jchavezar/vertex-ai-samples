{
 "cells": [
  {
   "cell_type": "markdown",
   "id": "102daafb-3278-4bf5-a1bc-62dbd29d19fb",
   "metadata": {},
   "source": [
    "## Define Variables"
   ]
  },
  {
   "cell_type": "code",
   "execution_count": 126,
   "id": "5c101c03-ff17-471e-b79d-1d27ca9da15b",
   "metadata": {},
   "outputs": [],
   "source": [
    "PROJECT_ID = 'jchavezar-demo'\n",
    "REGION = 'us-central1'\n",
    "PIPELINE_ROOT_PATH = 'gs://vtx-root-path'\n",
    "DATASET = 'demos'\n",
    "DEPLOY_IMAGE = \"us-docker.pkg.dev/vertex-ai/prediction/tf2-cpu.2-5:latest\"\n",
    "MODEL_DIR = 'gs://vtx-models/bqmodel'"
   ]
  },
  {
   "cell_type": "markdown",
   "id": "54b82fd7-c40e-4df0-a9ca-55be93f9295a",
   "metadata": {},
   "source": [
    "## Queries"
   ]
  },
  {
   "cell_type": "code",
   "execution_count": 127,
   "id": "59629d44-c64c-44a3-bded-70ff02c22978",
   "metadata": {},
   "outputs": [],
   "source": [
    "### Create returning_users table\n",
    "query_return = \"\"\"\n",
    "WITH\n",
    "  firstlasttouch AS (\n",
    "  SELECT\n",
    "    user_pseudo_id,\n",
    "    MIN(event_timestamp) AS user_first_engagement,\n",
    "    MAX(event_timestamp) AS user_last_engagement\n",
    "  FROM\n",
    "    `firebase-public-project.analytics_153293282.events_*`\n",
    "  WHERE\n",
    "    event_name='user_engagement'\n",
    "  GROUP BY\n",
    "    user_pseudo_id )\n",
    "SELECT\n",
    "  user_pseudo_id,\n",
    "  user_first_engagement,\n",
    "  user_last_engagement,\n",
    "  EXTRACT(MONTH\n",
    "  FROM\n",
    "    TIMESTAMP_MICROS(user_first_engagement)) AS month,\n",
    "  EXTRACT(DAYOFYEAR\n",
    "  FROM\n",
    "    TIMESTAMP_MICROS(user_first_engagement)) AS julianday,\n",
    "  EXTRACT(DAYOFWEEK\n",
    "  FROM\n",
    "    TIMESTAMP_MICROS(user_first_engagement)) AS dayofweek,\n",
    "  #add 24 hr to user's first touch\n",
    "  (user_first_engagement + 86400000000) AS ts_24hr_after_first_engagement,\n",
    "  #churned = 1 if last_touch within 24 hr of app installation, else 0\n",
    "IF\n",
    "  (user_last_engagement < (user_first_engagement + 86400000000), 1, 0 ) AS churned,\n",
    "  #bounced = 1 if last_touch within 10 min, else 0\n",
    "IF\n",
    "  (user_last_engagement <= (user_first_engagement + 600000000), 1, 0 ) AS bounced,\n",
    "FROM\n",
    "  firstlasttouch\n",
    "GROUP BY\n",
    "  1,\n",
    "  2,\n",
    "  3\n",
    "\"\"\""
   ]
  },
  {
   "cell_type": "code",
   "execution_count": 128,
   "id": "3b612a16-3849-498c-9621-0f4c96a1a1c9",
   "metadata": {},
   "outputs": [],
   "source": [
    "## Create user demographics table\n",
    "\n",
    "query_demographics = \"\"\"\n",
    "WITH first_values AS (\n",
    "      SELECT\n",
    "          user_pseudo_id,\n",
    "          geo.country as country,\n",
    "          device.operating_system as operating_system,\n",
    "          device.language as language,\n",
    "          ROW_NUMBER() OVER (PARTITION BY user_pseudo_id ORDER BY event_timestamp DESC) AS row_num\n",
    "      FROM `firebase-public-project.analytics_153293282.events_*`\n",
    "      WHERE event_name='user_engagement'\n",
    "      )\n",
    "  SELECT * EXCEPT (row_num)\n",
    "  FROM first_values\n",
    "  WHERE row_num = 1\n",
    "\"\"\""
   ]
  },
  {
   "cell_type": "code",
   "execution_count": 129,
   "id": "d27f0c78-0d11-440a-91cc-963e086d28cf",
   "metadata": {},
   "outputs": [],
   "source": [
    "## Create user aggregate behavior\n",
    "\n",
    "query_user_agg = \"\"\"\n",
    "WITH\n",
    "  events_first24hr AS (\n",
    "    #select user data only from first 24 hr of using the app\n",
    "  SELECT\n",
    "    e.*\n",
    "  FROM\n",
    "    `firebase-public-project.analytics_153293282.events_*` e\n",
    "  JOIN\n",
    "    bqmlga4.returningusers r\n",
    "  ON\n",
    "    e.user_pseudo_id = r.user_pseudo_id\n",
    "  WHERE\n",
    "    e.event_timestamp <= r.ts_24hr_after_first_engagement )\n",
    "SELECT\n",
    "  user_pseudo_id,\n",
    "  SUM(IF(event_name = 'user_engagement', 1, 0)) AS cnt_user_engagement,\n",
    "  SUM(IF(event_name = 'level_start_quickplay', 1, 0)) AS cnt_level_start_quickplay,\n",
    "  SUM(IF(event_name = 'level_end_quickplay', 1, 0)) AS cnt_level_end_quickplay,\n",
    "  SUM(IF(event_name = 'level_complete_quickplay', 1, 0)) AS cnt_level_complete_quickplay,\n",
    "  SUM(IF(event_name = 'level_reset_quickplay', 1, 0)) AS cnt_level_reset_quickplay,\n",
    "  SUM(IF(event_name = 'post_score', 1, 0)) AS cnt_post_score,\n",
    "  SUM(IF(event_name = 'spend_virtual_currency', 1, 0)) AS cnt_spend_virtual_currency,\n",
    "  SUM(IF(event_name = 'ad_reward', 1, 0)) AS cnt_ad_reward,\n",
    "  SUM(IF(event_name = 'challenge_a_friend', 1, 0)) AS cnt_challenge_a_friend,\n",
    "  SUM(IF(event_name = 'completed_5_levels', 1, 0)) AS cnt_completed_5_levels,\n",
    "  SUM(IF(event_name = 'use_extra_steps', 1, 0)) AS cnt_use_extra_steps,\n",
    "FROM\n",
    "  events_first24hr\n",
    "GROUP BY\n",
    "  1\n",
    "\"\"\""
   ]
  },
  {
   "cell_type": "code",
   "execution_count": 130,
   "id": "0bb31919-9674-43c2-95fc-9e6fb8a981aa",
   "metadata": {},
   "outputs": [],
   "source": [
    "## Join and Create Train Dataset\n",
    "\n",
    "query_dataset_train = f\"\"\"\n",
    "  SELECT\n",
    "    dem.*,\n",
    "    IFNULL(beh.cnt_user_engagement, 0) AS cnt_user_engagement,\n",
    "    IFNULL(beh.cnt_level_start_quickplay, 0) AS cnt_level_start_quickplay,\n",
    "    IFNULL(beh.cnt_level_end_quickplay, 0) AS cnt_level_end_quickplay,\n",
    "    IFNULL(beh.cnt_level_complete_quickplay, 0) AS cnt_level_complete_quickplay,\n",
    "    IFNULL(beh.cnt_level_reset_quickplay, 0) AS cnt_level_reset_quickplay,\n",
    "    IFNULL(beh.cnt_post_score, 0) AS cnt_post_score,\n",
    "    IFNULL(beh.cnt_spend_virtual_currency, 0) AS cnt_spend_virtual_currency,\n",
    "    IFNULL(beh.cnt_ad_reward, 0) AS cnt_ad_reward,\n",
    "    IFNULL(beh.cnt_challenge_a_friend, 0) AS cnt_challenge_a_friend,\n",
    "    IFNULL(beh.cnt_completed_5_levels, 0) AS cnt_completed_5_levels,\n",
    "    IFNULL(beh.cnt_use_extra_steps, 0) AS cnt_use_extra_steps,\n",
    "    ret.user_first_engagement,\n",
    "    ret.month,\n",
    "    ret.julianday,\n",
    "    ret.dayofweek,\n",
    "    ret.churned\n",
    "  FROM\n",
    "    {DATASET}.returningusers ret\n",
    "  LEFT OUTER JOIN\n",
    "    {DATASET}.user_demographics dem\n",
    "  ON \n",
    "    ret.user_pseudo_id = dem.user_pseudo_id\n",
    "  LEFT OUTER JOIN \n",
    "    {DATASET}.user_aggregate_behavior beh\n",
    "  ON\n",
    "    ret.user_pseudo_id = beh.user_pseudo_id\n",
    "  WHERE ret.bounced = 0\n",
    "\"\"\""
   ]
  },
  {
   "cell_type": "code",
   "execution_count": 131,
   "id": "e6692135-7fc5-4b0e-8984-9ec6c34b5c32",
   "metadata": {},
   "outputs": [],
   "source": [
    "## Model Query\n",
    "\n",
    "create_model_query = f\"\"\"\n",
    "\n",
    "CREATE OR REPLACE MODEL {DATASET}.churn_logreg\n",
    "\n",
    "OPTIONS(\n",
    "  MODEL_TYPE='LOGISTIC_REG',\n",
    "  INPUT_LABEL_COLS=['churned'],\n",
    "  ENABLE_GLOBAL_EXPLAIN=TRUE\n",
    ") AS\n",
    "\n",
    "SELECT\n",
    "  *\n",
    "FROM\n",
    "  {DATASET}.train\n",
    "  \n",
    "\"\"\""
   ]
  },
  {
   "cell_type": "markdown",
   "id": "92b34450-6bda-4499-8b56-95522827b2a3",
   "metadata": {},
   "source": [
    "## Create Pipeline and Components"
   ]
  },
  {
   "cell_type": "code",
   "execution_count": 132,
   "id": "cb952b90-608c-4aee-85e6-10bbdae0546b",
   "metadata": {},
   "outputs": [],
   "source": [
    "from kfp.v2.dsl import pipeline\n",
    "from kfp.v2.components import importer_node\n",
    "from google_cloud_pipeline_components.types import artifact_types\n",
    "from google_cloud_pipeline_components.v1.model import ModelUploadOp\n",
    "from google_cloud_pipeline_components.v1.bigquery import BigqueryCreateModelJobOp, BigqueryQueryJobOp, BigqueryEvaluateModelJobOp, BigqueryPredictModelJobOp, BigqueryExportModelJobOp\n",
    "\n",
    "@pipeline(name='bqml-mm')\n",
    "def pipeline(\n",
    "    project_id: str,\n",
    "    location: str,\n",
    "    artifact_uri: str\n",
    "):\n",
    "    returning_users_table = BigqueryQueryJobOp(\n",
    "        project=project_id,\n",
    "        location=location,\n",
    "        query=query_return,\n",
    "        job_configuration_query={\n",
    "            \"destination_table\": {\n",
    "                \"project_id\": PROJECT_ID,\n",
    "                \"dataset_id\": DATASET,\n",
    "                \"table_id\": \"returningusers\",\n",
    "            },\n",
    "            \"write_disposition\": \"WRITE_TRUNCATE\"\n",
    "        }\n",
    "    ).set_display_name('returningusers')\n",
    "    query_demographics_table = BigqueryQueryJobOp(\n",
    "        project=project_id,\n",
    "        location=location,\n",
    "        query=query_demographics,\n",
    "        job_configuration_query={\n",
    "            \"destination_table\": {\n",
    "                \"project_id\": PROJECT_ID,\n",
    "                \"dataset_id\": DATASET,\n",
    "                \"table_id\": \"user_demographics\",\n",
    "            \"write_disposition\": \"WRITE_TRUNCATE\"\n",
    "            },\n",
    "            \"write_disposition\": \"WRITE_TRUNCATE\"\n",
    "        }\n",
    "    )\n",
    "    user_aggregate_behavior_table = BigqueryQueryJobOp(\n",
    "        project=project_id,\n",
    "        location=location,\n",
    "        query=query_user_agg,\n",
    "        job_configuration_query={\n",
    "            \"destination_table\": {\n",
    "                \"project_id\": PROJECT_ID,\n",
    "                \"dataset_id\": DATASET,\n",
    "                \"table_id\": \"user_aggregate_behavior\",\n",
    "            },\n",
    "            \"write_disposition\": \"WRITE_TRUNCATE\"        \n",
    "        }\n",
    "    ).set_display_name('user_aggregate_behavior')\n",
    "    \n",
    "    # Here we create the train dataset for BigQuery ML\n",
    "    \n",
    "    query_dataset_train_table = BigqueryQueryJobOp(\n",
    "        project=project_id,\n",
    "        location=location,\n",
    "        query=query_dataset_train,\n",
    "        job_configuration_query={\n",
    "            \"destination_table\": {\n",
    "                \"project_id\": PROJECT_ID,\n",
    "                \"dataset_id\": DATASET,\n",
    "                \"table_id\": \"train\",\n",
    "            },\n",
    "            \"write_disposition\": \"WRITE_TRUNCATE\"\n",
    "        }\n",
    "    ).set_display_name('query_dataset_train').after(returning_users_table, query_demographics_table, user_aggregate_behavior_table)\n",
    "    \n",
    "    # We train the model\n",
    "    \n",
    "    create_model_query_job = BigqueryCreateModelJobOp(\n",
    "        project=project_id,\n",
    "        location=location,\n",
    "        query=create_model_query,\n",
    "    ).after(query_dataset_train_table)\n",
    "    \n",
    "    # Evaluate it\n",
    "    \n",
    "    _ = BigqueryEvaluateModelJobOp(\n",
    "        project=PROJECT_ID, location=\"US\", model=create_model_query_job.outputs[\"model\"]\n",
    "    ).after(create_model_query_job)\n",
    "    \n",
    "    # Make some predictions\n",
    "    \n",
    "    _ = BigqueryPredictModelJobOp(\n",
    "        project=project_id,\n",
    "        location=location,\n",
    "        model=create_model_query_job.outputs[\"model\"],\n",
    "        table_name=f\"`{DATASET}.train`\",\n",
    "        # query_statement=f\"SELECT * EXCEPT ({label}) FROM {bq_table} WHERE body_mass_g IS NOT NULL AND sex IS NOT NULL\"\n",
    "        job_configuration_query={\n",
    "            \"destinationTable\": {\n",
    "                \"project_id\": PROJECT_ID,\n",
    "                \"dataset_id\": DATASET,\n",
    "                \"table_id\": \"results_1\",\n",
    "            },\n",
    "            \"write_disposition\": \"WRITE_TRUNCATE\"\n",
    "        },\n",
    "    ).after(create_model_query_job)\n",
    "    \n",
    "    # Export Model to \n",
    "    \n",
    "    bq_export = BigqueryExportModelJobOp(\n",
    "        project=project_id,\n",
    "        location=location,\n",
    "        model=create_model_query_job.outputs[\"model\"],\n",
    "        model_destination_path=artifact_uri,\n",
    "    ).after(create_model_query_job)\n",
    "\n",
    "    import_unmanaged_model_task = importer_node.importer(\n",
    "        artifact_uri=artifact_uri,\n",
    "        artifact_class=artifact_types.UnmanagedContainerModel,\n",
    "        metadata={\n",
    "            \"containerSpec\": {\n",
    "                \"imageUri\": DEPLOY_IMAGE,\n",
    "            },\n",
    "        },\n",
    "    ).after(bq_export)\n",
    "    \n",
    "    model_upload = ModelUploadOp(\n",
    "        project=project_id,\n",
    "        display_name=\"bqml_churn_logreg\",\n",
    "        unmanaged_container_model=import_unmanaged_model_task.outputs[\"artifact\"],\n",
    "        #explanation_parameters=EXPLAIN_PARAMS,\n",
    "        #explanation_metadata=EXPLAIN_META,\n",
    "    ).after(import_unmanaged_model_task)"
   ]
  },
  {
   "cell_type": "markdown",
   "id": "f31fa1f7-616f-4993-8fd6-646121e27b7d",
   "metadata": {},
   "source": [
    "## Compile Pipeline"
   ]
  },
  {
   "cell_type": "code",
   "execution_count": 133,
   "id": "553adb82-d15b-47a3-99e6-c7ec7d011c3e",
   "metadata": {},
   "outputs": [],
   "source": [
    "from kfp.v2 import compiler\n",
    "import warnings\n",
    "warnings.filterwarnings('ignore')\n",
    "\n",
    "compiler.Compiler().compile(pipeline_func=pipeline,\n",
    "        package_path='bqml_mm.json')"
   ]
  },
  {
   "cell_type": "markdown",
   "id": "961c6960-6a18-438f-8d83-dcad967006b4",
   "metadata": {},
   "source": [
    "## Run Pipeline"
   ]
  },
  {
   "cell_type": "code",
   "execution_count": 134,
   "id": "0bb663f4-3563-433c-90c2-6a3c6a9cf320",
   "metadata": {},
   "outputs": [
    {
     "name": "stdout",
     "output_type": "stream",
     "text": [
      "Creating PipelineJob\n",
      "PipelineJob created. Resource name: projects/569083142710/locations/us-central1/pipelineJobs/bqml-mm-20220901153758\n",
      "To use this PipelineJob in another session:\n",
      "pipeline_job = aiplatform.PipelineJob.get('projects/569083142710/locations/us-central1/pipelineJobs/bqml-mm-20220901153758')\n",
      "View Pipeline Job:\n",
      "https://console.cloud.google.com/vertex-ai/locations/us-central1/pipelines/runs/bqml-mm-20220901153758?project=569083142710\n",
      "PipelineJob projects/569083142710/locations/us-central1/pipelineJobs/bqml-mm-20220901153758 current state:\n",
      "PipelineState.PIPELINE_STATE_RUNNING\n",
      "PipelineJob projects/569083142710/locations/us-central1/pipelineJobs/bqml-mm-20220901153758 current state:\n",
      "PipelineState.PIPELINE_STATE_RUNNING\n",
      "PipelineJob projects/569083142710/locations/us-central1/pipelineJobs/bqml-mm-20220901153758 current state:\n",
      "PipelineState.PIPELINE_STATE_RUNNING\n",
      "PipelineJob projects/569083142710/locations/us-central1/pipelineJobs/bqml-mm-20220901153758 current state:\n",
      "PipelineState.PIPELINE_STATE_RUNNING\n",
      "PipelineJob run completed. Resource name: projects/569083142710/locations/us-central1/pipelineJobs/bqml-mm-20220901153758\n"
     ]
    }
   ],
   "source": [
    "import google.cloud.aiplatform as aip\n",
    "\n",
    "job = aip.PipelineJob(\n",
    "    display_name=\"bqml_mm\",\n",
    "    template_path=\"bqml_mm.json\",\n",
    "    pipeline_root=PIPELINE_ROOT_PATH,\n",
    "    parameter_values={\n",
    "        'project_id': PROJECT_ID,\n",
    "        'location': 'US',\n",
    "        'artifact_uri': MODEL_DIR\n",
    "    },\n",
    ")\n",
    "\n",
    "#job.submit()\n",
    "job.run()"
   ]
  },
  {
   "cell_type": "markdown",
   "id": "466cb500-5eef-4e63-86a4-6b8023c8ae23",
   "metadata": {},
   "source": [
    "## Extracting Metadata from the Model"
   ]
  },
  {
   "cell_type": "code",
   "execution_count": 145,
   "id": "ed793881-9bd8-4918-b964-b99de74705d6",
   "metadata": {},
   "outputs": [],
   "source": [
    "MODEL_PATH = \"gs://mco-mm/churn\"\n",
    "\n",
    "params = {\"sampled_shapley_attribution\": {\"path_count\": 10}}\n",
    "EXPLAIN_PARAMS = aiplatform.explain.ExplanationParameters(params)\n",
    "\n",
    "builder = saved_model_metadata_builder.SavedModelMetadataBuilder(\n",
    "    model_path=MODEL_PATH, outputs_to_explain=[\"churned_probs\"]\n",
    ")\n",
    "EXPLAIN_META = builder.get_metadata_protobuf()"
   ]
  },
  {
   "cell_type": "code",
   "execution_count": 146,
   "id": "1ef2fcfc-e4d0-423e-ad8f-f222228bd4b5",
   "metadata": {},
   "outputs": [
    {
     "name": "stdout",
     "output_type": "stream",
     "text": [
      "Creating Model\n",
      "Create Model backing LRO: projects/569083142710/locations/us-central1/models/2461476681102131200/operations/2851258294792617984\n",
      "Model created. Resource name: projects/569083142710/locations/us-central1/models/2461476681102131200@1\n",
      "To use this Model in another session:\n",
      "model = aiplatform.Model('projects/569083142710/locations/us-central1/models/2461476681102131200@1')\n"
     ]
    }
   ],
   "source": [
    "MODEL_DIR = \"gs://mco-mm/churn\"\n",
    "MODEL_NAME = \"churn\"\n",
    "IMAGE = \"us-docker.pkg.dev/cloud-aiplatform/prediction/tf2-cpu.2-5:latest\"\n",
    "\n",
    "model = aiplatform.Model.upload(\n",
    "    display_name=MODEL_NAME,\n",
    "    artifact_uri=MODEL_DIR,\n",
    "    serving_container_image_uri=IMAGE,\n",
    "    explanation_parameters=EXPLAIN_PARAMS,\n",
    "    explanation_metadata=EXPLAIN_META,\n",
    "    sync=True,\n",
    ")\n",
    "\n",
    "MODEL_ID = model.resource_name.split(\"/\")[-1]"
   ]
  },
  {
   "cell_type": "code",
   "execution_count": 147,
   "id": "1287b6fc-a6e6-4e94-8dab-6031255165da",
   "metadata": {},
   "outputs": [
    {
     "name": "stdout",
     "output_type": "stream",
     "text": [
      "Creating Endpoint\n",
      "Create Endpoint backing LRO: projects/569083142710/locations/us-central1/endpoints/1640849580641746944/operations/4332942572197511168\n",
      "Endpoint created. Resource name: projects/569083142710/locations/us-central1/endpoints/1640849580641746944\n",
      "To use this Endpoint in another session:\n",
      "endpoint = aiplatform.Endpoint('projects/569083142710/locations/us-central1/endpoints/1640849580641746944')\n",
      "Deploying model to Endpoint : projects/569083142710/locations/us-central1/endpoints/1640849580641746944\n",
      "Deploy Endpoint model backing LRO: projects/569083142710/locations/us-central1/endpoints/1640849580641746944/operations/5280950293759000576\n",
      "Endpoint model deployed. Resource name: projects/569083142710/locations/us-central1/endpoints/1640849580641746944\n",
      "endpoint display name: churn_endpoint\n",
      "endpoint resource name: projects/569083142710/locations/us-central1/endpoints/1640849580641746944\n"
     ]
    }
   ],
   "source": [
    "endpoint = model.deploy(machine_type=\"n1-standard-4\")\n",
    "print(f\"endpoint display name: {endpoint.display_name}\")\n",
    "print(f\"endpoint resource name: {endpoint.resource_name}\")\n",
    "ENDPOINT = endpoint.resource_name\n",
    "ENDPOINT_ID = ENDPOINT.split(\"/\")[-1]"
   ]
  },
  {
   "cell_type": "markdown",
   "id": "72e5c6cf-2043-4732-97dc-b0628eebbd7f",
   "metadata": {},
   "source": [
    "## Monitoring"
   ]
  },
  {
   "cell_type": "code",
   "execution_count": 156,
   "id": "db526f83-ab11-4435-8bbc-1f15f092114c",
   "metadata": {},
   "outputs": [],
   "source": [
    "USER_EMAIL = \"jesusarguelles@google.com\"\n",
    "JOB_NAME = \"churn\"\n",
    "\n",
    "LOG_SAMPLE_RATE = 0.8\n",
    "MONITOR_INTERVAL = 3600\n",
    "DATASET_BQ_URI = \"bq://jchavezar-demo.demos.train\"\n",
    "TARGET = \"churned\"\n",
    "\n",
    "DEFAULT_THRESHOLD_VALUE = 0.001\n",
    "\n",
    "SKEW_THRESHOLDS = {\n",
    "    \"country\": DEFAULT_THRESHOLD_VALUE,\n",
    "    \"cnt_user_engagement\": DEFAULT_THRESHOLD_VALUE,\n",
    "}\n",
    "DRIFT_THRESHOLDS = {\n",
    "    \"country\": DEFAULT_THRESHOLD_VALUE,\n",
    "    \"cnt_user_engagement\": DEFAULT_THRESHOLD_VALUE,\n",
    "}\n",
    "ATTRIB_SKEW_THRESHOLDS = {\n",
    "    \"country\": DEFAULT_THRESHOLD_VALUE,\n",
    "    \"cnt_user_engagement\": DEFAULT_THRESHOLD_VALUE,\n",
    "}\n",
    "ATTRIB_DRIFT_THRESHOLDS = {\n",
    "    \"country\": DEFAULT_THRESHOLD_VALUE,\n",
    "    \"cnt_user_engagement\": DEFAULT_THRESHOLD_VALUE,\n",
    "}"
   ]
  },
  {
   "cell_type": "code",
   "execution_count": 157,
   "id": "c618611f-8028-4743-b9f3-87800fcca3bb",
   "metadata": {},
   "outputs": [],
   "source": [
    "from google.cloud.aiplatform import model_monitoring\n",
    "\n",
    "skew_config = model_monitoring.SkewDetectionConfig(\n",
    "    data_source=DATASET_BQ_URI,\n",
    "    skew_thresholds=SKEW_THRESHOLDS,\n",
    "    attribute_skew_thresholds=ATTRIB_SKEW_THRESHOLDS,\n",
    "    target_field=TARGET,\n",
    ")"
   ]
  },
  {
   "cell_type": "code",
   "execution_count": 158,
   "id": "42462ff6-04a0-449c-b233-3f05e2a5abdc",
   "metadata": {},
   "outputs": [],
   "source": [
    "drift_config = model_monitoring.DriftDetectionConfig(\n",
    "    drift_thresholds=DRIFT_THRESHOLDS,\n",
    "    attribute_drift_thresholds=ATTRIB_DRIFT_THRESHOLDS,\n",
    ")\n",
    "\n",
    "explanation_config = model_monitoring.ExplanationConfig()\n",
    "objective_config = model_monitoring.ObjectiveConfig(\n",
    "    skew_config, drift_config, explanation_config\n",
    ")"
   ]
  },
  {
   "cell_type": "code",
   "execution_count": 159,
   "id": "086fa46a-20f1-460e-b84d-d31e5cd2b654",
   "metadata": {},
   "outputs": [
    {
     "name": "stdout",
     "output_type": "stream",
     "text": [
      "Creating ModelDeploymentMonitoringJob\n",
      "ModelDeploymentMonitoringJob created. Resource name: projects/569083142710/locations/us-central1/modelDeploymentMonitoringJobs/3277647735813046272\n",
      "To use this ModelDeploymentMonitoringJob in another session:\n",
      "mdm_job = aiplatform.ModelDeploymentMonitoringJob('projects/569083142710/locations/us-central1/modelDeploymentMonitoringJobs/3277647735813046272')\n",
      "View Model Deployment Monitoring Job:\n",
      "https://console.cloud.google.com/ai/platform/locations/us-central1/model-deployment-monitoring/3277647735813046272?project=569083142710\n"
     ]
    }
   ],
   "source": [
    "from google.cloud import aiplatform\n",
    "\n",
    "# Create sampling configuration\n",
    "random_sampling = model_monitoring.RandomSampleConfig(sample_rate=LOG_SAMPLE_RATE)\n",
    "\n",
    "# Create schedule configuration\n",
    "schedule_config = model_monitoring.ScheduleConfig(monitor_interval=MONITOR_INTERVAL)\n",
    "\n",
    "# Create alerting configuration.\n",
    "emails = [USER_EMAIL]\n",
    "alerting_config = model_monitoring.EmailAlertConfig(\n",
    "    user_emails=emails, enable_logging=True\n",
    ")\n",
    "\n",
    "# Create the monitoring job.\n",
    "job = aiplatform.ModelDeploymentMonitoringJob.create(\n",
    "    display_name=JOB_NAME,\n",
    "    logging_sampling_strategy=random_sampling,\n",
    "    schedule_config=schedule_config,\n",
    "    alert_config=alerting_config,\n",
    "    objective_configs=objective_config,\n",
    "    project=PROJECT_ID,\n",
    "    location=REGION,\n",
    "    endpoint=endpoint,\n",
    ")"
   ]
  },
  {
   "cell_type": "code",
   "execution_count": 161,
   "id": "1ba1dda2-49c6-4704-8803-6f35f8333de0",
   "metadata": {},
   "outputs": [],
   "source": [
    "DEFAULT_INPUT = {\n",
    "    \"cnt_ad_reward\": 0,\n",
    "    \"cnt_challenge_a_friend\": 0,\n",
    "    \"cnt_completed_5_levels\": 1,\n",
    "    \"cnt_level_complete_quickplay\": 3,\n",
    "    \"cnt_level_end_quickplay\": 5,\n",
    "    \"cnt_level_reset_quickplay\": 2,\n",
    "    \"cnt_level_start_quickplay\": 6,\n",
    "    \"cnt_post_score\": 34,\n",
    "    \"cnt_spend_virtual_currency\": 0,\n",
    "    \"cnt_use_extra_steps\": 0,\n",
    "    \"cnt_user_engagement\": 120,\n",
    "    \"country\": \"Denmark\",\n",
    "    \"dayofweek\": 3,\n",
    "    \"julianday\": 254,\n",
    "    \"language\": \"da-dk\",\n",
    "    \"month\": 9,\n",
    "    \"operating_system\": \"IOS\",\n",
    "    \"user_pseudo_id\": \"104B0770BAE16E8B53DF330C95881893\",\n",
    "}"
   ]
  },
  {
   "cell_type": "code",
   "execution_count": 198,
   "id": "5d1ce241-8466-4588-8de7-73720158cdb9",
   "metadata": {},
   "outputs": [
    {
     "name": "stdout",
     "output_type": "stream",
     "text": [
      "prediction succeeded\n"
     ]
    }
   ],
   "source": [
    "# Run a prediction request to generate schema, if necessary.\n",
    "try:\n",
    "    _ = endpoint.predict([DEFAULT_INPUT])\n",
    "    print(\"prediction succeeded\")\n",
    "except Exception as e:\n",
    "    print(f\"prediction failed: {e}\")"
   ]
  },
  {
   "cell_type": "code",
   "execution_count": null,
   "id": "e498aa4a-2676-407f-bc1d-0b1d09d38d97",
   "metadata": {},
   "outputs": [],
   "source": [
    "!gsutil cat gs://cloud-ai-platform-9b627e36-89f4-4b8c-bf59-1e00936392b5/model_monitoring/job-4451685361231331328/batch_prediction_output/training/2694564350097620992/batch_prediction_output/prediction-churn-2022_06_14T07_07_01_207Z/explanation.results-00006-of-00007"
   ]
  },
  {
   "cell_type": "markdown",
   "id": "329af92c-3f54-484e-8ee3-3fd6ed3c1870",
   "metadata": {},
   "source": [
    "![](images/vertex-bqml-pipe.png)"
   ]
  },
  {
   "cell_type": "markdown",
   "id": "1367ac45",
   "metadata": {},
   "source": []
  }
 ],
 "metadata": {
  "environment": {
   "kernel": "python3",
   "name": "tf2-gpu.2-8.m93",
   "type": "gcloud",
   "uri": "gcr.io/deeplearning-platform-release/tf2-gpu.2-8:m93"
  },
  "kernelspec": {
   "display_name": "Python 3.10.5 64-bit",
   "language": "python",
   "name": "python3"
  },
  "language_info": {
   "codemirror_mode": {
    "name": "ipython",
    "version": 3
   },
   "file_extension": ".py",
   "mimetype": "text/x-python",
   "name": "python",
   "nbconvert_exporter": "python",
   "pygments_lexer": "ipython3",
   "version": "3.10.5"
  },
  "vscode": {
   "interpreter": {
    "hash": "e7370f93d1d0cde622a1f8e1c04877d8463912d04d973331ad4851f04de6915a"
   }
  }
 },
 "nbformat": 4,
 "nbformat_minor": 5
}
