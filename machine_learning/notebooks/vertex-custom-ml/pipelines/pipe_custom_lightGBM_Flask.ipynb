{
 "cells": [
  {
   "cell_type": "code",
   "execution_count": 11,
   "metadata": {},
   "outputs": [],
   "source": [
    "PROJECT_NUMBER = '569083142710'\n",
    "TRAINING_REPOSITORY = 'trainings'\n",
    "TRAIN_IMAGE_URI = f'us-central1-docker.pkg.dev/jchavezar-demo/{TRAINING_REPOSITORY}/train_lightgbm_cpu:latest'\n",
    "PIPELINE_ROOT_PATH = 'gs://vtx-root-path'"
   ]
  },
  {
   "cell_type": "code",
   "execution_count": 3,
   "metadata": {},
   "outputs": [],
   "source": [
    "!rm -fr custom_5\n",
    "!mkdir custom_5\n",
    "!mkdir custom_5/trainer"
   ]
  },
  {
   "cell_type": "code",
   "execution_count": 22,
   "metadata": {},
   "outputs": [
    {
     "name": "stdout",
     "output_type": "stream",
     "text": [
      "Overwriting custom_5/trainer/train.py\n"
     ]
    }
   ],
   "source": [
    "%%writefile custom_5/trainer/train.py\n",
    "\n",
    "import os\n",
    "\n",
    "print(os.listdir())\n",
    "print(os.listdir('/mnt'))\n",
    "\n",
    "with open('/mnt/nfs/nfs_models/1.txt', 'w') as f:\n",
    "    f.write('test')"
   ]
  },
  {
   "cell_type": "code",
   "execution_count": 23,
   "metadata": {},
   "outputs": [
    {
     "name": "stdout",
     "output_type": "stream",
     "text": [
      "Overwriting custom_5/Dockerfile\n"
     ]
    }
   ],
   "source": [
    "%%writefile custom_5/Dockerfile\n",
    "\n",
    "FROM python:3.7-buster\n",
    "\n",
    "COPY trainer /trainer\n",
    "\n",
    "ENTRYPOINT [\"python\", \"trainer/train.py\"]"
   ]
  },
  {
   "cell_type": "code",
   "execution_count": 24,
   "metadata": {},
   "outputs": [
    {
     "name": "stdout",
     "output_type": "stream",
     "text": [
      "Creating temporary tarball archive of 2 file(s) totalling 219 bytes before compression.\n",
      "Uploading tarball of [custom_5/.] to [gs://jchavezar-demo_cloudbuild/source/1660309198.244855-d7fe7a5babf944458f76c4704f0aa853.tgz]\n",
      "Created [https://cloudbuild.googleapis.com/v1/projects/jchavezar-demo/locations/global/builds/a20ddce3-8c86-4615-a5d7-6906216e0dac].\n",
      "Logs are available at [ https://console.cloud.google.com/cloud-build/builds/a20ddce3-8c86-4615-a5d7-6906216e0dac?project=569083142710 ].\n",
      "----------------------------- REMOTE BUILD OUTPUT ------------------------------\n",
      "starting build \"a20ddce3-8c86-4615-a5d7-6906216e0dac\"\n",
      "\n",
      "FETCHSOURCE\n",
      "Fetching storage object: gs://jchavezar-demo_cloudbuild/source/1660309198.244855-d7fe7a5babf944458f76c4704f0aa853.tgz#1660309198849201\n",
      "Copying gs://jchavezar-demo_cloudbuild/source/1660309198.244855-d7fe7a5babf944458f76c4704f0aa853.tgz#1660309198849201...\n",
      "/ [1 files][  339.0 B/  339.0 B]                                                \n",
      "Operation completed over 1 objects/339.0 B.\n",
      "BUILD\n",
      "Already have image (with digest): gcr.io/cloud-builders/docker\n",
      "Sending build context to Docker daemon  3.584kB\n",
      "Step 1/3 : FROM python:3.7-buster\n",
      "3.7-buster: Pulling from library/python\n",
      "7e6a53d1988f: Already exists\n",
      "4fe4e1c58b4a: Pulling fs layer\n",
      "cc915d298757: Pulling fs layer\n",
      "f08b88f29371: Pulling fs layer\n",
      "28bcb226aca8: Pulling fs layer\n",
      "40e111dacc82: Pulling fs layer\n",
      "b25055bda02d: Pulling fs layer\n",
      "1650e1d4c2e0: Pulling fs layer\n",
      "14e3fa8854fc: Pulling fs layer\n",
      "40e111dacc82: Waiting\n",
      "28bcb226aca8: Waiting\n",
      "b25055bda02d: Waiting\n",
      "1650e1d4c2e0: Waiting\n",
      "14e3fa8854fc: Waiting\n",
      "4fe4e1c58b4a: Verifying Checksum\n",
      "4fe4e1c58b4a: Download complete\n",
      "cc915d298757: Verifying Checksum\n",
      "cc915d298757: Download complete\n",
      "40e111dacc82: Verifying Checksum\n",
      "40e111dacc82: Download complete\n",
      "b25055bda02d: Verifying Checksum\n",
      "b25055bda02d: Download complete\n",
      "f08b88f29371: Verifying Checksum\n",
      "f08b88f29371: Download complete\n",
      "1650e1d4c2e0: Download complete\n",
      "14e3fa8854fc: Verifying Checksum\n",
      "14e3fa8854fc: Download complete\n",
      "4fe4e1c58b4a: Pull complete\n",
      "cc915d298757: Pull complete\n",
      "28bcb226aca8: Verifying Checksum\n",
      "28bcb226aca8: Download complete\n",
      "f08b88f29371: Pull complete\n",
      "28bcb226aca8: Pull complete\n",
      "40e111dacc82: Pull complete\n",
      "b25055bda02d: Pull complete\n",
      "1650e1d4c2e0: Pull complete\n",
      "14e3fa8854fc: Pull complete\n",
      "Digest: sha256:e09d86f517517a90d0d2e3263e02ecd6a493844ac6263748f02bf57d07ef7181\n",
      "Status: Downloaded newer image for python:3.7-buster\n",
      " ---> 4275b277d707\n",
      "Step 2/3 : COPY trainer /trainer\n",
      " ---> 87a954fbcf99\n",
      "Step 3/3 : ENTRYPOINT [\"python\", \"trainer/train.py\"]\n",
      " ---> Running in 045d5b92cfb9\n",
      "Removing intermediate container 045d5b92cfb9\n",
      " ---> 31fcd7b65a00\n",
      "Successfully built 31fcd7b65a00\n",
      "Successfully tagged us-central1-docker.pkg.dev/jchavezar-demo/trainings/train_lightgbm_cpu:latest\n",
      "PUSH\n",
      "Pushing us-central1-docker.pkg.dev/jchavezar-demo/trainings/train_lightgbm_cpu:latest\n",
      "The push refers to repository [us-central1-docker.pkg.dev/jchavezar-demo/trainings/train_lightgbm_cpu]\n",
      "a4bad444264e: Preparing\n",
      "f495f8c37c83: Preparing\n",
      "aebaae58a42a: Preparing\n",
      "a31ded3cf4db: Preparing\n",
      "6e8d86d6d73d: Preparing\n",
      "1e90ee259bc5: Preparing\n",
      "91a7fe198f83: Preparing\n",
      "a657c4b93150: Preparing\n",
      "eea33d4fb826: Preparing\n",
      "37a609cfa10d: Preparing\n",
      "1e90ee259bc5: Waiting\n",
      "91a7fe198f83: Waiting\n",
      "a657c4b93150: Waiting\n",
      "eea33d4fb826: Waiting\n",
      "37a609cfa10d: Waiting\n",
      "a31ded3cf4db: Layer already exists\n",
      "aebaae58a42a: Layer already exists\n",
      "f495f8c37c83: Layer already exists\n",
      "6e8d86d6d73d: Layer already exists\n",
      "1e90ee259bc5: Layer already exists\n",
      "eea33d4fb826: Layer already exists\n",
      "a657c4b93150: Layer already exists\n",
      "91a7fe198f83: Layer already exists\n",
      "37a609cfa10d: Layer already exists\n",
      "a4bad444264e: Pushed\n",
      "latest: digest: sha256:cf41d756f972a54cad2bb8eec0163878f4c1a7b7078895add38cca9632989dbd size: 2424\n",
      "DONE\n",
      "--------------------------------------------------------------------------------\n",
      "ID                                    CREATE_TIME                DURATION  SOURCE                                                                                        IMAGES                                                                            STATUS\n",
      "a20ddce3-8c86-4615-a5d7-6906216e0dac  2022-08-12T12:59:59+00:00  32S       gs://jchavezar-demo_cloudbuild/source/1660309198.244855-d7fe7a5babf944458f76c4704f0aa853.tgz  us-central1-docker.pkg.dev/jchavezar-demo/trainings/train_lightgbm_cpu (+1 more)  SUCCESS\n"
     ]
    }
   ],
   "source": [
    "!gcloud builds submit -t $TRAIN_IMAGE_URI custom_5/."
   ]
  },
  {
   "cell_type": "code",
   "execution_count": 29,
   "metadata": {},
   "outputs": [],
   "source": [
    "    ### Training Worker Pool specs\n",
    "\n",
    "train_worker_pool_specs = [\n",
    "    {\n",
    "        \"machine_spec\": {\n",
    "            \"machine_type\": \"n1-standard-32\",\n",
    "            \"accelerator_type\": \"NVIDIA_TESLA_T4\",\n",
    "            \"accelerator_count\": 4\n",
    "        },\n",
    "        \"replica_count\": \"1\",\n",
    "        \"nfs_mounts\": [\n",
    "            {\n",
    "            \"server\": \"10.69.176.2\",\n",
    "            \"path\": \"/nfs_models\",\n",
    "            \"mount_point\": \"nfs_models\"\n",
    "            }\n",
    "        ],\n",
    "        \"container_spec\": {\n",
    "            \"image_uri\": TRAIN_IMAGE_URI,\n",
    "            \"command\": [\n",
    "                \"python\",\n",
    "                \"trainer/train.py\"\n",
    "            ],\n",
    "        }\n",
    "    },\n",
    "]"
   ]
  },
  {
   "cell_type": "code",
   "execution_count": 30,
   "metadata": {},
   "outputs": [],
   "source": [
    "from kfp.v2.dsl import pipeline\n",
    "from google_cloud_pipeline_components.v1 import custom_job\n",
    "\n",
    "\n",
    "@pipeline(name='lightgbm-pipe')\n",
    "def pipeline():\n",
    "    custom_job_task = custom_job.CustomTrainingJobOp(\n",
    "        project='jchavezar-demo',\n",
    "        display_name='test',\n",
    "        worker_pool_specs=train_worker_pool_specs,\n",
    "        network=f'projects/{PROJECT_NUMBER}/global/networks/default'\n",
    "    )"
   ]
  },
  {
   "cell_type": "markdown",
   "metadata": {},
   "source": [
    "### Compile Pipeline"
   ]
  },
  {
   "cell_type": "code",
   "execution_count": 31,
   "metadata": {},
   "outputs": [],
   "source": [
    "from kfp.v2 import compiler\n",
    "import warnings\n",
    "warnings.filterwarnings('ignore')\n",
    "\n",
    "compiler.Compiler().compile(pipeline_func=pipeline,\n",
    "        package_path='lightgbm.json')"
   ]
  },
  {
   "cell_type": "markdown",
   "metadata": {},
   "source": [
    "### Run Pipeline Job"
   ]
  },
  {
   "cell_type": "code",
   "execution_count": 32,
   "metadata": {},
   "outputs": [
    {
     "name": "stdout",
     "output_type": "stream",
     "text": [
      "Creating PipelineJob\n",
      "PipelineJob created. Resource name: projects/569083142710/locations/us-central1/pipelineJobs/lightgbm-pipe-20220812080644\n",
      "To use this PipelineJob in another session:\n",
      "pipeline_job = aiplatform.PipelineJob.get('projects/569083142710/locations/us-central1/pipelineJobs/lightgbm-pipe-20220812080644')\n",
      "View Pipeline Job:\n",
      "https://console.cloud.google.com/vertex-ai/locations/us-central1/pipelines/runs/lightgbm-pipe-20220812080644?project=569083142710\n"
     ]
    }
   ],
   "source": [
    "import google.cloud.aiplatform as aip\n",
    "\n",
    "job = aip.PipelineJob(\n",
    "    display_name=\"lightgbm\",\n",
    "    template_path=\"lightgbm.json\",\n",
    "    pipeline_root=PIPELINE_ROOT_PATH,\n",
    "    parameter_values={\n",
    "    },\n",
    ")\n",
    "\n",
    "job.submit(service_account='vtx-pipe@jchavezar-demo.iam.gserviceaccount.com')"
   ]
  },
  {
   "cell_type": "code",
   "execution_count": null,
   "metadata": {},
   "outputs": [],
   "source": []
  }
 ],
 "metadata": {
  "kernelspec": {
   "display_name": "Python 3.7.13 ('gcp')",
   "language": "python",
   "name": "python3"
  },
  "language_info": {
   "codemirror_mode": {
    "name": "ipython",
    "version": 3
   },
   "file_extension": ".py",
   "mimetype": "text/x-python",
   "name": "python",
   "nbconvert_exporter": "python",
   "pygments_lexer": "ipython3",
   "version": "3.7.13"
  },
  "orig_nbformat": 4,
  "vscode": {
   "interpreter": {
    "hash": "61f821d259e852bb8dda541b337ba40be66c16e8431d3e97d4d2c7f8d54d4461"
   }
  }
 },
 "nbformat": 4,
 "nbformat_minor": 2
}
