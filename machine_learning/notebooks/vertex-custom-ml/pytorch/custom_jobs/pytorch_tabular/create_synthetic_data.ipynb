{
 "cells": [
  {
   "cell_type": "code",
   "execution_count": 1,
   "id": "1bd4f8ba-99f3-4b3d-8b4a-d36945655121",
   "metadata": {},
   "outputs": [],
   "source": [
    "DATASET_URI = \"gs://vtx-datasets-public/pytorch_tabular/synthetic\""
   ]
  },
  {
   "cell_type": "code",
   "execution_count": 7,
   "id": "f00cbffe-197a-4936-ab50-e61d47f1a764",
   "metadata": {},
   "outputs": [],
   "source": [
    "import random\n",
    "import pandas as pd\n",
    "from sklearn.datasets import make_classification\n",
    "from sklearn.model_selection import train_test_split"
   ]
  },
  {
   "cell_type": "code",
   "execution_count": 8,
   "id": "c3beed84-bea7-4f71-b99b-82551337f905",
   "metadata": {},
   "outputs": [],
   "source": [
    "def make_mixed_classification(n_samples, n_features, n_categories):\n",
    "    X,y = make_classification(n_samples=n_samples, n_features=n_features, random_state=42, n_informative=5)\n",
    "    cat_cols = random.choices(list(range(X.shape[-1])),k=n_categories)\n",
    "    num_cols = [i for i in range(X.shape[-1]) if i not in cat_cols]\n",
    "    for col in cat_cols:\n",
    "        X[:,col] = pd.qcut(X[:,col], q=4).codes.astype(int)\n",
    "    col_names = [] \n",
    "    num_col_names=[]\n",
    "    cat_col_names=[]\n",
    "    for i in range(X.shape[-1]):\n",
    "        if i in cat_cols:\n",
    "            col_names.append(f\"cat_col_{i}\")\n",
    "            cat_col_names.append(f\"cat_col_{i}\")\n",
    "        if i in num_cols:\n",
    "            col_names.append(f\"num_col_{i}\")\n",
    "            num_col_names.append(f\"num_col_{i}\")\n",
    "    X = pd.DataFrame(X, columns=col_names)\n",
    "    y = pd.Series(y, name=\"target\")\n",
    "    data = X.join(y)\n",
    "    return data, cat_col_names, num_col_names\n",
    "\n",
    "def print_metrics(y_true, y_pred, tag):\n",
    "    if isinstance(y_true, pd.DataFrame) or isinstance(y_true, pd.Series):\n",
    "        y_true = y_true.values\n",
    "    if isinstance(y_pred, pd.DataFrame) or isinstance(y_pred, pd.Series):\n",
    "        y_pred = y_pred.values\n",
    "    if y_true.ndim>1:\n",
    "        y_true=y_true.ravel()\n",
    "    if y_pred.ndim>1:\n",
    "        y_pred=y_pred.ravel()\n",
    "    val_acc = accuracy_score(y_true, y_pred)\n",
    "    val_f1 = f1_score(y_true, y_pred)\n",
    "    print(f\"{tag} Acc: {val_acc} | {tag} F1: {val_f1}\")\n",
    "\n",
    "\n",
    "data, cat_col_names, num_col_names = make_mixed_classification(n_samples=10000, n_features=20, n_categories=4)\n",
    "train, test = train_test_split(data, random_state=42)\n",
    "train, val = train_test_split(train, random_state=42)\n",
    "train.to_csv(f'{DATASET_URI}/train.csv', index=False)\n",
    "test.to_csv(f'{DATASET_URI}/test.csv', index=False)\n",
    "val.to_csv(f'{DATASET_URI}/val.csv', index=False)"
   ]
  },
  {
   "cell_type": "code",
   "execution_count": 31,
   "id": "9c2f3fa1-3ab1-46d0-8d05-da333ac678b8",
   "metadata": {},
   "outputs": [],
   "source": [
    "cat_columns = [col for col in train.columns if 'cat' in col]\n",
    "num_columns = [col for col in train.columns if 'num' in col]"
   ]
  },
  {
   "cell_type": "code",
   "execution_count": 40,
   "id": "3a512079-e07e-4298-a968-96814610bd76",
   "metadata": {},
   "outputs": [],
   "source": [
    "columns_ = pd.read_csv('gs://vtx-datasets-public/pytorch_tabular/synthetic/train.csv', nrows=0).iloc[:,:-1].columns.to_list()"
   ]
  },
  {
   "cell_type": "code",
   "execution_count": 41,
   "id": "ae7e227d-83ca-4ea6-97db-97964160e1c1",
   "metadata": {},
   "outputs": [
    {
     "data": {
      "text/plain": [
       "['num_col_0',\n",
       " 'num_col_1',\n",
       " 'cat_col_2',\n",
       " 'cat_col_3',\n",
       " 'cat_col_4',\n",
       " 'num_col_5',\n",
       " 'num_col_6',\n",
       " 'num_col_7',\n",
       " 'num_col_8',\n",
       " 'num_col_9',\n",
       " 'num_col_10',\n",
       " 'num_col_11',\n",
       " 'num_col_12',\n",
       " 'num_col_13',\n",
       " 'num_col_14',\n",
       " 'num_col_15',\n",
       " 'num_col_16',\n",
       " 'num_col_17',\n",
       " 'cat_col_18',\n",
       " 'num_col_19']"
      ]
     },
     "execution_count": 41,
     "metadata": {},
     "output_type": "execute_result"
    }
   ],
   "source": [
    "columns_"
   ]
  },
  {
   "cell_type": "code",
   "execution_count": null,
   "id": "8baf11b4-4751-44d7-973a-9cb5774d1fa8",
   "metadata": {},
   "outputs": [],
   "source": []
  }
 ],
 "metadata": {
  "environment": {
   "kernel": "python3",
   "name": "tf2-gpu.2-10.m98",
   "type": "gcloud",
   "uri": "gcr.io/deeplearning-platform-release/tf2-gpu.2-10:m98"
  },
  "kernelspec": {
   "display_name": "Python 3",
   "language": "python",
   "name": "python3"
  },
  "language_info": {
   "codemirror_mode": {
    "name": "ipython",
    "version": 3
   },
   "file_extension": ".py",
   "mimetype": "text/x-python",
   "name": "python",
   "nbconvert_exporter": "python",
   "pygments_lexer": "ipython3",
   "version": "3.7.12"
  }
 },
 "nbformat": 4,
 "nbformat_minor": 5
}
