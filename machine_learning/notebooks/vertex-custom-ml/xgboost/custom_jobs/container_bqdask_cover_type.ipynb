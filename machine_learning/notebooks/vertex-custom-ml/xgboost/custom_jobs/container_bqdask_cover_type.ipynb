{
 "cells": [
  {
   "cell_type": "markdown",
   "id": "73ed3c99-40e5-4c84-8f27-73fedcff2d5f",
   "metadata": {},
   "source": [
    "CoverType is a dataset with forest cartographic variables, this is a multiclassification tabular job."
   ]
  },
  {
   "cell_type": "markdown",
   "id": "508e42ef-3207-4200-802e-07f1d7215fc1",
   "metadata": {},
   "source": [
    "## Set Constants"
   ]
  },
  {
   "cell_type": "code",
   "execution_count": 8,
   "id": "43b7a80c-6122-4e76-abbe-6e58146eef72",
   "metadata": {},
   "outputs": [],
   "source": [
    "PROJECT_ID = 'jchavezar-demo'\n",
    "REGION = 'us-central1'\n",
    "DIR = 'xgboost_custom'\n",
    "BQ_TABLE_DIR = 'vertex_datasets_public.cover_type_4Mrows'\n",
    "MODEL_URI = 'gs://vtx-models/xgboost/cover_type'\n",
    "STAGING_URI = 'gs://vtx-staging/xgboost/cover_type'\n",
    "TRAIN_IMAGE_URI = 'us-central1-docker.pkg.dev/jchavezar-demo/trainings/xgboost-dask-gpu:latest'\n",
    "PREDICTION_IMAGE_URI = 'us-central1-docker.pkg.dev/jchavezar-demo/custom-predictions/xgboost-dask-cpu:latest'"
   ]
  },
  {
   "cell_type": "markdown",
   "id": "7f2b8f58-8946-4ccc-a17f-86f52fbaa80e",
   "metadata": {},
   "source": [
    "## Import Libraries"
   ]
  },
  {
   "cell_type": "code",
   "execution_count": 15,
   "id": "a81c3519-92d4-4199-952d-b263352b1baa",
   "metadata": {},
   "outputs": [],
   "source": [
    "from google.cloud import aiplatform as aip"
   ]
  },
  {
   "cell_type": "markdown",
   "id": "68329482-6825-4b9f-93c9-0788b59ef7f2",
   "metadata": {},
   "source": [
    "## Create Folder Structure"
   ]
  },
  {
   "cell_type": "markdown",
   "id": "def7adf4-460a-4376-ab24-a1700ca644b6",
   "metadata": {},
   "source": [
    "```\n",
    "xgboost_custom\n",
    "  |  Dockerfile\n",
    "  └─── trainer\n",
    "     |  train.py\n",
    "     |\n",
    "\n",
    "```"
   ]
  },
  {
   "cell_type": "code",
   "execution_count": 50,
   "id": "dde5868e-4299-4f0e-894d-4e9f5873820d",
   "metadata": {},
   "outputs": [],
   "source": [
    "!rm -fr $DIR\n",
    "!mkdir $DIR\n",
    "!mkdir $DIR/trainer"
   ]
  },
  {
   "cell_type": "markdown",
   "id": "7f6eeb75-0231-4a0c-85fa-4c3dd7d4b82b",
   "metadata": {},
   "source": [
    "## Train Code"
   ]
  },
  {
   "cell_type": "code",
   "execution_count": 57,
   "id": "176a264a-aa9e-4915-8e78-4c24a5329a75",
   "metadata": {},
   "outputs": [
    {
     "name": "stdout",
     "output_type": "stream",
     "text": [
      "Overwriting xgboost_custom/trainer/train.py\n"
     ]
    }
   ],
   "source": [
    "%%writefile $DIR/trainer/train.py\n",
    "import os\n",
    "import json\n",
    "import dask\n",
    "import argparse\n",
    "import subprocess\n",
    "import dask_bigquery\n",
    "import xgboost as xgb\n",
    "from google.cloud import storage\n",
    "from xgboost import dask as dxgb\n",
    "from dask.distributed import Client\n",
    "from dask_cuda import LocalCUDACluster\n",
    "import warnings\n",
    "warnings.filterwarnings(action=\"ignore\")\n",
    "\n",
    "class Training:\n",
    "    def __init__(self, project, bq_table_dir, num_workers, threads_per_worker):\n",
    "        self.project = project\n",
    "        self.bq_table_dir = bq_table_dir\n",
    "        self.num_workers = num_workers\n",
    "        self.threads_per_worker = threads_per_worker\n",
    "        \n",
    "        print(self.threads_per_worker)\n",
    "    \n",
    "    def load_data(self):\n",
    "        '''Load data from BigQuery to Dask'''\n",
    "        _ = self.bq_table_dir.split('.')\n",
    "    \n",
    "        ddf = dask_bigquery.read_gbq(\n",
    "            project_id='jchavezar-demo',\n",
    "            dataset_id=_[0],\n",
    "            table_id=_[1]\n",
    "        ).dropna()\n",
    "        \n",
    "        print(f\"[INFO] ------ Splitting dataset\")\n",
    "        df_train, df_eval = ddf.random_split([0.8, 0.2], random_state=123)\n",
    "        self.df_train_features = df_train.drop('Cover_Type', axis=1)\n",
    "        self.df_eval_features = df_eval.drop('Cover_Type', axis=1)\n",
    "        self.df_train_labels = df_train.pop('Cover_Type')\n",
    "        self.df_eval_labels = df_eval.pop('Cover_Type')\n",
    "    \n",
    "    def model_train(self):\n",
    "        print(\"[INFO] ------ Creating dask cluster\")\n",
    "        scheduler_ip = subprocess.check_output(['hostname','--all-ip-addresses'])\n",
    "        scheduler_ip = scheduler_ip.decode('UTF-8').split()[0]\n",
    "        \n",
    "        with LocalCUDACluster(\n",
    "            ip=scheduler_ip,\n",
    "            n_workers=self.num_workers, \n",
    "            threads_per_worker=self.threads_per_worker\n",
    "        ) as cluster:\n",
    "            with Client(cluster) as client:\n",
    "                print('[INFO]: ------ Calling main function ')\n",
    "\n",
    "                print(\"[INFO]: ------ Dataset for dask\")\n",
    "                dtrain = dxgb.DaskDeviceQuantileDMatrix(client, self.df_train_features, self.df_train_labels)\n",
    "                dvalid = dxgb.DaskDeviceQuantileDMatrix(client, self.df_eval_features, self.df_eval_labels)\n",
    "\n",
    "                print(\"[INFO]: ------ Training...\")\n",
    "                output = xgb.dask.train(\n",
    "                    client,\n",
    "                    {\n",
    "                        \"verbosity\": 2, \n",
    "                        \"tree_method\": \"gpu_hist\", \n",
    "                        \"objective\": \"multi:softprob\",\n",
    "                        \"eval_metric\": [\"mlogloss\"],\n",
    "                        \"learning_rate\": 0.1,\n",
    "                        \"gamma\": 0.9,\n",
    "                        \"subsample\": 0.5,\n",
    "                        \"max_depth\": 9,\n",
    "                        \"num_class\": 8\n",
    "                    },\n",
    "                    dtrain,\n",
    "                    num_boost_round=10,\n",
    "                    evals=[(dvalid, \"valid1\")],\n",
    "                    early_stopping_rounds=5\n",
    "                )\n",
    "                model = output[\"booster\"]\n",
    "                best_model = model[: model.best_iteration]\n",
    "                print(f\"[INFO] ------ Best model: {best_model}\")\n",
    "                best_model.save_model(\"/tmp/model.json\")\n",
    "                model_metrics = output[\"history\"][\"valid1\"]\n",
    "                with open(\"/tmp/metadata.json\", \"w\") as outfile:\n",
    "                    json.dump(model_metrics, outfile)\n",
    "    \n",
    "    def storage_artifacts(self):        \n",
    "        print('[INFO] ------ Storing Artifacts on Google Cloud Storage')\n",
    "        bucket = os.environ['AIP_MODEL_DIR'].split('/')[2]\n",
    "        blob_name = '/'.join(os.environ['AIP_MODEL_DIR'].split('/')[3:])\n",
    "        bucket ='vtx-models'\n",
    "        storage_client = storage.Client(project=self.project)\n",
    "        bucket = storage_client.bucket(bucket)\n",
    "\n",
    "        for i in [\"model.json\", \"metadata.json\"]:\n",
    "            blob = bucket.blob(f'{blob_name}{i}')\n",
    "            blob.upload_from_filename(f'/tmp/{i}')        \n",
    "            \n",
    "if __name__ == '__main__':\n",
    "    parser = argparse.ArgumentParser()\n",
    "    parser.add_argument(\n",
    "        '--project',\n",
    "        type = str,\n",
    "        default = os.environ['CLOUD_ML_PROJECT_ID'],\n",
    "        help = 'This is the tenant or the Google Cloud project id name'\n",
    "    )\n",
    "    parser.add_argument(\n",
    "        \"--bq_table_dir\",\n",
    "        type = str,\n",
    "        help = \"BigQuery Dataset URI in the format [DATASET].[TABLE]\"\n",
    "    )\n",
    "    parser.add_argument(\n",
    "        '--num_workers', type=int, help='num of workers',\n",
    "        default=1\n",
    "    )\n",
    "    parser.add_argument(\n",
    "        '--threads_per_worker', type=int, help='num of threads per worker',\n",
    "        default=1\n",
    "    )\n",
    "    \n",
    "    args = parser.parse_args()\n",
    "    training = Training(args.project, args.bq_table_dir, args.num_workers, args.threads_per_worker)\n",
    "    training.load_data()\n",
    "    training.model_train()\n",
    "    training.storage_artifacts()"
   ]
  },
  {
   "cell_type": "markdown",
   "id": "d6691098-d3dd-4e6e-80c2-9b1bd9ac890e",
   "metadata": {},
   "source": [
    "## Dockerfile"
   ]
  },
  {
   "cell_type": "code",
   "execution_count": 63,
   "id": "493fb0ff-d53a-4a6f-aee1-ca52fb822d63",
   "metadata": {},
   "outputs": [
    {
     "name": "stdout",
     "output_type": "stream",
     "text": [
      "Overwriting xgboost_custom/Dockerfile\n"
     ]
    }
   ],
   "source": [
    "%%writefile $DIR/Dockerfile\n",
    "FROM rapidsai/rapidsai-nightly:22.12-cuda11.2-base-ubuntu20.04-py3.8\n",
    "\n",
    "RUN pip install google-cloud-storage \\\n",
    "  && pip install gcsfs \\\n",
    "  && pip install pandas \\\n",
    "  && pip install dask-bigquery\n",
    "\n",
    "COPY trainer trainer/\n",
    "\n",
    "ENTRYPOINT [\"python\", \"trainer/train.py\"]"
   ]
  },
  {
   "cell_type": "markdown",
   "id": "343159b8-355f-4d41-8c56-17326f91ae66",
   "metadata": {},
   "source": [
    "## Crete Image and Push it to Google Artifacts Repository"
   ]
  },
  {
   "cell_type": "code",
   "execution_count": 64,
   "id": "82e5c2f8-5d85-4642-8756-1cf2c66d0127",
   "metadata": {
    "scrolled": true,
    "tags": []
   },
   "outputs": [
    {
     "name": "stdout",
     "output_type": "stream",
     "text": [
      "Sending build context to Docker daemon  8.192kB\n",
      "Step 1/4 : FROM rapidsai/rapidsai-nightly:22.12-cuda11.2-base-ubuntu20.04-py3.8\n",
      " ---> fbadf85eb205\n",
      "Step 2/4 : RUN pip install google-cloud-storage   && pip install gcsfs   && pip install pandas   && pip install dask-bigquery\n",
      " ---> Using cache\n",
      " ---> c82daf08c0ca\n",
      "Step 3/4 : COPY trainer trainer/\n",
      " ---> Using cache\n",
      " ---> a5237904f16c\n",
      "Step 4/4 : ENTRYPOINT [\"python\", \"trainer/train.py\"]\n",
      " ---> Using cache\n",
      " ---> 3b3cf1bbc944\n",
      "Successfully built 3b3cf1bbc944\n",
      "Successfully tagged us-central1-docker.pkg.dev/jchavezar-demo/trainings/xgboost-dask-gpu:latest\n"
     ]
    }
   ],
   "source": [
    "!docker build -t $TRAIN_IMAGE_URI $DIR/."
   ]
  },
  {
   "cell_type": "code",
   "execution_count": 65,
   "id": "ddee9fa8-6cc2-46aa-a6f3-2556848d985c",
   "metadata": {},
   "outputs": [
    {
     "name": "stdout",
     "output_type": "stream",
     "text": [
      "The push refers to repository [us-central1-docker.pkg.dev/jchavezar-demo/trainings/xgboost-dask-gpu]\n",
      "\n",
      "\u001b[1Bbc99c6c2: Preparing \n",
      "\u001b[1B7871a528: Preparing \n",
      "\u001b[1B10f8ab46: Preparing \n",
      "\u001b[1Ba60296d0: Preparing \n",
      "\u001b[1B04ce2dbe: Preparing \n",
      "\u001b[1B8d70af49: Preparing \n",
      "\u001b[1B57cc060a: Preparing \n",
      "\u001b[1Bf22f7d2b: Preparing \n",
      "\u001b[1Be8b67dbb: Preparing \n",
      "\u001b[1B4e28b8f7: Preparing \n",
      "\u001b[1Bfdd7be17: Preparing \n",
      "\u001b[1B070c6f18: Preparing \n",
      "\u001b[2B070c6f18: Layer already exists \u001b[6A\u001b[2K\u001b[3A\u001b[2Klatest: digest: sha256:6119cc007aa3c4b07dca7f93c27222ef027a87deb6b4f6bdf856433e3f94a5e9 size: 3064\n"
     ]
    }
   ],
   "source": [
    "!docker push $TRAIN_IMAGE_URI"
   ]
  },
  {
   "cell_type": "markdown",
   "id": "548506d3-8adb-402f-b697-191d5668d9b2",
   "metadata": {},
   "source": [
    "## Create Vertex Training from Code [CustomJob]"
   ]
  },
  {
   "cell_type": "code",
   "execution_count": null,
   "id": "9dd518d0-afad-4153-a307-980cc9c0497c",
   "metadata": {
    "scrolled": true,
    "tags": []
   },
   "outputs": [
    {
     "name": "stdout",
     "output_type": "stream",
     "text": [
      "Creating CustomJob\n",
      "CustomJob created. Resource name: projects/569083142710/locations/us-central1/customJobs/1439934858825564160\n",
      "To use this CustomJob in another session:\n",
      "custom_job = aiplatform.CustomJob.get('projects/569083142710/locations/us-central1/customJobs/1439934858825564160')\n",
      "View Custom Job:\n",
      "https://console.cloud.google.com/ai/platform/locations/us-central1/training/1439934858825564160?project=569083142710\n",
      "CustomJob projects/569083142710/locations/us-central1/customJobs/1439934858825564160 current state:\n",
      "JobState.JOB_STATE_PENDING\n",
      "CustomJob projects/569083142710/locations/us-central1/customJobs/1439934858825564160 current state:\n",
      "JobState.JOB_STATE_PENDING\n"
     ]
    }
   ],
   "source": [
    "aip.init(\n",
    "    project=PROJECT_ID,\n",
    "    location=REGION)\n",
    "\n",
    "num_gpus = 4\n",
    "\n",
    "worker_pool_specs = [\n",
    "    {\n",
    "        \"machine_spec\": {\n",
    "            \"machine_type\": \"n1-standard-4\",\n",
    "            \"accelerator_type\": \"NVIDIA_TESLA_V100\",\n",
    "            \"accelerator_count\": num_gpus\n",
    "        },\n",
    "        \"replica_count\": \"1\",\n",
    "        \"container_spec\": {\n",
    "            \"image_uri\": TRAIN_IMAGE_URI,\n",
    "            \"args\": [\n",
    "                \"--bq_table_dir\", \"vertex_datasets_public.cover_type_4Mrows\",\n",
    "                \"--num_workers\", f\"{num_gpus}\",\n",
    "                \"--threads_per_worker\", \"4\" \n",
    "            ]\n",
    "        }\n",
    "    },\n",
    "    ]\n",
    "\n",
    "job = aip.CustomJob(\n",
    "    display_name = '05cb-bqdask-xgboost-customjob',\n",
    "    worker_pool_specs = worker_pool_specs,\n",
    "    base_output_dir = MODEL_URI,\n",
    "    staging_bucket = STAGING_URI\n",
    ")\n",
    "\n",
    "model = job.run(\n",
    ")"
   ]
  },
  {
   "cell_type": "markdown",
   "id": "12c97425-4c47-4ba8-a457-aa9168c7d283",
   "metadata": {},
   "source": [
    "## Training Loss Chart"
   ]
  },
  {
   "cell_type": "code",
   "execution_count": 4,
   "id": "423f67b6-2704-415a-9377-5d39d5c2cc72",
   "metadata": {},
   "outputs": [
    {
     "data": {
      "image/png": "[encoded data removed]",
      "text/plain": [
       "<Figure size 640x480 with 1 Axes>"
      ]
     },
     "metadata": {},
     "output_type": "display_data"
    }
   ],
   "source": [
    "import json\n",
    "import matplotlib.pyplot as plt\n",
    "from google.cloud import storage\n",
    "from google.cloud import storage\n",
    "\n",
    "client = storage.Client()\n",
    "bucket = client.get_bucket('vtx-models')\n",
    "blob = bucket.blob('xgboost/cover_type/model/metadata.json')\n",
    "blob.download_to_filename('metadata.json')\n",
    "\n",
    "# Opening JSON file\n",
    "with open('metadata.json') as json_file:\n",
    "    data = json.load(json_file)\n",
    "\n",
    "plt.plot(data['mlogloss'])\n",
    "plt.show()"
   ]
  },
  {
   "cell_type": "markdown",
   "id": "735931d5-9859-41a6-941a-6c498829cbec",
   "metadata": {},
   "source": [
    "## Upload Model"
   ]
  },
  {
   "cell_type": "markdown",
   "id": "d8703284-9e5f-4988-a3cb-727c171a0b0a",
   "metadata": {},
   "source": [
    "### Prediction Code"
   ]
  },
  {
   "cell_type": "code",
   "execution_count": 9,
   "id": "9e04f7b4-9d73-478e-a8d2-00ff62a333e6",
   "metadata": {},
   "outputs": [],
   "source": [
    "!rm -fr $DIR/prediction\n",
    "!mkdir $DIR/prediction"
   ]
  },
  {
   "cell_type": "markdown",
   "id": "41b39288-3fae-407d-8933-1296d9f029b5",
   "metadata": {},
   "source": [
    "### Prediction Code"
   ]
  },
  {
   "cell_type": "code",
   "execution_count": 10,
   "id": "671cc1ae-2646-4066-b7bf-f96560606579",
   "metadata": {},
   "outputs": [
    {
     "name": "stdout",
     "output_type": "stream",
     "text": [
      "Writing xgboost_custom/prediction/app.py\n"
     ]
    }
   ],
   "source": [
    "%%writefile $DIR/prediction/app.py\n",
    "\n",
    "import os\n",
    "import logging\n",
    "import pandas as pd\n",
    "import xgboost as xgb\n",
    "from flask import Flask, request, Response, jsonify\n",
    "from google.cloud import storage\n",
    "\n",
    "client = storage.Client(project=os.environ['PROJECT_ID'])\n",
    "\n",
    "# Model Download from gcs\n",
    "\n",
    "fname = \"model.json\"\n",
    "\n",
    "with open(fname, \"wb\") as model:\n",
    "    client.download_blob_to_file(\n",
    "        f\"{os.environ['AIP_STORAGE_URI']}/{fname}\", model\n",
    "    )\n",
    "\n",
    "# Loading model\n",
    "print(\"[INFO] ------ Loading model from: {}\".format(fname))\n",
    "model = xgb.Booster(model_file=fname)\n",
    "\n",
    "# Creation of the Flask app\n",
    "app = Flask(__name__)\n",
    "\n",
    "# Flask route for Liveness checks\n",
    "@app.route(os.environ['AIP_HEALTH_ROUTE'])\n",
    "def isalive():\n",
    "    status_code = Response(status=200)\n",
    "    return status_code\n",
    "\n",
    "# Flask route for predictions\n",
    "@app.route(os.environ['AIP_PREDICT_ROUTE'],methods=['GET','POST'])\n",
    "def prediction():\n",
    "    _features = ['Id','Elevation', 'Aspect', 'Slope', 'Horizontal_Distance_To_Hydrology', 'Vertical_Distance_To_Hydrology', 'Horizontal_Distance_To_Roadways',\n",
    "                          'Hillshade_9am', 'Hillshade_Noon', 'Hillshade_3pm','Horizontal_Distance_To_Fire_Points', 'Wilderness_Area1', 'Wilderness_Area2', 'Wilderness_Area3', \n",
    "                          'Wilderness_Area4', 'Soil_Type1', 'Soil_Type2', 'Soil_Type3', 'Soil_Type4', 'Soil_Type5', 'Soil_Type6', 'Soil_Type7', 'Soil_Type8', 'Soil_Type9',\n",
    "                          'Soil_Type10','Soil_Type11','Soil_Type12','Soil_Type13','Soil_Type14','Soil_Type15','Soil_Type16','Soil_Type17','Soil_Type18','Soil_Type19', \n",
    "                          'Soil_Type20', 'Soil_Type21', 'Soil_Type22', 'Soil_Type23', 'Soil_Type24', 'Soil_Type25', 'Soil_Type26', 'Soil_Type27', 'Soil_Type28', 'Soil_Type29',\n",
    "                          'Soil_Type30', 'Soil_Type31', 'Soil_Type32', 'Soil_Type33', 'Soil_Type34', 'Soil_Type35', 'Soil_Type36', 'Soil_Type37', 'Soil_Type38', 'Soil_Type39', 'Soil_Type40']\n",
    "    data = request.get_json(silent=True, force=True)\n",
    "    dmf = xgb.DMatrix(pd.DataFrame(data[\"instances\"], columns=_features))\n",
    "    response = pd.DataFrame(model.predict(dmf))\n",
    "    logging.info(f\"Response: {response}\")\n",
    "    return jsonify({\"Cover Type\": str(response.idxmax(axis=1)[0])})\n",
    "\n",
    "if __name__ == \"__main__\":\n",
    "    app.run(debug=True, host='0.0.0.0', port=8080)"
   ]
  },
  {
   "cell_type": "code",
   "execution_count": 11,
   "id": "85f52d19-94a5-4ded-b687-a1aa00d13b66",
   "metadata": {},
   "outputs": [
    {
     "name": "stdout",
     "output_type": "stream",
     "text": [
      "Writing xgboost_custom/prediction/requirements.txt\n"
     ]
    }
   ],
   "source": [
    "%%writefile $DIR/prediction/requirements.txt\n",
    "\n",
    "google-cloud-storage\n",
    "numpy\n",
    "pandas\n",
    "flask\n",
    "xgboost"
   ]
  },
  {
   "cell_type": "code",
   "execution_count": 12,
   "id": "ebfe7f41-9998-46db-a222-785da2e1359f",
   "metadata": {},
   "outputs": [
    {
     "name": "stdout",
     "output_type": "stream",
     "text": [
      "Writing xgboost_custom/prediction/Dockerfile\n"
     ]
    }
   ],
   "source": [
    "%%writefile $DIR/prediction/Dockerfile\n",
    "\n",
    "FROM python:3.7-buster\n",
    "\n",
    "RUN mkdir my-model\n",
    "\n",
    "COPY app.py ./app.py\n",
    "COPY requirements.txt ./requirements.txt\n",
    "RUN pip install -r requirements.txt \n",
    "\n",
    "# Flask Env Variable\n",
    "ENV FLASK_APP=app\n",
    "\n",
    "# Expose port 8080\n",
    "EXPOSE 8080\n",
    "\n",
    "CMD flask run --host=0.0.0.0 --port=8080"
   ]
  },
  {
   "cell_type": "markdown",
   "id": "94f70462-48ba-4409-8009-681025fbc058",
   "metadata": {},
   "source": [
    "## Building and Pushing Prediction Image"
   ]
  },
  {
   "cell_type": "code",
   "execution_count": 13,
   "id": "986aae78-318b-4122-95ea-e62d896ef975",
   "metadata": {
    "scrolled": true,
    "tags": []
   },
   "outputs": [
    {
     "name": "stdout",
     "output_type": "stream",
     "text": [
      "Creating temporary tarball archive of 3 file(s) totalling 2.5 KiB before compression.\n",
      "Uploading tarball of [xgboost_custom/prediction/.] to [gs://jchavezar-demo_cloudbuild/source/1674102596.535233-8794cf1a4d4c49ba8615838043463da3.tgz]\n",
      "Created [https://cloudbuild.googleapis.com/v1/projects/jchavezar-demo/locations/global/builds/7326dd73-b512-4ef1-954c-ed874336e923].\n",
      "Logs are available at [ https://console.cloud.google.com/cloud-build/builds/7326dd73-b512-4ef1-954c-ed874336e923?project=569083142710 ].\n",
      "----------------------------- REMOTE BUILD OUTPUT ------------------------------\n",
      "starting build \"7326dd73-b512-4ef1-954c-ed874336e923\"\n",
      "\n",
      "FETCHSOURCE\n",
      "Fetching storage object: gs://jchavezar-demo_cloudbuild/source/1674102596.535233-8794cf1a4d4c49ba8615838043463da3.tgz#1674102596745717\n",
      "Copying gs://jchavezar-demo_cloudbuild/source/1674102596.535233-8794cf1a4d4c49ba8615838043463da3.tgz#1674102596745717...\n",
      "/ [1 files][  1.4 KiB/  1.4 KiB]                                                \n",
      "Operation completed over 1 objects/1.4 KiB.\n",
      "BUILD\n",
      "Already have image (with digest): gcr.io/cloud-builders/docker\n",
      "Sending build context to Docker daemon  6.144kB\n",
      "Step 1/8 : FROM python:3.7-buster\n",
      "3.7-buster: Pulling from library/python\n",
      "ac7f2e1c7586: Pulling fs layer\n",
      "dbcdf7fce05b: Pulling fs layer\n",
      "0ed0c2752d84: Pulling fs layer\n",
      "bf01cd4ea334: Pulling fs layer\n",
      "739282cf09da: Pulling fs layer\n",
      "852c00e61b55: Pulling fs layer\n",
      "13393dd82bcb: Pulling fs layer\n",
      "fe686a77b46a: Pulling fs layer\n",
      "0782e93fc962: Pulling fs layer\n",
      "bf01cd4ea334: Waiting\n",
      "739282cf09da: Waiting\n",
      "852c00e61b55: Waiting\n",
      "13393dd82bcb: Waiting\n",
      "fe686a77b46a: Waiting\n",
      "0782e93fc962: Waiting\n",
      "dbcdf7fce05b: Verifying Checksum\n",
      "dbcdf7fce05b: Download complete\n",
      "0ed0c2752d84: Verifying Checksum\n",
      "0ed0c2752d84: Download complete\n",
      "ac7f2e1c7586: Verifying Checksum\n",
      "ac7f2e1c7586: Download complete\n",
      "852c00e61b55: Verifying Checksum\n",
      "852c00e61b55: Download complete\n",
      "bf01cd4ea334: Verifying Checksum\n",
      "bf01cd4ea334: Download complete\n",
      "fe686a77b46a: Verifying Checksum\n",
      "fe686a77b46a: Download complete\n",
      "0782e93fc962: Download complete\n",
      "13393dd82bcb: Verifying Checksum\n",
      "13393dd82bcb: Download complete\n",
      "739282cf09da: Verifying Checksum\n",
      "739282cf09da: Download complete\n",
      "ac7f2e1c7586: Pull complete\n",
      "dbcdf7fce05b: Pull complete\n",
      "0ed0c2752d84: Pull complete\n",
      "bf01cd4ea334: Pull complete\n",
      "739282cf09da: Pull complete\n",
      "852c00e61b55: Pull complete\n",
      "13393dd82bcb: Pull complete\n",
      "fe686a77b46a: Pull complete\n",
      "0782e93fc962: Pull complete\n",
      "Digest: sha256:3a24b21cac3f80f3b1fc5a1d3f4eeeb5d8fcc9e35d0152749c2ef37666f99e1e\n",
      "Status: Downloaded newer image for python:3.7-buster\n",
      " ---> b71c67c0b798\n",
      "Step 2/8 : RUN mkdir my-model\n",
      " ---> Running in eb5cf731b7a1\n",
      "Removing intermediate container eb5cf731b7a1\n",
      " ---> f7d0d140be4d\n",
      "Step 3/8 : COPY app.py ./app.py\n",
      " ---> ee182ec1d240\n",
      "Step 4/8 : COPY requirements.txt ./requirements.txt\n",
      " ---> ad7318966680\n",
      "Step 5/8 : RUN pip install -r requirements.txt\n",
      " ---> Running in 38b0709f6a64\n",
      "Collecting google-cloud-storage\n",
      "  Downloading google_cloud_storage-2.7.0-py2.py3-none-any.whl (110 kB)\n",
      "     ━━━━━━━━━━━━━━━━━━━━━━━━━━━━━━━━━━━━━━━ 110.2/110.2 KB 5.6 MB/s eta 0:00:00\n",
      "Collecting numpy\n",
      "  Downloading numpy-1.21.6-cp37-cp37m-manylinux_2_12_x86_64.manylinux2010_x86_64.whl (15.7 MB)\n",
      "     ━━━━━━━━━━━━━━━━━━━━━━━━━━━━━━━━━━━━━━━━ 15.7/15.7 MB 36.8 MB/s eta 0:00:00\n",
      "Collecting pandas\n",
      "  Downloading pandas-1.3.5-cp37-cp37m-manylinux_2_17_x86_64.manylinux2014_x86_64.whl (11.3 MB)\n",
      "     ━━━━━━━━━━━━━━━━━━━━━━━━━━━━━━━━━━━━━━━━ 11.3/11.3 MB 46.6 MB/s eta 0:00:00\n",
      "Collecting flask\n",
      "  Downloading Flask-2.2.2-py3-none-any.whl (101 kB)\n",
      "     ━━━━━━━━━━━━━━━━━━━━━━━━━━━━━━━━━━━━━━ 101.5/101.5 KB 11.3 MB/s eta 0:00:00\n",
      "Collecting xgboost\n",
      "  Downloading xgboost-1.6.2-py3-none-manylinux2014_x86_64.whl (255.9 MB)\n",
      "     ━━━━━━━━━━━━━━━━━━━━━━━━━━━━━━━━━━━━━━━ 255.9/255.9 MB 4.5 MB/s eta 0:00:00\n",
      "Collecting google-cloud-core<3.0dev,>=2.3.0\n",
      "  Downloading google_cloud_core-2.3.2-py2.py3-none-any.whl (29 kB)\n",
      "Collecting requests<3.0.0dev,>=2.18.0\n",
      "  Downloading requests-2.28.2-py3-none-any.whl (62 kB)\n",
      "     ━━━━━━━━━━━━━━━━━━━━━━━━━━━━━━━━━━━━━━━━ 62.8/62.8 KB 8.6 MB/s eta 0:00:00\n",
      "Collecting google-resumable-media>=2.3.2\n",
      "  Downloading google_resumable_media-2.4.0-py2.py3-none-any.whl (77 kB)\n",
      "     ━━━━━━━━━━━━━━━━━━━━━━━━━━━━━━━━━━━━━━━━ 77.4/77.4 KB 11.2 MB/s eta 0:00:00\n",
      "Collecting google-api-core!=2.0.*,!=2.1.*,!=2.2.*,!=2.3.0,<3.0.0dev,>=1.31.5\n",
      "  Downloading google_api_core-2.11.0-py3-none-any.whl (120 kB)\n",
      "     ━━━━━━━━━━━━━━━━━━━━━━━━━━━━━━━━━━━━━━ 120.3/120.3 KB 15.6 MB/s eta 0:00:00\n",
      "Collecting google-auth<3.0dev,>=1.25.0\n",
      "  Downloading google_auth-2.16.0-py2.py3-none-any.whl (177 kB)\n",
      "     ━━━━━━━━━━━━━━━━━━━━━━━━━━━━━━━━━━━━━━ 177.8/177.8 KB 21.2 MB/s eta 0:00:00\n",
      "Collecting python-dateutil>=2.7.3\n",
      "  Downloading python_dateutil-2.8.2-py2.py3-none-any.whl (247 kB)\n",
      "     ━━━━━━━━━━━━━━━━━━━━━━━━━━━━━━━━━━━━━━ 247.7/247.7 KB 29.9 MB/s eta 0:00:00\n",
      "Collecting pytz>=2017.3\n",
      "  Downloading pytz-2022.7.1-py2.py3-none-any.whl (499 kB)\n",
      "     ━━━━━━━━━━━━━━━━━━━━━━━━━━━━━━━━━━━━━━ 499.4/499.4 KB 37.3 MB/s eta 0:00:00\n",
      "Collecting importlib-metadata>=3.6.0\n",
      "  Downloading importlib_metadata-6.0.0-py3-none-any.whl (21 kB)\n",
      "Collecting itsdangerous>=2.0\n",
      "  Downloading itsdangerous-2.1.2-py3-none-any.whl (15 kB)\n",
      "Collecting Jinja2>=3.0\n",
      "  Downloading Jinja2-3.1.2-py3-none-any.whl (133 kB)\n",
      "     ━━━━━━━━━━━━━━━━━━━━━━━━━━━━━━━━━━━━━━ 133.1/133.1 KB 17.4 MB/s eta 0:00:00\n",
      "Collecting click>=8.0\n",
      "  Downloading click-8.1.3-py3-none-any.whl (96 kB)\n",
      "     ━━━━━━━━━━━━━━━━━━━━━━━━━━━━━━━━━━━━━━━━ 96.6/96.6 KB 12.8 MB/s eta 0:00:00\n",
      "Collecting Werkzeug>=2.2.2\n",
      "  Downloading Werkzeug-2.2.2-py3-none-any.whl (232 kB)\n",
      "     ━━━━━━━━━━━━━━━━━━━━━━━━━━━━━━━━━━━━━━ 232.7/232.7 KB 26.9 MB/s eta 0:00:00\n",
      "Collecting scipy\n",
      "  Downloading scipy-1.7.3-cp37-cp37m-manylinux_2_12_x86_64.manylinux2010_x86_64.whl (38.1 MB)\n",
      "     ━━━━━━━━━━━━━━━━━━━━━━━━━━━━━━━━━━━━━━━━ 38.1/38.1 MB 22.1 MB/s eta 0:00:00\n",
      "Collecting googleapis-common-protos<2.0dev,>=1.56.2\n",
      "  Downloading googleapis_common_protos-1.58.0-py2.py3-none-any.whl (223 kB)\n",
      "     ━━━━━━━━━━━━━━━━━━━━━━━━━━━━━━━━━━━━━━ 223.0/223.0 KB 27.2 MB/s eta 0:00:00\n",
      "Collecting protobuf!=3.20.0,!=3.20.1,!=4.21.0,!=4.21.1,!=4.21.2,!=4.21.3,!=4.21.4,!=4.21.5,<5.0.0dev,>=3.19.5\n",
      "  Downloading protobuf-4.21.12-cp37-abi3-manylinux2014_x86_64.whl (409 kB)\n",
      "     ━━━━━━━━━━━━━━━━━━━━━━━━━━━━━━━━━━━━━━ 409.8/409.8 KB 34.7 MB/s eta 0:00:00\n",
      "Collecting rsa<5,>=3.1.4\n",
      "  Downloading rsa-4.9-py3-none-any.whl (34 kB)\n",
      "Collecting pyasn1-modules>=0.2.1\n",
      "  Downloading pyasn1_modules-0.2.8-py2.py3-none-any.whl (155 kB)\n",
      "     ━━━━━━━━━━━━━━━━━━━━━━━━━━━━━━━━━━━━━━ 155.3/155.3 KB 17.9 MB/s eta 0:00:00\n",
      "Collecting six>=1.9.0\n",
      "  Downloading six-1.16.0-py2.py3-none-any.whl (11 kB)\n",
      "Collecting cachetools<6.0,>=2.0.0\n",
      "  Downloading cachetools-5.2.1-py3-none-any.whl (9.3 kB)\n",
      "Collecting google-crc32c<2.0dev,>=1.0\n",
      "  Downloading google_crc32c-1.5.0-cp37-cp37m-manylinux_2_17_x86_64.manylinux2014_x86_64.whl (32 kB)\n",
      "Collecting zipp>=0.5\n",
      "  Downloading zipp-3.11.0-py3-none-any.whl (6.6 kB)\n",
      "Collecting typing-extensions>=3.6.4\n",
      "  Downloading typing_extensions-4.4.0-py3-none-any.whl (26 kB)\n",
      "Collecting MarkupSafe>=2.0\n",
      "  Downloading MarkupSafe-2.1.2-cp37-cp37m-manylinux_2_17_x86_64.manylinux2014_x86_64.whl (25 kB)\n",
      "Collecting charset-normalizer<4,>=2\n",
      "  Downloading charset_normalizer-3.0.1-cp37-cp37m-manylinux_2_17_x86_64.manylinux2014_x86_64.whl (170 kB)\n",
      "     ━━━━━━━━━━━━━━━━━━━━━━━━━━━━━━━━━━━━━━ 170.5/170.5 KB 21.9 MB/s eta 0:00:00\n",
      "Collecting certifi>=2017.4.17\n",
      "  Downloading certifi-2022.12.7-py3-none-any.whl (155 kB)\n",
      "     ━━━━━━━━━━━━━━━━━━━━━━━━━━━━━━━━━━━━━━ 155.3/155.3 KB 21.6 MB/s eta 0:00:00\n",
      "Collecting urllib3<1.27,>=1.21.1\n",
      "  Downloading urllib3-1.26.14-py2.py3-none-any.whl (140 kB)\n",
      "     ━━━━━━━━━━━━━━━━━━━━━━━━━━━━━━━━━━━━━━ 140.6/140.6 KB 17.7 MB/s eta 0:00:00\n",
      "Collecting idna<4,>=2.5\n",
      "  Downloading idna-3.4-py3-none-any.whl (61 kB)\n",
      "     ━━━━━━━━━━━━━━━━━━━━━━━━━━━━━━━━━━━━━━━━ 61.5/61.5 KB 9.4 MB/s eta 0:00:00\n",
      "Collecting pyasn1<0.5.0,>=0.4.6\n",
      "  Downloading pyasn1-0.4.8-py2.py3-none-any.whl (77 kB)\n",
      "     ━━━━━━━━━━━━━━━━━━━━━━━━━━━━━━━━━━━━━━━━ 77.1/77.1 KB 10.5 MB/s eta 0:00:00\n",
      "Installing collected packages: pytz, pyasn1, charset-normalizer, zipp, urllib3, typing-extensions, six, rsa, pyasn1-modules, protobuf, numpy, MarkupSafe, itsdangerous, idna, google-crc32c, certifi, cachetools, Werkzeug, scipy, requests, python-dateutil, Jinja2, importlib-metadata, googleapis-common-protos, google-resumable-media, google-auth, xgboost, pandas, google-api-core, click, google-cloud-core, flask, google-cloud-storage\n",
      "Successfully installed Jinja2-3.1.2 MarkupSafe-2.1.2 Werkzeug-2.2.2 cachetools-5.2.1 certifi-2022.12.7 charset-normalizer-3.0.1 click-8.1.3 flask-2.2.2 google-api-core-2.11.0 google-auth-2.16.0 google-cloud-core-2.3.2 google-cloud-storage-2.7.0 google-crc32c-1.5.0 google-resumable-media-2.4.0 googleapis-common-protos-1.58.0 idna-3.4 importlib-metadata-6.0.0 itsdangerous-2.1.2 numpy-1.21.6 pandas-1.3.5 protobuf-4.21.12 pyasn1-0.4.8 pyasn1-modules-0.2.8 python-dateutil-2.8.2 pytz-2022.7.1 requests-2.28.2 rsa-4.9 scipy-1.7.3 six-1.16.0 typing-extensions-4.4.0 urllib3-1.26.14 xgboost-1.6.2 zipp-3.11.0\n",
      "\u001b[91mWARNING: Running pip as the 'root' user can result in broken permissions and conflicting behaviour with the system package manager. It is recommended to use a virtual environment instead: https://pip.pypa.io/warnings/venv\n",
      "\u001b[0m\u001b[91mWARNING: You are using pip version 22.0.4; however, version 22.3.1 is available.\n",
      "You should consider upgrading via the '/usr/local/bin/python -m pip install --upgrade pip' command.\n",
      "\u001b[0mRemoving intermediate container 38b0709f6a64\n",
      " ---> 84940dc75d68\n",
      "Step 6/8 : ENV FLASK_APP=app\n",
      " ---> Running in 00387d58a55e\n",
      "Removing intermediate container 00387d58a55e\n",
      " ---> 2fc6e2f0e8e5\n",
      "Step 7/8 : EXPOSE 8080\n",
      " ---> Running in 925a3ea15261\n",
      "Removing intermediate container 925a3ea15261\n",
      " ---> ac017a0100b9\n",
      "Step 8/8 : CMD flask run --host=0.0.0.0 --port=8080\n",
      " ---> Running in 11432af1bd6e\n",
      "Removing intermediate container 11432af1bd6e\n",
      " ---> 3813fc85d625\n",
      "Successfully built 3813fc85d625\n",
      "Successfully tagged us-central1-docker.pkg.dev/jchavezar-demo/custom-predictions/xgboost-dask-cpu:latest\n",
      "PUSH\n",
      "Pushing us-central1-docker.pkg.dev/jchavezar-demo/custom-predictions/xgboost-dask-cpu:latest\n",
      "The push refers to repository [us-central1-docker.pkg.dev/jchavezar-demo/custom-predictions/xgboost-dask-cpu]\n",
      "fd2f65d41d23: Preparing\n",
      "05953236abb0: Preparing\n",
      "583d501413b9: Preparing\n",
      "fcde9f02524d: Preparing\n",
      "416105a23232: Preparing\n",
      "15ac61524a51: Preparing\n",
      "398d0f363456: Preparing\n",
      "9e550b4f0ddf: Preparing\n",
      "b9b05a3855c6: Preparing\n",
      "132e6b0c0edd: Preparing\n",
      "d5ce45249ce1: Preparing\n",
      "b7392dc58749: Preparing\n",
      "083aacb889b3: Preparing\n",
      "9e550b4f0ddf: Waiting\n",
      "b9b05a3855c6: Waiting\n",
      "132e6b0c0edd: Waiting\n",
      "d5ce45249ce1: Waiting\n",
      "b7392dc58749: Waiting\n",
      "083aacb889b3: Waiting\n",
      "15ac61524a51: Waiting\n",
      "398d0f363456: Waiting\n",
      "416105a23232: Layer already exists\n",
      "15ac61524a51: Layer already exists\n",
      "398d0f363456: Layer already exists\n",
      "9e550b4f0ddf: Layer already exists\n",
      "583d501413b9: Pushed\n",
      "05953236abb0: Pushed\n",
      "b9b05a3855c6: Layer already exists\n",
      "fcde9f02524d: Pushed\n",
      "132e6b0c0edd: Layer already exists\n",
      "d5ce45249ce1: Layer already exists\n",
      "083aacb889b3: Layer already exists\n",
      "b7392dc58749: Layer already exists\n",
      "fd2f65d41d23: Pushed\n",
      "latest: digest: sha256:70d16ed05b1addc177e53c9a496986f2a676809d32299edc9e439e74864c58f1 size: 3054\n",
      "DONE\n",
      "--------------------------------------------------------------------------------\n",
      "ID                                    CREATE_TIME                DURATION  SOURCE                                                                                        IMAGES                                                                                   STATUS\n",
      "7326dd73-b512-4ef1-954c-ed874336e923  2023-01-19T04:29:56+00:00  2M13S     gs://jchavezar-demo_cloudbuild/source/1674102596.535233-8794cf1a4d4c49ba8615838043463da3.tgz  us-central1-docker.pkg.dev/jchavezar-demo/custom-predictions/xgboost-dask-cpu (+1 more)  SUCCESS\n"
     ]
    }
   ],
   "source": [
    "!gcloud builds submit --tag $PREDICTION_IMAGE_URI $DIR/prediction/. --timeout 3000"
   ]
  },
  {
   "cell_type": "code",
   "execution_count": 25,
   "id": "7c047c2a-0366-4acc-9c28-2b2acfce7817",
   "metadata": {},
   "outputs": [
    {
     "name": "stdout",
     "output_type": "stream",
     "text": [
      "Creating Model\n",
      "Create Model backing LRO: projects/569083142710/locations/us-central1/models/7767550471958429696/operations/6053111471422832640\n",
      "Model created. Resource name: projects/569083142710/locations/us-central1/models/7767550471958429696@1\n",
      "To use this Model in another session:\n",
      "model = aiplatform.Model('projects/569083142710/locations/us-central1/models/7767550471958429696@1')\n"
     ]
    }
   ],
   "source": [
    "model = aip.Model.upload(\n",
    "    display_name = '05-cb-cover_type',\n",
    "    serving_container_image_uri = PREDICTION_IMAGE_URI,\n",
    "    artifact_uri = f'{MODEL_URI}/model',\n",
    "    serving_container_environment_variables = {\n",
    "        'PROJECT_ID': PROJECT_ID,\n",
    "    }\n",
    ")"
   ]
  },
  {
   "cell_type": "code",
   "execution_count": 26,
   "id": "16cc2a04-8db9-473b-a499-04b663a884e0",
   "metadata": {},
   "outputs": [
    {
     "name": "stdout",
     "output_type": "stream",
     "text": [
      "Creating Endpoint\n",
      "Create Endpoint backing LRO: projects/569083142710/locations/us-central1/endpoints/4545878048481738752/operations/517765316919427072\n",
      "Endpoint created. Resource name: projects/569083142710/locations/us-central1/endpoints/4545878048481738752\n",
      "To use this Endpoint in another session:\n",
      "endpoint = aiplatform.Endpoint('projects/569083142710/locations/us-central1/endpoints/4545878048481738752')\n",
      "Deploying model to Endpoint : projects/569083142710/locations/us-central1/endpoints/4545878048481738752\n",
      "Deploy Endpoint model backing LRO: projects/569083142710/locations/us-central1/endpoints/4545878048481738752/operations/5740814984762359808\n",
      "Endpoint model deployed. Resource name: projects/569083142710/locations/us-central1/endpoints/4545878048481738752\n"
     ]
    }
   ],
   "source": [
    "endpoint = model.deploy(\n",
    "    deployed_model_display_name = '05-cb-cover_ep_dep',\n",
    "    traffic_percentage = 100,\n",
    "    machine_type = 'n1-standard-4',\n",
    "    min_replica_count = 1,\n",
    "    max_replica_count = 1,\n",
    ")"
   ]
  }
 ],
 "metadata": {
  "environment": {
   "kernel": "python3",
   "name": "tf2-gpu.2-10.m98",
   "type": "gcloud",
   "uri": "gcr.io/deeplearning-platform-release/tf2-gpu.2-10:m98"
  },
  "kernelspec": {
   "display_name": "Python 3",
   "language": "python",
   "name": "python3"
  },
  "language_info": {
   "codemirror_mode": {
    "name": "ipython",
    "version": 3
   },
   "file_extension": ".py",
   "mimetype": "text/x-python",
   "name": "python",
   "nbconvert_exporter": "python",
   "pygments_lexer": "ipython3",
   "version": "3.7.12"
  }
 },
 "nbformat": 4,
 "nbformat_minor": 5
}
