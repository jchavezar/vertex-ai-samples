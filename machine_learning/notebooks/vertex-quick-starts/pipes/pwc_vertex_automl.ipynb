{
 "cells": [
  {
   "cell_type": "code",
   "execution_count": 68,
   "id": "84a972fc-ed62-4bc6-88f7-7fc135095cee",
   "metadata": {},
   "outputs": [],
   "source": [
    "from google_cloud_pipeline_components import aiplatform as gcc\n",
    "from kfp.v2.dsl import pipeline\n",
    "\n",
    "@pipeline(name='mpg-automl')\n",
    "def pipeline(\n",
    "    project: str\n",
    "):\n",
    "    vtx_dataset_job = gcc.TabularDatasetCreateOp(\n",
    "        display_name = 'median_house_value',\n",
    "        project = project,\n",
    "        gcs_source = 'gs://vtx-datasets-public/mpg-custom/dataset.csv'\n",
    "    )\n",
    "    vtx_train_job = gcc.AutoMLTabularTrainingJobRunOp(\n",
    "        display_name = 'automl-text-train-mpg',\n",
    "        project = project,\n",
    "        dataset = vtx_dataset_job.outputs[\"dataset\"],\n",
    "        optimization_prediction_type = 'regression',\n",
    "        target_column = 'median_house_value'\n",
    "    )\n",
    "    create_endpoint_op = gcc.EndpointCreateOp(\n",
    "        project = project,\n",
    "        display_name = \"automl-mpg-endpoint\",\n",
    "    )\n",
    "    model_deploy_op = gcc.ModelDeployOp(\n",
    "        model = vtx_train_job.outputs[\"model\"],\n",
    "        endpoint = create_endpoint_op.outputs['endpoint'],\n",
    "        dedicated_resources_machine_type = 'n1-standard-4',\n",
    "        dedicated_resources_min_replica_count = 1,\n",
    "        dedicated_resources_max_replica_count = 1\n",
    "    )"
   ]
  },
  {
   "cell_type": "code",
   "execution_count": 69,
   "id": "962bd943-55fa-49d0-b3bb-7ef655a4ab68",
   "metadata": {},
   "outputs": [],
   "source": [
    "from kfp.v2 import compiler\n",
    "compiler.Compiler().compile(pipeline_func=pipeline,\n",
    "        package_path='vtx-automl-mpg.json')"
   ]
  },
  {
   "cell_type": "code",
   "execution_count": 70,
   "id": "5ebf6117-a2d5-4f57-8225-e484e1883fcd",
   "metadata": {},
   "outputs": [
    {
     "name": "stdout",
     "output_type": "stream",
     "text": [
      "Creating PipelineJob\n",
      "PipelineJob created. Resource name: projects/569083142710/locations/us-central1/pipelineJobs/mpg-automl-20221122131035\n",
      "To use this PipelineJob in another session:\n",
      "pipeline_job = aiplatform.PipelineJob.get('projects/569083142710/locations/us-central1/pipelineJobs/mpg-automl-20221122131035')\n",
      "View Pipeline Job:\n",
      "https://console.cloud.google.com/vertex-ai/locations/us-central1/pipelines/runs/mpg-automl-20221122131035?project=569083142710\n"
     ]
    }
   ],
   "source": [
    "import google.cloud.aiplatform as aip\n",
    "\n",
    "job = aip.PipelineJob(\n",
    "    display_name=\"kfp-v2\",\n",
    "    template_path=\"vtx-automl-mpg.json\",\n",
    "    pipeline_root=\"gs://vtx-pipe-root/\",\n",
    "    parameter_values={\n",
    "        \"project\": \"jchavezar-demo\"\n",
    "    },\n",
    ")\n",
    "\n",
    "job.submit()"
   ]
  },
  {
   "cell_type": "code",
   "execution_count": null,
   "id": "62402168-f773-4fab-b3ab-e92e1ed68544",
   "metadata": {},
   "outputs": [],
   "source": []
  }
 ],
 "metadata": {
  "environment": {
   "kernel": "python3",
   "name": "tf2-gpu.2-10.m98",
   "type": "gcloud",
   "uri": "gcr.io/deeplearning-platform-release/tf2-gpu.2-10:m98"
  },
  "kernelspec": {
   "display_name": "Python 3",
   "language": "python",
   "name": "python3"
  },
  "language_info": {
   "codemirror_mode": {
    "name": "ipython",
    "version": 3
   },
   "file_extension": ".py",
   "mimetype": "text/x-python",
   "name": "python",
   "nbconvert_exporter": "python",
   "pygments_lexer": "ipython3",
   "version": "3.7.12"
  }
 },
 "nbformat": 4,
 "nbformat_minor": 5
}
