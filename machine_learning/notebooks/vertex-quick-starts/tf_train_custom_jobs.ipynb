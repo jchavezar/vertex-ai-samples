{
 "cells": [
  {
   "cell_type": "markdown",
   "id": "975bd2ec-0cf9-4efa-a156-87f38f281c48",
   "metadata": {},
   "source": [
    "## Import Libraries and Set Constants"
   ]
  },
  {
   "cell_type": "code",
   "execution_count": null,
   "id": "095d0667-4a34-4faf-a70c-fac6a95d2d39",
   "metadata": {},
   "outputs": [],
   "source": [
    "import os\n",
    "import random\n",
    "import pandas as pd\n",
    "from google.cloud import aiplatform\n",
    "from sklearn.metrics import mean_absolute_error, mean_squared_error\n",
    "from tensorflow.python.keras.utils import data_utils\n",
    "import warnings\n",
    "warnings.filterwarnings('ignore')"
   ]
  },
  {
   "cell_type": "code",
   "execution_count": null,
   "id": "55a53a97-38cb-46d0-ab54-67ebf420a6ef",
   "metadata": {},
   "outputs": [],
   "source": [
    "PROJECT = 'jchavezar-demo'\n",
    "REGION = 'us-central1'\n",
    "BUCKET_URI= 'gs://vtx-tmp/abalon_train/'"
   ]
  },
  {
   "cell_type": "code",
   "execution_count": null,
   "id": "3cdb3100-c21f-47a7-b0fd-1bd9dbad494a",
   "metadata": {},
   "outputs": [],
   "source": [
    "EXPERIMENT_NAME = 'fast-demos-'+str(random.randrange(1,100))"
   ]
  },
  {
   "cell_type": "markdown",
   "id": "bc921291-2d34-494b-9af6-15621e2aec07",
   "metadata": {},
   "source": [
    "## Initialize Vertex and Set Experiment"
   ]
  },
  {
   "cell_type": "code",
   "execution_count": null,
   "id": "393c26be-9f96-419d-966d-3015a6e76f31",
   "metadata": {},
   "outputs": [],
   "source": [
    "aiplatform.init(project=PROJECT, location=REGION, staging_bucket=BUCKET_URI, experiment=EXPERIMENT_NAME)"
   ]
  },
  {
   "cell_type": "code",
   "execution_count": null,
   "id": "e2ed3fb6-2159-4e27-baf2-9ab4dc4f44a3",
   "metadata": {},
   "outputs": [],
   "source": [
    "!wget https://storage.googleapis.com/download.tensorflow.org/data/abalone_train.csv\n",
    "!gsutil cp abalone_train.csv {BUCKET_URI}/data/\n",
    "\n",
    "gcs_csv_path = f\"{BUCKET_URI}/data/abalone_train.csv\"\n",
    "!rm abalone_train.csv"
   ]
  },
  {
   "cell_type": "markdown",
   "id": "216805ba-1df5-4beb-a94b-b405063b227c",
   "metadata": {},
   "source": [
    "## Create a Vertex AI Tabular dataset from CSV data"
   ]
  },
  {
   "cell_type": "code",
   "execution_count": null,
   "id": "27fe7481-a793-4f0b-a524-39c7298942c4",
   "metadata": {},
   "outputs": [],
   "source": [
    "ds = aiplatform.TabularDataset.create(display_name=\"abalone\", gcs_source=[gcs_csv_path])\n",
    "\n",
    "ds.resource_name"
   ]
  },
  {
   "cell_type": "markdown",
   "id": "b6c6f8a4-c069-43d8-a67a-4dc92a7aa504",
   "metadata": {},
   "source": [
    "## Write the Training Script"
   ]
  },
  {
   "cell_type": "code",
   "execution_count": null,
   "id": "6cddf3e9-c8e5-432a-9254-caf73777dbff",
   "metadata": {},
   "outputs": [],
   "source": [
    "%%writefile training_script.py\n",
    "\n",
    "import pandas as pd\n",
    "import argparse\n",
    "import os\n",
    "import tensorflow as tf\n",
    "from tensorflow import keras\n",
    "from tensorflow.keras import layers\n",
    "\n",
    "parser = argparse.ArgumentParser()\n",
    "parser.add_argument('--epochs', dest='epochs',\n",
    "                    default=10, type=int,\n",
    "                    help='Number of epochs.')\n",
    "parser.add_argument('--num_units', dest='num_units',\n",
    "                    default=64, type=int,\n",
    "                    help='Number of unit for first layer.')\n",
    "args = parser.parse_args()\n",
    "\n",
    "col_names = [\"Length\", \"Diameter\", \"Height\", \"Whole weight\", \"Shucked weight\", \"Viscera weight\", \"Shell weight\", \"Age\"]\n",
    "target = \"Age\"\n",
    "\n",
    "def aip_data_to_dataframe(wild_card_path):\n",
    "    return pd.concat([pd.read_csv(fp.numpy().decode(), names=col_names)\n",
    "                      for fp in tf.data.Dataset.list_files([wild_card_path])])\n",
    "\n",
    "def get_features_and_labels(df):\n",
    "    return df.drop(target, axis=1).values, df[target].values\n",
    "\n",
    "def data_prep(wild_card_path):\n",
    "    return get_features_and_labels(aip_data_to_dataframe(wild_card_path))\n",
    "\n",
    "\n",
    "model = tf.keras.Sequential([layers.Dense(args.num_units), layers.Dense(1)])\n",
    "model.compile(loss='mse', optimizer='adam')\n",
    "\n",
    "model.fit(*data_prep(os.environ[\"AIP_TRAINING_DATA_URI\"]),\n",
    "          epochs=args.epochs ,\n",
    "          validation_data=data_prep(os.environ[\"AIP_VALIDATION_DATA_URI\"]))\n",
    "print(model.evaluate(*data_prep(os.environ[\"AIP_TEST_DATA_URI\"])))\n",
    "\n",
    "# save as Vertex AI Managed model\n",
    "tf.saved_model.save(model, os.environ[\"AIP_MODEL_DIR\"])"
   ]
  },
  {
   "cell_type": "markdown",
   "id": "fca1fb76-cd79-40b7-8662-16d7bec2681a",
   "metadata": {},
   "source": [
    "## Launch a Custom Training Job and Track its Parameters on Vertex ML Metadata"
   ]
  },
  {
   "cell_type": "code",
   "execution_count": null,
   "id": "5b94993d-3f36-45b9-9c93-dd4534fe21c9",
   "metadata": {},
   "outputs": [],
   "source": [
    "job = aiplatform.CustomTrainingJob(\n",
    "    display_name=\"train-abalone-dist-1-replica\",\n",
    "    script_path=\"training_script.py\",\n",
    "    container_uri=\"us-docker.pkg.dev/vertex-ai/training/tf-cpu.2-8:latest\",\n",
    "    requirements=[\"gcsfs==0.7.1\"],\n",
    "    model_serving_container_image_uri=\"us-docker.pkg.dev/vertex-ai/prediction/tf2-cpu.2-8:latest\",\n",
    ")"
   ]
  },
  {
   "cell_type": "code",
   "execution_count": null,
   "id": "c8d8fa38-4f35-4090-b29e-fcdab0e05908",
   "metadata": {},
   "outputs": [],
   "source": [
    "aiplatform.start_run(\"custom-training-run-1\")  # Change this to your desired run name\n",
    "parameters = {\"epochs\": 10, \"num_units\": 64}\n",
    "aiplatform.log_params(parameters)\n",
    "\n",
    "model = job.run(\n",
    "    ds,\n",
    "    replica_count=1,\n",
    "    model_display_name=\"abalone-model\",\n",
    "    args=[f\"--epochs={parameters['epochs']}\", f\"--num_units={parameters['num_units']}\"],\n",
    ")"
   ]
  },
  {
   "cell_type": "markdown",
   "id": "9fcdfcdf-5716-446c-88db-1f11639e41c4",
   "metadata": {},
   "source": [
    "## Deploy Model"
   ]
  },
  {
   "cell_type": "code",
   "execution_count": null,
   "id": "205e4f89-d6ac-47e1-9133-801b3a14911a",
   "metadata": {},
   "outputs": [],
   "source": [
    "endpoint = model.deploy(machine_type=\"n1-standard-4\")"
   ]
  },
  {
   "cell_type": "markdown",
   "id": "d57fb262-9290-4a7f-bc0f-4d55de4995e7",
   "metadata": {},
   "source": [
    "## Prediction Dataset Preparation and Online Prediction"
   ]
  },
  {
   "cell_type": "code",
   "execution_count": null,
   "id": "9b3e56d6-5ceb-4744-a317-8e922f15fd7c",
   "metadata": {},
   "outputs": [],
   "source": [
    "def read_data(uri):\n",
    "    dataset_path = data_utils.get_file(\"abalone_test.data\", uri)\n",
    "    col_names = [\n",
    "        \"Length\",\n",
    "        \"Diameter\",\n",
    "        \"Height\",\n",
    "        \"Whole weight\",\n",
    "        \"Shucked weight\",\n",
    "        \"Viscera weight\",\n",
    "        \"Shell weight\",\n",
    "        \"Age\",\n",
    "    ]\n",
    "    dataset = pd.read_csv(\n",
    "        dataset_path,\n",
    "        names=col_names,\n",
    "        na_values=\"?\",\n",
    "        comment=\"\\t\",\n",
    "        sep=\",\",\n",
    "        skipinitialspace=True,\n",
    "    )\n",
    "    return dataset\n",
    "\n",
    "\n",
    "def get_features_and_labels(df):\n",
    "    target = \"Age\"\n",
    "    return df.drop(target, axis=1).values, df[target].values\n",
    "\n",
    "\n",
    "test_dataset, test_labels = get_features_and_labels(\n",
    "    read_data(\n",
    "        \"https://storage.googleapis.com/download.tensorflow.org/data/abalone_test.csv\"\n",
    "    )\n",
    ")"
   ]
  },
  {
   "cell_type": "markdown",
   "id": "091c8479-72a2-4953-b5af-015cbf17affd",
   "metadata": {},
   "source": [
    "## Perform Online Prediction"
   ]
  },
  {
   "cell_type": "code",
   "execution_count": null,
   "id": "6fb7f231-f4b7-4011-a578-c70d17f5217c",
   "metadata": {},
   "outputs": [],
   "source": [
    "prediction = endpoint.predict(test_dataset.tolist())\n",
    "prediction"
   ]
  },
  {
   "cell_type": "code",
   "execution_count": null,
   "id": "97758764-6b93-40f3-8b40-5a15b5a13275",
   "metadata": {},
   "outputs": [],
   "source": [
    "## Calculate and track prediction evaluation metrics\n",
    "\n",
    "mse = mean_squared_error(test_labels, prediction.predictions)\n",
    "mae = mean_absolute_error(test_labels, prediction.predictions)\n",
    "\n",
    "aiplatform.log_metrics({\"mse\": mse, \"mae\": mae})"
   ]
  },
  {
   "cell_type": "code",
   "execution_count": null,
   "id": "055597b5-bcb2-4442-ae67-aa709a8a23b5",
   "metadata": {},
   "outputs": [],
   "source": [
    "## Extract all the parameters and metrics\n",
    "\n",
    "aiplatform.get_experiment_df()"
   ]
  },
  {
   "cell_type": "code",
   "execution_count": null,
   "id": "3bf0ed5c-3fc4-4353-bd87-b29f25431ec3",
   "metadata": {},
   "outputs": [],
   "source": [
    "print(\"Vertex AI Experiments:\")\n",
    "print(\n",
    "    f\"https://console.cloud.google.com/ai/platform/experiments/experiments?folder=&organizationId=&project={PROJECT}\"\n",
    ")"
   ]
  },
  {
   "cell_type": "markdown",
   "id": "3fd65263-b44f-4744-a939-145fabe3fcd3",
   "metadata": {},
   "source": [
    "## Cleaning Up"
   ]
  },
  {
   "cell_type": "code",
   "execution_count": null,
   "id": "b67f58cb-75a1-47a5-99c4-8802d23a7ad9",
   "metadata": {},
   "outputs": [],
   "source": [
    "# Warning: Setting this to true will delete everything in your bucket\n",
    "delete_bucket = False\n",
    "\n",
    "# Delete dataset\n",
    "ds.delete()\n",
    "\n",
    "# Delete the training job\n",
    "job.delete()\n",
    "\n",
    "# Undeploy model from endpoint\n",
    "endpoint.undeploy_all()\n",
    "\n",
    "# Delete the endpoint\n",
    "endpoint.delete()\n",
    "\n",
    "# Delete the model\n",
    "model.delete()\n",
    "\n",
    "\n",
    "if delete_bucket or os.getenv(\"IS_TESTING\"):\n",
    "    ! gsutil -m rm -r $BUCKET_URI"
   ]
  },
  {
   "cell_type": "code",
   "execution_count": null,
   "id": "2c227f5b-7f31-40c5-aa15-c1122502a518",
   "metadata": {},
   "outputs": [],
   "source": []
  }
 ],
 "metadata": {
  "environment": {
   "kernel": "python3",
   "name": "tf2-gpu.2-10.m98",
   "type": "gcloud",
   "uri": "gcr.io/deeplearning-platform-release/tf2-gpu.2-10:m98"
  },
  "kernelspec": {
   "display_name": "Python 3",
   "language": "python",
   "name": "python3"
  },
  "language_info": {
   "codemirror_mode": {
    "name": "ipython",
    "version": 3
   },
   "file_extension": ".py",
   "mimetype": "text/x-python",
   "name": "python",
   "nbconvert_exporter": "python",
   "pygments_lexer": "ipython3",
   "version": "3.7.12"
  }
 },
 "nbformat": 4,
 "nbformat_minor": 5
}
