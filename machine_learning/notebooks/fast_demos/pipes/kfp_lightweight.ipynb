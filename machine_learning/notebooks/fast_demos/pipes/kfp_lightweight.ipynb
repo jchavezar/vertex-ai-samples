{
 "cells": [
  {
   "attachments": {},
   "cell_type": "markdown",
   "metadata": {},
   "source": [
    "### Create Component"
   ]
  },
  {
   "cell_type": "code",
   "execution_count": 22,
   "metadata": {},
   "outputs": [],
   "source": [
    "from kfp.dsl import component, pipeline\n",
    "\n",
    "@component\n",
    "def adding(a: int, b: int)->str:\n",
    "    return str(a+b)\n",
    "\n",
    "@component\n",
    "def diff(a: str, b: int)->int:\n",
    "    return int(a)-b"
   ]
  },
  {
   "attachments": {},
   "cell_type": "markdown",
   "metadata": {},
   "source": [
    "### Create Pipeline"
   ]
  },
  {
   "cell_type": "code",
   "execution_count": 23,
   "metadata": {},
   "outputs": [],
   "source": [
    "@pipeline(name='kfp-lightw-pipe')\n",
    "def pipeline(a: int, b: int):\n",
    "    sum_job = adding(a=a,b=b)\n",
    "    diff_job = diff(a=sum_job.output, b=b)"
   ]
  },
  {
   "attachments": {},
   "cell_type": "markdown",
   "metadata": {},
   "source": [
    "### Compile Pipeline"
   ]
  },
  {
   "cell_type": "code",
   "execution_count": 24,
   "metadata": {},
   "outputs": [],
   "source": [
    "from kfp import compiler\n",
    "\n",
    "compiler.Compiler().compile(\n",
    "    pipeline_func=pipeline,\n",
    "    package_path='pipeline.yaml')"
   ]
  },
  {
   "attachments": {},
   "cell_type": "markdown",
   "metadata": {},
   "source": [
    "### Create Template and Upload Pipeline to Registry"
   ]
  },
  {
   "cell_type": "code",
   "execution_count": 25,
   "metadata": {},
   "outputs": [],
   "source": [
    "from kfp.registry import RegistryClient\n",
    "\n",
    "client = RegistryClient(host=f\"https://us-central1-kfp.pkg.dev/vtxdemos/kfp-repo\")"
   ]
  },
  {
   "cell_type": "code",
   "execution_count": 26,
   "metadata": {},
   "outputs": [],
   "source": [
    "templateName, versionName = client.upload_pipeline(\n",
    "  file_name=\"pipeline.yaml\",\n",
    "  tags=[\"v1\", \"latest\"]\n",
    "  )"
   ]
  },
  {
   "attachments": {},
   "cell_type": "markdown",
   "metadata": {},
   "source": [
    "### Run Pipeline"
   ]
  },
  {
   "cell_type": "code",
   "execution_count": 27,
   "metadata": {},
   "outputs": [],
   "source": [
    "from google.cloud import aiplatform\n",
    "\n",
    "aiplatform.init(project=\"vtxdemos\", staging_bucket=\"gs://vtxdemos-tmp\")\n",
    "\n",
    "job = aiplatform.PipelineJob(\n",
    "    display_name=\"hello-world-latest\",\n",
    "    template_path=\"https://us-central1-kfp.pkg.dev/vtxdemos/kfp-repo/kfp-lightw-pipe/v1\",\n",
    "    parameter_values={\n",
    "        \"a\":10,\n",
    "        \"b\":5\n",
    "    })"
   ]
  },
  {
   "cell_type": "code",
   "execution_count": 28,
   "metadata": {},
   "outputs": [
    {
     "name": "stdout",
     "output_type": "stream",
     "text": [
      "Creating PipelineJob\n",
      "PipelineJob created. Resource name: projects/254356041555/locations/us-central1/pipelineJobs/kfp-lightw-pipe-20230524175341\n",
      "To use this PipelineJob in another session:\n",
      "pipeline_job = aiplatform.PipelineJob.get('projects/254356041555/locations/us-central1/pipelineJobs/kfp-lightw-pipe-20230524175341')\n",
      "View Pipeline Job:\n",
      "https://console.cloud.google.com/vertex-ai/locations/us-central1/pipelines/runs/kfp-lightw-pipe-20230524175341?project=254356041555\n"
     ]
    }
   ],
   "source": [
    "job.submit()"
   ]
  },
  {
   "cell_type": "code",
   "execution_count": null,
   "metadata": {},
   "outputs": [],
   "source": []
  }
 ],
 "metadata": {
  "kernelspec": {
   "display_name": "vertex",
   "language": "python",
   "name": "python3"
  },
  "language_info": {
   "codemirror_mode": {
    "name": "ipython",
    "version": 3
   },
   "file_extension": ".py",
   "mimetype": "text/x-python",
   "name": "python",
   "nbconvert_exporter": "python",
   "pygments_lexer": "ipython3",
   "version": "3.9.0"
  },
  "orig_nbformat": 4
 },
 "nbformat": 4,
 "nbformat_minor": 2
}
